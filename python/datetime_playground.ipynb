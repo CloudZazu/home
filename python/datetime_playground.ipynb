{
 "cells": [
  {
   "cell_type": "code",
   "execution_count": 44,
   "metadata": {},
   "outputs": [],
   "source": [
    "def daterange_by_interval(start_date, end_date, interval=2):\n",
    "    \"\"\"\n",
    "    Create a list of intervals for sql between usage\n",
    "    :param start_date: First date in the range, inclusive.\n",
    "    :param end_date: Last date in the range, inclusive.\n",
    "    :param interval: integer representing days\n",
    "    :return: list of [start_date, end_date]\n",
    "    \"\"\"\n",
    "    if not interval:\n",
    "        raise Exception('Invalid interval - Should be greater than zero')\n",
    "        \n",
    "    cur_date = start_date\n",
    "    \n",
    "    while cur_date <= end_date:\n",
    "        target_date = cur_date + datetime.timedelta(days=interval-1)\n",
    "        if target_date == end_date:\n",
    "            target_date = end_date + datetime.timedelta(days=1)\n",
    "        yield (cur_date, target_date)\n",
    "        cur_date = target_date # + datetime.timedelta(days=1) # offset for next chunk"
   ]
  },
  {
   "cell_type": "code",
   "execution_count": 45,
   "metadata": {},
   "outputs": [
    {
     "name": "stdout",
     "output_type": "stream",
     "text": [
      "((datetime.date(2009, 1, 1), datetime.date(2009, 1, 2)), (datetime.date(2009, 1, 2), datetime.date(2009, 1, 3)), (datetime.date(2015, 6, 29), datetime.date(2015, 7, 1)))\n"
     ]
    }
   ],
   "source": [
    "import datetime\n",
    "\n",
    "start_date = datetime.datetime.strptime('01-01-2009', '%m-%d-%Y').date()\n",
    "end_date = datetime.datetime.strptime('06-30-2015', '%m-%d-%Y').date()\n",
    "\n",
    "dates = [date for date in daterange_by_interval(start_date, end_date, interval=2)]\n",
    "print((dates[0], dates[1], dates[-1]))"
   ]
  },
  {
   "cell_type": "code",
   "execution_count": 4,
   "metadata": {},
   "outputs": [
    {
     "data": {
      "text/plain": [
       "'2009-01-01'"
      ]
     },
     "execution_count": 4,
     "metadata": {},
     "output_type": "execute_result"
    }
   ],
   "source": [
    "dates[0][0].isoformat()"
   ]
  },
  {
   "cell_type": "code",
   "execution_count": 38,
   "metadata": {},
   "outputs": [],
   "source": [
    "query = \"\"\"SELECT COUNT(1) FROM nyc_taxi_fare_prediction.test_features WHERE key_temp BETWEEN '{start_date}' AND '{end_date}'\"\"\""
   ]
  },
  {
   "cell_type": "code",
   "execution_count": 39,
   "metadata": {},
   "outputs": [],
   "source": [
    "import teradatasql\n",
    "\n",
    "values = list()\n",
    "\n",
    "with teradatasql.connect(host='sdt25548.labs.teradata.com', user='dbc', password='dbc') as conn:\n",
    "    with conn.cursor() as cursor:\n",
    "        for start_date, end_date in dates:\n",
    "            cursor.execute(query.format(start_date=start_date.isoformat(),\n",
    "                                        end_date=end_date.isoformat()))\n",
    "            rows = cursor.fetchall()\n",
    "            row_count = rows[0][0]\n",
    "            values.append(row_count)"
   ]
  },
  {
   "cell_type": "code",
   "execution_count": 40,
   "metadata": {},
   "outputs": [
    {
     "data": {
      "text/plain": [
       "10744136"
      ]
     },
     "execution_count": 40,
     "metadata": {},
     "output_type": "execute_result"
    }
   ],
   "source": [
    "sum(values)"
   ]
  }
 ],
 "metadata": {
  "kernelspec": {
   "display_name": "Python 3",
   "language": "python",
   "name": "python3"
  },
  "language_info": {
   "codemirror_mode": {
    "name": "ipython",
    "version": 3
   },
   "file_extension": ".py",
   "mimetype": "text/x-python",
   "name": "python",
   "nbconvert_exporter": "python",
   "pygments_lexer": "ipython3",
   "version": "3.8.4"
  }
 },
 "nbformat": 4,
 "nbformat_minor": 4
}
