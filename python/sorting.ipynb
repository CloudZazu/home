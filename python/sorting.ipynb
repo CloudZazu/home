{
 "cells": [
  {
   "cell_type": "code",
   "execution_count": 5,
   "metadata": {},
   "outputs": [
    {
     "name": "stdout",
     "output_type": "stream",
     "text": [
      "-2\n",
      "[-4, -2, 5, 0, 2, 1, 9]\n",
      "9\n",
      "[-4, -2, 5, 0, 2, 1, 9]\n",
      "1\n",
      "[-4, -2, 0, 1, 2, 5, 9]\n",
      "5\n",
      "[-4, -2, 0, 1, 2, 5, 9]\n",
      "[-4, -2, 0, 1, 2, 5, 9]\n"
     ]
    }
   ],
   "source": [
    "# Quick sort\n",
    "\n",
    "def partition(arr,low,high): \n",
    "    i = ( low-1 )         # index of smaller element \n",
    "    pivot = arr[high]     # pivot \n",
    "    print(pivot)\n",
    "    for j in range(low , high): \n",
    "        # If current element is smaller than the pivot \n",
    "        if   arr[j] < pivot: \n",
    "          \n",
    "            # increment index of smaller element \n",
    "            i = i+1 \n",
    "            arr[i],arr[j] = arr[j],arr[i] \n",
    "  \n",
    "    arr[i+1],arr[high] = arr[high],arr[i+1] \n",
    "    return ( i+1 ) \n",
    "  \n",
    "# The main function that implements QuickSort \n",
    "# arr[] --> Array to be sorted, \n",
    "# low  --> Starting index, \n",
    "# high  --> Ending index \n",
    "  \n",
    "# Function to do Quick sort \n",
    "def quickSort(arr,low,high): \n",
    "    if low < high: \n",
    "  \n",
    "        # pi is partitioning index, arr[p] is now \n",
    "        # at right place \n",
    "        pi = partition(arr,low,high) \n",
    "        print(arr)\n",
    "        # Separately sort elements before \n",
    "        # partition and after partition \n",
    "        quickSort(arr, low, pi-1) \n",
    "        quickSort(arr, pi+1, high) \n",
    "\n",
    "arr = [1,9,5,0,2,-4,-2]\n",
    "quickSort(arr, 0, len(arr)-1)\n",
    "print(arr)"
   ]
  },
  {
   "cell_type": "code",
   "execution_count": 47,
   "metadata": {},
   "outputs": [
    {
     "name": "stdout",
     "output_type": "stream",
     "text": [
      "[-12, -4, -2, 1, 2, 5, 9]\n"
     ]
    }
   ],
   "source": [
    "def quickSort(arr, start, end):\n",
    "    if start >= end:\n",
    "        return\n",
    "    \n",
    "    left, right = start, end\n",
    "    pivot = arr[(left+right) // 2]\n",
    "\n",
    "    while left <= right:\n",
    "        while left <= right and arr[left] < pivot:\n",
    "            left += 1\n",
    "            \n",
    "        while left <= right and arr[right] > pivot:\n",
    "            right -= 1\n",
    "        \n",
    "        if left <= right:\n",
    "            arr[left], arr[right] = arr[right], arr[left]\n",
    "            left += 1\n",
    "            right -= 1\n",
    "\n",
    "    quickSort(arr, start, right)\n",
    "    quickSort(arr, left, end)\n",
    "\n",
    "arr = [1,9,5,-12,2,-4,-2]\n",
    "quickSort(arr, 0, len(arr)-1)\n",
    "\n",
    "print(arr)"
   ]
  },
  {
   "cell_type": "code",
   "execution_count": 50,
   "metadata": {},
   "outputs": [
    {
     "name": "stdout",
     "output_type": "stream",
     "text": [
      "[-12, -4, -2, 1, 2, 5, 9]\n"
     ]
    }
   ],
   "source": [
    "def bubbleSort(arr, start, end):\n",
    "    \n",
    "    for i in range(end):\n",
    "        for j in range(end-i):\n",
    "            if arr[j] > arr[j+1]:\n",
    "                arr[j], arr[j+1] = arr[j+1], arr[j]\n",
    "                \n",
    "arr = [1,9,5,-12,2,-4,-2]\n",
    "bubbleSort(arr, 0, len(arr)-1)\n",
    "\n",
    "print(arr)"
   ]
  }
 ],
 "metadata": {
  "kernelspec": {
   "display_name": "Python 3",
   "language": "python",
   "name": "python3"
  },
  "language_info": {
   "codemirror_mode": {
    "name": "ipython",
    "version": 3
   },
   "file_extension": ".py",
   "mimetype": "text/x-python",
   "name": "python",
   "nbconvert_exporter": "python",
   "pygments_lexer": "ipython3",
   "version": "3.7.6"
  }
 },
 "nbformat": 4,
 "nbformat_minor": 4
}
