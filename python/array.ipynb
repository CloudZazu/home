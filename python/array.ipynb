{
 "cells": [
  {
   "cell_type": "code",
   "execution_count": 7,
   "metadata": {},
   "outputs": [
    {
     "name": "stdout",
     "output_type": "stream",
     "text": [
      "['t', 'h', 'e']\n",
      "deque(['the'])\n",
      "['s', 'k', 'y']\n",
      "deque(['sky', 'the'])\n",
      "['i', 's']\n",
      "deque(['is', 'sky', 'the'])\n",
      "['b', 'l', 'u', 'e']\n",
      "deque(['blue', 'is', 'sky', 'the'])\n",
      "['b', 'u', 't']\n",
      "deque(['but', 'blue', 'is', 'sky', 'the'])\n",
      "['m', 'a', 'y', 'b', 'e']\n",
      "deque(['maybe', 'but', 'blue', 'is', 'sky', 'the'])\n",
      "['s', 'e', 'x', 'y']\n",
      "deque(['sexy', 'maybe', 'but', 'blue', 'is', 'sky', 'the'])\n"
     ]
    },
    {
     "data": {
      "text/plain": [
       "'sexy maybe but blue is sky the'"
      ]
     },
     "execution_count": 7,
     "metadata": {},
     "output_type": "execute_result"
    }
   ],
   "source": [
    "from collections import deque\n",
    "\n",
    "def reverseWords(s: str) -> str:\n",
    "    left, right = 0, len(s) - 1\n",
    "    # remove leading spaces\n",
    "    while left <= right and s[left] == ' ':\n",
    "        left += 1\n",
    "\n",
    "    # remove trailing spaces\n",
    "    while left <= right and s[right] == ' ':\n",
    "        right -= 1\n",
    "\n",
    "    d, word = deque(), []\n",
    "    # push word by word in front of deque\n",
    "    while left <= right:\n",
    "        if s[left] == ' ' and word:\n",
    "            print(word)\n",
    "            d.appendleft(''.join(word))\n",
    "            print(d)\n",
    "            word = []\n",
    "        elif s[left] != ' ':\n",
    "            word.append(s[left])\n",
    "        left += 1\n",
    "    print(word)\n",
    "    d.appendleft(''.join(word))\n",
    "    \n",
    "    print(d)\n",
    "    return ' '.join(d)\n",
    "\n",
    "reverseWords('   the   sky   is   blue but maybe sexy')"
   ]
  }
 ],
 "metadata": {
  "kernelspec": {
   "display_name": "Python 3",
   "language": "python",
   "name": "python3"
  },
  "language_info": {
   "codemirror_mode": {
    "name": "ipython",
    "version": 3
   },
   "file_extension": ".py",
   "mimetype": "text/x-python",
   "name": "python",
   "nbconvert_exporter": "python",
   "pygments_lexer": "ipython3",
   "version": "3.7.6"
  }
 },
 "nbformat": 4,
 "nbformat_minor": 4
}
