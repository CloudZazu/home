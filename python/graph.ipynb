{
 "cells": [
  {
   "cell_type": "code",
   "execution_count": 2,
   "metadata": {},
   "outputs": [
    {
     "name": "stdout",
     "output_type": "stream",
     "text": [
      "Following are connected components\n",
      "[[0, 1], [2, 3, 4]]\n"
     ]
    }
   ],
   "source": [
    "class Graph: \n",
    "      \n",
    "    # init function to declare class variables \n",
    "    def __init__(self,V): \n",
    "        self.V = V \n",
    "        self.adj = [[] for i in range(V)] \n",
    "  \n",
    "    def DFSUtil(self, temp, v, visited): \n",
    "  \n",
    "        # Mark the current vertex as visited \n",
    "        visited[v] = True\n",
    "  \n",
    "        # Store the vertex to list \n",
    "        temp.append(v) \n",
    "  \n",
    "        # Repeat for all vertices adjacent \n",
    "        # to this vertex v \n",
    "        for i in self.adj[v]: \n",
    "            if visited[i] == False: \n",
    "                  \n",
    "                # Update the list \n",
    "                temp = self.DFSUtil(temp, i, visited) \n",
    "        return temp \n",
    "  \n",
    "    # method to add an undirected edge \n",
    "    def addEdge(self, v, w): \n",
    "        self.adj[v].append(w) \n",
    "        self.adj[w].append(v) \n",
    "  \n",
    "    # Method to retrieve connected components \n",
    "    # in an undirected graph \n",
    "    def connectedComponents(self): \n",
    "        visited = [] \n",
    "        cc = [] \n",
    "        for i in range(self.V): \n",
    "            visited.append(False) \n",
    "        for v in range(self.V): \n",
    "            if visited[v] == False: \n",
    "                temp = [] \n",
    "                cc.append(self.DFSUtil(temp, v, visited)) \n",
    "        return cc \n",
    "  \n",
    "# Driver Code \n",
    "if __name__==\"__main__\": \n",
    "      \n",
    "    # Create a graph given in the above diagram \n",
    "    # 5 vertices numbered from 0 to 4 \n",
    "    g = Graph(5); \n",
    "    g.addEdge(1, 0) \n",
    "    g.addEdge(2, 3) \n",
    "    g.addEdge(3, 4) \n",
    "    cc = g.connectedComponents() \n",
    "    print(\"Following are connected components\") \n",
    "    print(cc) \n",
    "  "
   ]
  },
  {
   "cell_type": "code",
   "execution_count": 3,
   "metadata": {},
   "outputs": [
    {
     "data": {
      "text/plain": [
       "2"
      ]
     },
     "execution_count": 3,
     "metadata": {},
     "output_type": "execute_result"
    }
   ],
   "source": [
    "def countComponents(n, edges):\n",
    "    count = n\n",
    " \n",
    "    root = [None]*n\n",
    "    # initialize each node is an island\n",
    "    for i in range(n):\n",
    "        root[i] = i    \n",
    "\n",
    " \n",
    "    for i in range(len(edges)): \n",
    "        x = edges[i][0]\n",
    "        y = edges[i][1]\n",
    " \n",
    "        xRoot = getRoot(root, x)\n",
    "        yRoot = getRoot(root, y)\n",
    " \n",
    "        if xRoot != yRoot:\n",
    "            count -= 1\n",
    "            root[xRoot] = yRoot\n",
    "        \n",
    "    return count\n",
    " \n",
    "def getRoot(arr, i):\n",
    "    while arr[i] != i:\n",
    "        i = arr[i]\n",
    "\n",
    "    return i\n",
    "\n",
    "countComponents(5, [[1,0],[2,3],[3,4]])"
   ]
  },
  {
   "cell_type": "code",
   "execution_count": 4,
   "metadata": {},
   "outputs": [
    {
     "name": "stdout",
     "output_type": "stream",
     "text": [
      "[[4, 9], [1, 0], [5, 6], [5, 10], [4, 3], [3, 2], [7, 1], [4, 5], [11, 4], [11, 1], [11, 10]]\n"
     ]
    }
   ],
   "source": [
    "arr = ['E','F','I','D','C','A','J','L','G','K','B','H']\n",
    "\n",
    "lookup = dict()\n",
    "\n",
    "for i in range(len(arr)):\n",
    "    key = arr[i]\n",
    "    lookup[key] = i\n",
    "    \n",
    "edges_full_str ='CK FE AJ AB CD DI LF CA HC HF HB'\n",
    "edges_split_list = edges_full_str.split()\n",
    "\n",
    "edges = list()\n",
    "for edges_str in edges_split_list:\n",
    "    xNode, yNode = edges_str[0], edges_str[1]\n",
    "    edges.append([lookup[xNode], lookup[yNode]])\n",
    "\n",
    "print(edges)"
   ]
  },
  {
   "cell_type": "code",
   "execution_count": 5,
   "metadata": {},
   "outputs": [
    {
     "data": {
      "text/plain": [
       "2"
      ]
     },
     "execution_count": 5,
     "metadata": {},
     "output_type": "execute_result"
    }
   ],
   "source": [
    "countComponents(len(arr), edges)"
   ]
  },
  {
   "cell_type": "code",
   "execution_count": 6,
   "metadata": {},
   "outputs": [
    {
     "data": {
      "text/plain": [
       "[[0, 1, 7, 11, 4, 9, 3, 2, 5, 6, 10], [8]]"
      ]
     },
     "execution_count": 6,
     "metadata": {},
     "output_type": "execute_result"
    }
   ],
   "source": [
    "class Graph:\n",
    "    def __init__(self, vertices):\n",
    "        self.vertices = vertices # vertices count\n",
    "        self.adj_matrix = [list() for i in range(self.vertices)]\n",
    "        \n",
    "    def add_edge(self, v, w):\n",
    "        self.adj_matrix[v].append(w)\n",
    "        self.adj_matrix[w].append(v)\n",
    "        \n",
    "    def DFS(self, tmp, v, visited):\n",
    "        tmp.append(v)\n",
    "        visited[v] = True\n",
    "\n",
    "        for node in self.adj_matrix[v]:\n",
    "            if not visited[node]:\n",
    "                tmp = self.DFS(tmp, node, visited)\n",
    "                \n",
    "        return tmp\n",
    "    \n",
    "    def connectedComponents(self):\n",
    "        visited = list()\n",
    "        cc = list()\n",
    "        \n",
    "        for i in range(self.vertices):\n",
    "            visited.append(False)\n",
    "            \n",
    "        for v in range(self.vertices):\n",
    "            if not visited[v]:\n",
    "                tmp = list()\n",
    "                cc.append(self.DFS(tmp, v, visited))\n",
    "        return cc\n",
    "    \n",
    "g = Graph(len(arr))\n",
    "\n",
    "for edge in edges:\n",
    "    g.add_edge(edge[0],edge[1])\n",
    "    \n",
    "g.connectedComponents()"
   ]
  }
 ],
 "metadata": {
  "kernelspec": {
   "display_name": "Python 3",
   "language": "python",
   "name": "python3"
  },
  "language_info": {
   "codemirror_mode": {
    "name": "ipython",
    "version": 3
   },
   "file_extension": ".py",
   "mimetype": "text/x-python",
   "name": "python",
   "nbconvert_exporter": "python",
   "pygments_lexer": "ipython3",
   "version": "3.7.6"
  }
 },
 "nbformat": 4,
 "nbformat_minor": 4
}
