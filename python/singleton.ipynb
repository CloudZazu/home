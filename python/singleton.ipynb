{
 "cells": [
  {
   "cell_type": "code",
   "execution_count": 14,
   "metadata": {},
   "outputs": [
    {
     "name": "stdout",
     "output_type": "stream",
     "text": [
      "<__main__.OnlyOne object at 0x0101A150>\n",
      "<__main__.OnlyOne object at 0x0101A6D0>\n",
      "<__main__.OnlyOne object at 0x0101A830>\n",
      "<__main__.OnlyOne object at 0x0101A150>\n",
      "<__main__.OnlyOne object at 0x0101A6D0>\n"
     ]
    }
   ],
   "source": [
    "# Singleton/SingletonPattern.py\n",
    "\n",
    "class OnlyOne:\n",
    "    class __OnlyOne:\n",
    "        def __init__(self, arg):\n",
    "            self.val = arg\n",
    "        def __str__(self):\n",
    "            return repr(self) + self.val\n",
    "    instance = None\n",
    "    def __init__(self, arg):\n",
    "        if not OnlyOne.instance:\n",
    "            OnlyOne.instance = OnlyOne.__OnlyOne(arg)\n",
    "        else:\n",
    "            OnlyOne.instance.val = arg\n",
    "    def __getattr__(self, name):\n",
    "        return getattr(self.instance, name)\n",
    "\n",
    "x = OnlyOne('sausage')\n",
    "print(x)\n",
    "y = OnlyOne('eggs')\n",
    "print(y)\n",
    "z = OnlyOne('spam')\n",
    "print(z)\n",
    "print(x)\n",
    "print(y)"
   ]
  },
  {
   "cell_type": "code",
   "execution_count": 8,
   "metadata": {},
   "outputs": [
    {
     "name": "stdout",
     "output_type": "stream",
     "text": [
      "<__main__.OnlyOne.__OnlyOne object at 0x061456D0>sausage\n",
      "<__main__.OnlyOne.__OnlyOne object at 0x061456D0>eggs\n",
      "<__main__.OnlyOne.__OnlyOne object at 0x061456D0>spam\n",
      "<__main__.OnlyOne.__OnlyOne object at 0x061456D0>spam\n",
      "<__main__.OnlyOne.__OnlyOne object at 0x061456D0>spam\n"
     ]
    }
   ],
   "source": [
    "# Singleton/NewSingleton.py\n",
    "\n",
    "class OnlyOne(object):\n",
    "    class __OnlyOne:\n",
    "        def __init__(self):\n",
    "            self.val = None\n",
    "        def __str__(self):\n",
    "            return repr(self) + self.val\n",
    "    instance = None\n",
    "    def __new__(cls): # __new__ always a classmethod\n",
    "        if not OnlyOne.instance:\n",
    "            OnlyOne.instance = OnlyOne.__OnlyOne()\n",
    "        return OnlyOne.instance\n",
    "    def __getattr__(self, name):\n",
    "        return getattr(self.instance, name)\n",
    "    def __setattr__(self, name):\n",
    "        return setattr(self.instance, name)\n",
    "\n",
    "x = OnlyOne()\n",
    "x.val = 'sausage'\n",
    "print(x)\n",
    "y = OnlyOne()\n",
    "y.val = 'eggs'\n",
    "print(y)\n",
    "z = OnlyOne()\n",
    "z.val = 'spam'\n",
    "print(z)\n",
    "print(x)\n",
    "print(y)"
   ]
  },
  {
   "cell_type": "code",
   "execution_count": 15,
   "metadata": {},
   "outputs": [
    {
     "name": "stdout",
     "output_type": "stream",
     "text": [
      "sausage\n",
      "eggs\n",
      "spam\n",
      "spam\n",
      "spam\n",
      "<__main__.Singleton object at 0x0101A050>\n",
      "<__main__.Singleton object at 0x0101A530>\n",
      "<__main__.Singleton object at 0x0101A570>\n"
     ]
    }
   ],
   "source": [
    "# Singleton/BorgSingleton.py\n",
    "# Alex Martelli's 'Borg'\n",
    "\n",
    "class Borg:\n",
    "    _shared_state = {}\n",
    "    def __init__(self):\n",
    "        self.__dict__ = self._shared_state\n",
    "\n",
    "class Singleton(Borg):\n",
    "    def __init__(self, arg):\n",
    "        Borg.__init__(self)\n",
    "        self.val = arg\n",
    "    def __str__(self): return self.val\n",
    "\n",
    "x = Singleton('sausage')\n",
    "print(x)\n",
    "y = Singleton('eggs')\n",
    "print(y)\n",
    "z = Singleton('spam')\n",
    "print(z)\n",
    "print(x)\n",
    "print(y)\n",
    "print(repr(z))\n",
    "print(repr(x))\n",
    "print(repr(y))"
   ]
  },
  {
   "cell_type": "code",
   "execution_count": 3,
   "metadata": {},
   "outputs": [
    {
     "name": "stdout",
     "output_type": "stream",
     "text": [
      "<__main__.Singleton object at 0x012516F0>sausage\n",
      "<__main__.Singleton object at 0x012516F0>eggs\n",
      "<__main__.Singleton object at 0x012516F0>spam\n",
      "<__main__.Singleton object at 0x012516F0>spam\n",
      "<__main__.Singleton object at 0x012516F0>spam\n",
      "<__main__.Singleton object at 0x012516F0>\n",
      "<__main__.Singleton object at 0x012516F0>\n",
      "<__main__.Singleton object at 0x012516F0>\n"
     ]
    }
   ],
   "source": [
    "# Singleton/ClassVariableSingleton.py\n",
    "class Singleton:\n",
    "    __instance = None\n",
    "    \n",
    "    def __new__(cls, val):\n",
    "\n",
    "        if Singleton.__instance is None:\n",
    "            Singleton.__instance = object.__new__(cls)\n",
    "\n",
    "        Singleton.__instance.val = val\n",
    "\n",
    "        return Singleton.__instance\n",
    "\n",
    "    def __str__(self):\n",
    "        return repr(self) + self.val\n",
    "    \n",
    "x = Singleton('sausage')\n",
    "print(x)\n",
    "y = Singleton('eggs')\n",
    "print(y)\n",
    "z = Singleton('spam')\n",
    "print(z)\n",
    "print(x)\n",
    "print(y)\n",
    "print(repr(z))\n",
    "print(repr(x))\n",
    "print(repr(y))"
   ]
  },
  {
   "cell_type": "code",
   "execution_count": 39,
   "metadata": {},
   "outputs": [
    {
     "name": "stdout",
     "output_type": "stream",
     "text": [
      "0\n",
      "<__main__.Singleton object at 0x01037A70>sausage\n",
      "1\n",
      "<__main__.Singleton object at 0x01037510>eggs\n",
      "2\n",
      "<__main__.Singleton object at 0x010372D0>spam\n",
      "3\n",
      "<__main__.Singleton object at 0x010372F0>spammy\n",
      "4\n",
      "<__main__.Singleton object at 0x01037410>dude\n",
      "5\n",
      "Count not create instance. Limit 4 reached\n",
      "<__main__.Singleton object at 0x01037C50>king\n",
      "<__main__.Singleton object at 0x01037A70>sausage\n",
      "<__main__.Singleton object at 0x01037510>eggs\n",
      "<__main__.Singleton object at 0x010372D0>spam\n",
      "<__main__.Singleton object at 0x010372F0>spammy\n",
      "<__main__.Singleton object at 0x01037410>dude\n",
      "<__main__.Singleton object at 0x01037A70>sausage\n",
      "<__main__.Singleton object at 0x010372D0>\n",
      "<__main__.Singleton object at 0x01037A70>\n",
      "<__main__.Singleton object at 0x01037510>\n"
     ]
    }
   ],
   "source": [
    "class Singleton(object):\n",
    "    _instances = []  # Keep track of instance reference\n",
    "    limit = 4\n",
    " \n",
    "    def __new__(cls, val):\n",
    "        print(len(cls._instances))\n",
    "        if not len(cls._instances) <= cls.limit:\n",
    "            print(\"Count not create instance. Limit %s reached\" % cls.limit)  \n",
    "        instance = object.__new__(cls)\n",
    "        instance.val = val\n",
    "        cls._instances.append(instance)\n",
    "        return instance\n",
    "    \n",
    "    def __del__(self):\n",
    "        # Remove instance from _instances \n",
    "        self._instance.remove(self)\n",
    "\n",
    "    def __str__(self):\n",
    "        return repr(self) + self.val\n",
    "x = Singleton('sausage')\n",
    "print(x)\n",
    "y = Singleton('eggs')\n",
    "print(y)\n",
    "z = Singleton('spam')\n",
    "print(z)\n",
    "g = Singleton('spammy')\n",
    "print(g)\n",
    "h = Singleton('dude')\n",
    "print(h)\n",
    "k = Singleton('king')\n",
    "print(k)\n",
    "print(x)\n",
    "print(y)\n",
    "print(z)\n",
    "print(g)\n",
    "print(h)\n",
    "print(x)\n",
    "print(repr(z))\n",
    "print(repr(x))\n",
    "print(repr(y))"
   ]
  }
 ],
 "metadata": {
  "kernelspec": {
   "display_name": "Python 3",
   "language": "python",
   "name": "python3"
  },
  "language_info": {
   "codemirror_mode": {
    "name": "ipython",
    "version": 3
   },
   "file_extension": ".py",
   "mimetype": "text/x-python",
   "name": "python",
   "nbconvert_exporter": "python",
   "pygments_lexer": "ipython3",
   "version": "3.6.1"
  }
 },
 "nbformat": 4,
 "nbformat_minor": 2
}
