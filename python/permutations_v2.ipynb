{
 "cells": [
  {
   "cell_type": "code",
   "execution_count": 39,
   "metadata": {},
   "outputs": [],
   "source": [
    "# 3 letters -> 6 combos -> 3*2*1\n",
    "# abc -> abc, acb, bac, bca, cab, cba\n",
    "# abc -> abc - a - bc, cb\n",
    "#     -> abc - b - ac, ca\n",
    "#     -> abc - c - ab, ba\n",
    "\n",
    "def get_permutations(word):\n",
    "    return permutations(word)\n",
    "    \n",
    "def permutations(word):\n",
    "    if not word:\n",
    "        return ['']\n",
    "    \n",
    "    current_perms = list()\n",
    "    \n",
    "    for idx, char in enumerate(word):\n",
    "        print(word)\n",
    "        # abc -> a | bc -> b|c -> c | ''\n",
    "        # cb, bc -> pushed to a\n",
    "        \n",
    "        subperms = permutations(word.replace(char, \"\", 1))\n",
    "        print(subperms)\n",
    "        for subperm in subperms:\n",
    "            current_perms.append(char + subperm)\n",
    "            \n",
    "    return current_perms"
   ]
  },
  {
   "cell_type": "code",
   "execution_count": 40,
   "metadata": {},
   "outputs": [
    {
     "name": "stdout",
     "output_type": "stream",
     "text": [
      "abc\n",
      "bc\n",
      "c\n",
      "['']\n",
      "['c']\n",
      "bc\n",
      "b\n",
      "['']\n",
      "['b']\n",
      "['bc', 'cb']\n",
      "abc\n",
      "ac\n",
      "c\n",
      "['']\n",
      "['c']\n",
      "ac\n",
      "a\n",
      "['']\n",
      "['a']\n",
      "['ac', 'ca']\n",
      "abc\n",
      "ab\n",
      "b\n",
      "['']\n",
      "['b']\n",
      "ab\n",
      "a\n",
      "['']\n",
      "['a']\n",
      "['ab', 'ba']\n"
     ]
    },
    {
     "data": {
      "text/plain": [
       "['abc', 'acb', 'bac', 'bca', 'cab', 'cba']"
      ]
     },
     "execution_count": 40,
     "metadata": {},
     "output_type": "execute_result"
    }
   ],
   "source": [
    "word = \"abc\"\n",
    "get_permutations(word)"
   ]
  },
  {
   "cell_type": "code",
   "execution_count": 44,
   "metadata": {},
   "outputs": [
    {
     "data": {
      "text/plain": [
       "['abc', 'acb', 'bac', 'bca', 'cba', 'cab']"
      ]
     },
     "execution_count": 44,
     "metadata": {},
     "output_type": "execute_result"
    }
   ],
   "source": [
    "def get_permutations(word):\n",
    "    results = list()\n",
    "    permutations(0, len(word), list(word), results)\n",
    "    \n",
    "    return results\n",
    "\n",
    "# abc -> a start_idx: 0 -> ab start_idx: 1 -> abc start_idx:2 -> start_idx:3 appendabc\n",
    "\n",
    "def permutations(start_idx, end_idx, word, results):\n",
    "    if start_idx == end_idx:\n",
    "        results.append(''.join(word))\n",
    "        return\n",
    "    \n",
    "    for i in range(start_idx, end_idx):\n",
    "        word[start_idx], word[i] = word[i], word[start_idx]\n",
    "        result = permutations(start_idx+1, end_idx, word, results)\n",
    "        word[start_idx], word[i] = word[i], word[start_idx]\n",
    "        \n",
    "\n",
    "word = \"abc\"\n",
    "get_permutations(word)"
   ]
  },
  {
   "cell_type": "code",
   "execution_count": 49,
   "metadata": {},
   "outputs": [
    {
     "data": {
      "text/plain": [
       "['abc', 'acb', 'bac', 'bca', 'cab', 'cba']"
      ]
     },
     "execution_count": 49,
     "metadata": {},
     "output_type": "execute_result"
    }
   ],
   "source": [
    "def get_permutations(word):\n",
    "    # bfs\n",
    "    results = list()\n",
    "    visited = [False for _ in range(len(word))]\n",
    "    permutations(visited, list(), word, results)\n",
    "    return results\n",
    "    \n",
    "def permutations(visited, substr, word, results):\n",
    "    \n",
    "    if len(substr) == len(word):\n",
    "        results.append(''.join(substr))\n",
    "        return\n",
    "    \n",
    "    for i in range(len(word)):\n",
    "        if visited[i]:\n",
    "            continue\n",
    "            \n",
    "        visited[i] = True\n",
    "        substr.append(word[i]) \n",
    "        permutations(visited, substr, word, results)\n",
    "        substr.pop()\n",
    "        visited[i] = False\n",
    "        \n",
    "word = \"abc\"\n",
    "get_permutations(word)"
   ]
  }
 ],
 "metadata": {
  "kernelspec": {
   "display_name": "Python 3",
   "language": "python",
   "name": "python3"
  },
  "language_info": {
   "codemirror_mode": {
    "name": "ipython",
    "version": 3
   },
   "file_extension": ".py",
   "mimetype": "text/x-python",
   "name": "python",
   "nbconvert_exporter": "python",
   "pygments_lexer": "ipython3",
   "version": "3.8.4"
  }
 },
 "nbformat": 4,
 "nbformat_minor": 4
}
