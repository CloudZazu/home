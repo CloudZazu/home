{
 "cells": [
  {
   "cell_type": "code",
   "execution_count": 16,
   "metadata": {},
   "outputs": [
    {
     "data": {
      "text/plain": [
       "-inf"
      ]
     },
     "execution_count": 16,
     "metadata": {},
     "output_type": "execute_result"
    }
   ],
   "source": [
    "# One transaction - buy one and sell one after\n",
    "\n",
    "def maxProfit(prices):\n",
    "    \"\"\"\n",
    "    :type prices: List[int]\n",
    "    :rtype: int\n",
    "    \"\"\"\n",
    "    maxProfit, minPrice = float('-inf'), float('inf')\n",
    "    \n",
    "    for price in prices:\n",
    "        minPrice = min(minPrice, price)\n",
    "        profit = price - minPrice\n",
    "        maxProfit = max(maxProfit, profit)\n",
    "        print(f'{minPrice} {profit} {maxProfit}')\n",
    "\n",
    "    return maxProfit\n",
    "\n",
    "def maxProfit(prices):\n",
    "    \n",
    "    maxProfit = float('-inf')\n",
    "    \n",
    "    for i in range(len(prices)):\n",
    "        for j in range(i, len(prices)):\n",
    "            maxProfit = max(maxProfit, prices[i]-prices[j])\n",
    "            \n",
    "    return maxProfit\n",
    "\n",
    "prices = [9,5,3,1]\n",
    "maxProfit(prices)"
   ]
  },
  {
   "cell_type": "code",
   "execution_count": null,
   "metadata": {},
   "outputs": [],
   "source": [
    "def maxProfit(self, prices):\n",
    "    if not prices:\n",
    "        return 0\n",
    "    \n",
    "    # forward traversal, profits record the max profit \n",
    "    # by the ith day, this is the first transaction\n",
    "    profits = []\n",
    "    max_profit = 0\n",
    "    current_min = prices[0]\n",
    "    for price in prices:\n",
    "        current_min = min(current_min, price)\n",
    "        max_profit = max(max_profit, price - current_min)\n",
    "        profits.append(max_profit)\n",
    "    \n",
    "    # backward traversal, max_profit records the max profit\n",
    "    # after the ith day, this is the second transaction \n",
    "    total_max = 0    \n",
    "    max_profit = 0\n",
    "    current_max = prices[-1]\n",
    "    for i in range(len(prices) - 1, -1, -1):\n",
    "        current_max = max(current_max, prices[i])\n",
    "        max_profit = max(max_profit, current_max - prices[i])\n",
    "        total_max = max(total_max, max_profit + profits[i])\n",
    "        \n",
    "    return total_max"
   ]
  }
 ],
 "metadata": {
  "kernelspec": {
   "display_name": "Python 3",
   "language": "python",
   "name": "python3"
  },
  "language_info": {
   "codemirror_mode": {
    "name": "ipython",
    "version": 3
   },
   "file_extension": ".py",
   "mimetype": "text/x-python",
   "name": "python",
   "nbconvert_exporter": "python",
   "pygments_lexer": "ipython3",
   "version": "3.7.6"
  }
 },
 "nbformat": 4,
 "nbformat_minor": 4
}
