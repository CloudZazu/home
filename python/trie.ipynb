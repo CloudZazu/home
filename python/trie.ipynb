{
 "cells": [
  {
   "cell_type": "code",
   "execution_count": 2,
   "metadata": {},
   "outputs": [
    {
     "name": "stdout",
     "output_type": "stream",
     "text": [
      "{'$': 'monkey'}\n",
      "{'m': {'o': {'o': {'o': {'$': 'mooo'}}, 'n': {'k': {'e': {'y': {'$': 'monkey'}}}}}}}\n"
     ]
    }
   ],
   "source": [
    "\n",
    "def buildTrie(words):\n",
    "    WORD_KEY = '$'\n",
    "\n",
    "    trie = {}\n",
    "    for word in words:\n",
    "        node = trie\n",
    "        for letter in word:\n",
    "            # retrieve the next node; If not found, create a empty node.\n",
    "            node = node.setdefault(letter, {})\n",
    "        # mark the existence of a word in trie node\n",
    "        node[WORD_KEY] = word\n",
    "    \n",
    "    print(node)\n",
    "    print(trie)\n",
    "words = ['mooo', 'monkey']\n",
    "\n",
    "buildTrie(words)"
   ]
  }
 ],
 "metadata": {
  "kernelspec": {
   "display_name": "Python 3",
   "language": "python",
   "name": "python3"
  },
  "language_info": {
   "codemirror_mode": {
    "name": "ipython",
    "version": 3
   },
   "file_extension": ".py",
   "mimetype": "text/x-python",
   "name": "python",
   "nbconvert_exporter": "python",
   "pygments_lexer": "ipython3",
   "version": "3.8.4"
  }
 },
 "nbformat": 4,
 "nbformat_minor": 4
}
