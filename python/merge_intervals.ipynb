{
 "cells": [
  {
   "cell_type": "code",
   "execution_count": 1,
   "metadata": {},
   "outputs": [
    {
     "name": "stdout",
     "output_type": "stream",
     "text": [
      "Free intervals: [3, 5]\n",
      "Free intervals: [4, 6][8, 9]\n",
      "Free intervals: [5, 7]\n"
     ]
    }
   ],
   "source": [
    "from heapq import *\n",
    "\n",
    "def find_employee_free_time(schedule):\n",
    "    n = len(schedule)\n",
    "    result = []\n",
    "    if schedule is None or n == 0:\n",
    "        return result\n",
    "\n",
    "    minHeap = []\n",
    "    # insert the first interval of each employee to the queue\n",
    "    for i in range(n):\n",
    "        heappush(minHeap, EmployeeInterval(schedule[i][0], i, 0))\n",
    "\n",
    "    previousInterval = minHeap[0].interval\n",
    "    while minHeap:\n",
    "        queueTop = heappop(minHeap)\n",
    "        # if previousInterval is not overlapping with the next interval, insert a free interval\n",
    "        if previousInterval.end < queueTop.interval.start:\n",
    "            result.append(Interval(previousInterval.end,\n",
    "                                   queueTop.interval.start))\n",
    "            previousInterval = queueTop.interval\n",
    "        else:  # overlapping intervals, update the previousInterval if needed\n",
    "            if previousInterval.end < queueTop.interval.end:\n",
    "                previousInterval = queueTop.interval\n",
    "\n",
    "        # if there are more intervals available for the same employee, add their next interval\n",
    "        employeeSchedule = schedule[queueTop.employeeIndex]\n",
    "        if len(employeeSchedule) > queueTop.intervalIndex + 1:\n",
    "            heappush(minHeap, EmployeeInterval(employeeSchedule[queueTop.intervalIndex + 1], queueTop.employeeIndex,\n",
    "                                               queueTop.intervalIndex + 1))\n",
    "\n",
    "    return result\n",
    "\n",
    "class Interval:\n",
    "    def __init__(self, start, end):\n",
    "        self.start = start\n",
    "        self.end = end\n",
    "\n",
    "    def print_interval(self):\n",
    "        print(\"[\" + str(self.start) + \", \" + str(self.end) + \"]\", end='')\n",
    "\n",
    "class EmployeeInterval:\n",
    "\n",
    "    def __init__(self, interval, employeeIndex, intervalIndex):\n",
    "        self.interval = interval  # interval representing employee's working hours\n",
    "        # index of the list containing working hours of this employee\n",
    "        self.employeeIndex = employeeIndex\n",
    "        self.intervalIndex = intervalIndex  # index of the interval in the employee list\n",
    "\n",
    "    def __lt__(self, other):\n",
    "        # min heap based on meeting.end\n",
    "        return self.interval.start < other.interval.start\n",
    "        \n",
    "def test():\n",
    "\n",
    "    input = [[Interval(1, 3), Interval(5, 6)], [\n",
    "        Interval(2, 3), Interval(6, 8)]]\n",
    "    print(\"Free intervals: \", end='')\n",
    "    for interval in find_employee_free_time(input):\n",
    "        interval.print_interval()\n",
    "    print()\n",
    "\n",
    "    input = [[Interval(1, 3), Interval(9, 12)], [\n",
    "        Interval(2, 4)], [Interval(6, 8)]]\n",
    "    print(\"Free intervals: \", end='')\n",
    "    for interval in find_employee_free_time(input):\n",
    "        interval.print_interval()\n",
    "    print()\n",
    "\n",
    "    input = [[Interval(1, 3)], [\n",
    "        Interval(2, 4)], [Interval(3, 5), Interval(7, 9)]]\n",
    "    print(\"Free intervals: \", end='')\n",
    "    for interval in find_employee_free_time(input):\n",
    "        interval.print_interval()\n",
    "    print()\n",
    "\n",
    "test()"
   ]
  },
  {
   "cell_type": "code",
   "execution_count": 1,
   "metadata": {},
   "outputs": [
    {
     "data": {
      "text/plain": [
       "[[4, 6]]"
      ]
     },
     "execution_count": 1,
     "metadata": {},
     "output_type": "execute_result"
    }
   ],
   "source": [
    "def merge(intervals_a, intervals_b):\n",
    "    i, j = 0, 0\n",
    "    start_idx, end_idx = 0, 1\n",
    "    result = list()\n",
    "    \n",
    "    while i < len(intervals_a) and j < len(intervals_b):\n",
    "        \n",
    "        # check if a overlaps b\n",
    "        a_overlaps_b = intervals_a[i][start_idx] >= intervals_b[j][start_idx] and \\\n",
    "            intervals_a[i][start_idx] <= intervals_b[j][end_idx]\n",
    "        \n",
    "        # check if b overlaps a\n",
    "        \n",
    "        b_overlaps_a = intervals_b[j][start_idx] >= intervals_a[i][start_idx] and \\\n",
    "            intervals_b[j][start_idx] <= intervals_a[j][end_idx]\n",
    "        \n",
    "        if a_overlaps_b or b_overlaps_a:\n",
    "            result.append([max(intervals_a[i][start_idx], intervals_b[j][start_idx]), \n",
    "                           min(intervals_a[i][end_idx], intervals_b[j][end_idx])])\n",
    "            \n",
    "        if intervals_a[i][end_idx] < intervals_b[j][end_idx]:\n",
    "            i += 1\n",
    "        else:\n",
    "            j += 1\n",
    "            \n",
    "    return result\n",
    "\n",
    "interval_dict = {'BLAH': [[4, 6]], 'NOS': [[1, 8]]}\n",
    "interval_a = interval_dict['BLAH']\n",
    "interval_b = interval_dict['NOS']\n",
    "merge(interval_a, interval_b)"
   ]
  }
 ],
 "metadata": {
  "kernelspec": {
   "display_name": "Python 3",
   "language": "python",
   "name": "python3"
  },
  "language_info": {
   "codemirror_mode": {
    "name": "ipython",
    "version": 3
   },
   "file_extension": ".py",
   "mimetype": "text/x-python",
   "name": "python",
   "nbconvert_exporter": "python",
   "pygments_lexer": "ipython3",
   "version": "3.7.6"
  }
 },
 "nbformat": 4,
 "nbformat_minor": 4
}
