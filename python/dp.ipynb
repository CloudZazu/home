{
 "cells": [
  {
   "cell_type": "code",
   "execution_count": 20,
   "metadata": {},
   "outputs": [],
   "source": [
    "def countways(bills, amount):\n",
    "    memo = dict()\n",
    "    return countwaysRecursive(bills, amount, max(bills), memo)\n",
    "\n",
    "def countwaysRecursive(bills, amount, maximum, memo):\n",
    "    if amount == 0:\n",
    "        return 1\n",
    "\n",
    "    if amount < 0:\n",
    "        return 0\n",
    "    \n",
    "    if (amount, maximum) in memo:\n",
    "        return memo[(amount, maximum)]\n",
    "    \n",
    "    ways = 0\n",
    "    \n",
    "    for bill in bills:\n",
    "        if bill <= maximum:\n",
    "            ways += countwaysRecursive(bills, amount-bill, bill, memo)\n",
    "    \n",
    "    memo[(amount, maximum)] = ways\n",
    "    \n",
    "    return ways\n",
    "\n",
    "# 5 1's, 1+1+1+2, 2+2+1, 5\n",
    "assert countways([1,2,5], 5) == 4\n",
    "assert countways([10, 20], 30) == 2\n",
    "assert countways([1, 2, 5, 10, 20, 50, 100], 35) == 162\n",
    "assert countways([1, 2, 3, 4, 5, 6, 7, 8, 9, 10, 11, 12, 13, 14, 15, 16, 17, 18, 19, 20, 21, 22, 23, 24, 25, 26, 27, 28, 29, 30, 31, 32, 33, 34, 35, 36, 37, 38, 39], 190) == 1266226541329"
   ]
  }
 ],
 "metadata": {
  "kernelspec": {
   "display_name": "Python 3",
   "language": "python",
   "name": "python3"
  },
  "language_info": {
   "codemirror_mode": {
    "name": "ipython",
    "version": 3
   },
   "file_extension": ".py",
   "mimetype": "text/x-python",
   "name": "python",
   "nbconvert_exporter": "python",
   "pygments_lexer": "ipython3",
   "version": "3.8.4"
  }
 },
 "nbformat": 4,
 "nbformat_minor": 4
}
