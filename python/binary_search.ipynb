{
 "cells": [
  {
   "cell_type": "code",
   "execution_count": 11,
   "metadata": {},
   "outputs": [
    {
     "name": "stdout",
     "output_type": "stream",
     "text": [
      "(0, 0, 1)\n",
      "(0, 0, 0)\n"
     ]
    },
    {
     "data": {
      "text/plain": [
       "0"
      ]
     },
     "execution_count": 11,
     "metadata": {},
     "output_type": "execute_result"
    }
   ],
   "source": [
    "def left_idx_binary_search(nums, target, left):\n",
    "    low = 0\n",
    "    high = len(nums)\n",
    "\n",
    "    while low < high:\n",
    "        mid = low + (high-low) // 2\n",
    "        print((mid, low, high))\n",
    "        if nums[mid] > target or (left and target == nums[mid]):\n",
    "            high = mid\n",
    "        else:\n",
    "            low = mid+1\n",
    "    print((mid, low, high))\n",
    "    return low\n",
    "\n",
    "nums = [5,7,8,8,8,10]\n",
    "nums = [9]\n",
    "left_idx_binary_search(nums, 8, False)"
   ]
  }
 ],
 "metadata": {
  "kernelspec": {
   "display_name": "Python 3",
   "language": "python",
   "name": "python3"
  },
  "language_info": {
   "codemirror_mode": {
    "name": "ipython",
    "version": 3
   },
   "file_extension": ".py",
   "mimetype": "text/x-python",
   "name": "python",
   "nbconvert_exporter": "python",
   "pygments_lexer": "ipython3",
   "version": "3.8.6"
  }
 },
 "nbformat": 4,
 "nbformat_minor": 4
}
