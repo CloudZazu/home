{
 "cells": [
  {
   "cell_type": "markdown",
   "metadata": {},
   "source": [
    "# Number of 1s"
   ]
  },
  {
   "cell_type": "code",
   "execution_count": 10,
   "metadata": {},
   "outputs": [
    {
     "name": "stdout",
     "output_type": "stream",
     "text": [
      "1\n",
      "it is a 1\n"
     ]
    },
    {
     "data": {
      "text/plain": [
       "1"
      ]
     },
     "execution_count": 10,
     "metadata": {},
     "output_type": "execute_result"
    }
   ],
   "source": [
    "a = 2 >> 1\n",
    "print(a)\n",
    "\n",
    "mask = 1\n",
    "\n",
    "# Mask count O(1)\n",
    "if a & mask:\n",
    "    print('it is a 1')\n",
    "\n",
    "# String count\n",
    "bin(a).count('1')\n",
    "\n",
    "\"\"\"\n",
    "Using bit operation to cancel a 1 in each round\n",
    "Think of a number in binary n = XXXXXX1000, n - 1 is XXXXXX0111. n & (n - 1) will be XXXXXX0000 which is just cancel the last 1\n",
    "n and n - 1 flips the least-significant 1-bit in n to 00\n",
    "Faster than the rest since you only care about the least significant 1-bit\n",
    "\"\"\"\n",
    "def hammingWeight( n):\n",
    "    \"\"\"\n",
    "    :type n: int\n",
    "    :rtype: int\n",
    "    \"\"\"\n",
    "    c = 0\n",
    "    while n:\n",
    "        n &= n - 1\n",
    "        c += 1\n",
    "    return c"
   ]
  },
  {
   "cell_type": "code",
   "execution_count": 12,
   "metadata": {},
   "outputs": [
    {
     "name": "stdout",
     "output_type": "stream",
     "text": [
      "0b01010101010101010101010101010101\n"
     ]
    }
   ],
   "source": [
    "# Given a 32-bit integer, swap the 1st and 2nd bit, 3rd and 4th bit, up til the 31st and 32nd bit.\n",
    "import collections\n",
    "\n",
    "def swap_bits(num):\n",
    "    # get the binary representation of that value\n",
    "    # you know its a 32 bit integer so for every two, you swap and place it on some queue\n",
    "    # join everything from the queue into a binary representation in the end\n",
    "    \n",
    "    binary_repr = bin(num)\n",
    "    binary_repr = binary_repr[2:] # ignores the 0b\n",
    "    \n",
    "    binary_repr_list = list(binary_repr)\n",
    "    binary_repr_list = collections.deque(binary_repr_list)\n",
    "    \n",
    "    INT_BIT_SIZE = 32\n",
    "    while len(binary_repr_list) < INT_BIT_SIZE:\n",
    "        binary_repr_list.appendleft('0')\n",
    "    \n",
    "    for i in range(0, INT_BIT_SIZE, 2):\n",
    "        binary_repr_list[i], binary_repr_list[i+1] = binary_repr_list[i+1], binary_repr_list[i]\n",
    "        \n",
    "    binary_repr_value = ''.join(binary_repr_list)\n",
    "    binary_repr_fmt = f'0b{binary_repr_value}'\n",
    "    print(binary_repr_fmt)\n",
    "    return binary_repr_fmt\n",
    "\n",
    "value = int('10101010101010101010101010101010', 2)\n",
    "assert swap_bits(value) == '0b01010101010101010101010101010101'"
   ]
  }
 ],
 "metadata": {
  "kernelspec": {
   "display_name": "Python 3",
   "language": "python",
   "name": "python3"
  },
  "language_info": {
   "codemirror_mode": {
    "name": "ipython",
    "version": 3
   },
   "file_extension": ".py",
   "mimetype": "text/x-python",
   "name": "python",
   "nbconvert_exporter": "python",
   "pygments_lexer": "ipython3",
   "version": "3.7.6"
  }
 },
 "nbformat": 4,
 "nbformat_minor": 4
}
