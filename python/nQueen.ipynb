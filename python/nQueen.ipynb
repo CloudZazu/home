{
 "cells": [
  {
   "cell_type": "code",
   "execution_count": 60,
   "metadata": {},
   "outputs": [],
   "source": [
    "def isSafe(i, j, board):\n",
    "    # -q--\n",
    "    # --q-\n",
    "    \n",
    "    # q---\n",
    "    # ---q\n",
    "    \n",
    "    for r in range(len(board)):\n",
    "        for c in range(len(board)):\n",
    "          # check if i,j share row with any queen\n",
    "          if board[r][c] == 'q' and i==r and j!=c: \n",
    "            return False\n",
    "        # check if i,j share column with any queen\n",
    "          elif board[r][c] == 'q' and j==c and i!=r:\n",
    "            return False\n",
    "        # check if i,j share diagonal with any queen\n",
    "          elif (i+j == c+r or i-j == c-r) and board[c][r] == 'q':\n",
    "            return False\n",
    "    return True "
   ]
  },
  {
   "cell_type": "code",
   "execution_count": 46,
   "metadata": {},
   "outputs": [
    {
     "data": {
      "text/plain": [
       "'\\n--q-\\nq---\\n---q\\n-q--\\n'"
      ]
     },
     "execution_count": 46,
     "metadata": {},
     "output_type": "execute_result"
    }
   ],
   "source": [
    "\"\"\"\n",
    "As input, your function will take a number n and a list of strings as board.\n",
    "Your function should return the updated list of strings, board, \n",
    "such that no queen denoted by q shares a row, column, or diagonal with another queen.\n",
    "\"\"\"\n",
    "n = 4\n",
    "board = [['-' for j in range(n)] for i in range(n)]\n",
    "\n",
    "\"\"\"\n",
    "--q-\n",
    "q---\n",
    "---q\n",
    "-q--\n",
    "\"\"\"\n",
    "# Base case is when its safe and when its at the last row\n",
    "# Iterate through each column per row for a safe spot"
   ]
  },
  {
   "cell_type": "code",
   "execution_count": 58,
   "metadata": {},
   "outputs": [],
   "source": [
    "def placeNQueens(n, board):\n",
    "  '''\n",
    "  To check whether index i,j is safe to place queen call isSafe(i, j, board)\n",
    "  True means it is safe, False means it is not\n",
    "  '''\n",
    "  return nQueens(0, n, board)[1]\n",
    "\n",
    "def nQueens(r, n, board):\n",
    "    if r == n:\n",
    "        return True, board\n",
    "    \n",
    "    # iterate each column\n",
    "    for i in range(n):\n",
    "        if isSafe(r, i, board):\n",
    "            board[r][i] = 'q'\n",
    "            isOkay, board = nQueens(r+1, n, board)\n",
    "            \n",
    "            if isOkay:\n",
    "                return True, board\n",
    "            \n",
    "            board[r][i] = '-'\n",
    "            \n",
    "    return False, board"
   ]
  },
  {
   "cell_type": "code",
   "execution_count": 59,
   "metadata": {},
   "outputs": [
    {
     "data": {
      "text/plain": [
       "[['-', 'q', '-', '-'],\n",
       " ['-', '-', '-', 'q'],\n",
       " ['q', '-', '-', '-'],\n",
       " ['-', '-', 'q', '-']]"
      ]
     },
     "execution_count": 59,
     "metadata": {},
     "output_type": "execute_result"
    }
   ],
   "source": [
    "placeNQueens(n, board.copy())"
   ]
  },
  {
   "cell_type": "code",
   "execution_count": 28,
   "metadata": {},
   "outputs": [
    {
     "name": "stdout",
     "output_type": "stream",
     "text": [
      "-q--\n",
      "---q\n",
      "q---\n",
      "--q-\n"
     ]
    }
   ],
   "source": [
    "def isSafe(i, j, board):\n",
    "  for c in range(len(board)):\n",
    "    for r in range(len(board)):\n",
    "      # check if i,j share row with any queen\n",
    "      if board[c][r] == 'q' and i==c and j!=r: \n",
    "        return False\n",
    "      # check if i,j share column with any queen\n",
    "      elif board[c][r] == 'q' and j==r and i!=c:\n",
    "        return False\n",
    "      # check if i,j share diagonal with any queen\n",
    "      elif (i+j == c+r or i-j == c-r) and board[c][r] == 'q':\n",
    "        return False\n",
    "  return True \n",
    "\n",
    "def nQueens(r, n, board):\n",
    "  # base case, when queens have been placed in all rows return\n",
    "  if r == n:\n",
    "    return True, board\n",
    "  # else in r-th row, check for every box whether it is suitable to place queen\n",
    "  for i in range(n):\n",
    "    if isSafe(r, i, board):\n",
    "      # if i-th columns is safe to place queen, place the queen there and check recursively for other rows\n",
    "      board[r][i] = 'q'\n",
    "      okay, board = nQueens(r+1, n, board)\n",
    "      # if all next queens were placed correctly, recursive call should return true, and we should return true here too\n",
    "      if okay:\n",
    "        return True, board\n",
    "      # else this is not a suitable box to place queen, and we should check for next box\n",
    "      board[r][i] = '-'\n",
    "  return False, board\n",
    "\n",
    "def placeNQueens(n, board):\n",
    "  return nQueens(0, n, board)[1]\n",
    "\n",
    "def main():\n",
    "  n = 4\n",
    "  board = [[\"-\" for _ in range(n)] for _ in range(n)]\n",
    "  qBoard = placeNQueens(n, board)\n",
    "  qBoard =  \"\\n\".join([\"\".join(x) for x in qBoard])\n",
    "  print (qBoard)\n",
    "main()"
   ]
  }
 ],
 "metadata": {
  "kernelspec": {
   "display_name": "Python 3",
   "language": "python",
   "name": "python3"
  },
  "language_info": {
   "codemirror_mode": {
    "name": "ipython",
    "version": 3
   },
   "file_extension": ".py",
   "mimetype": "text/x-python",
   "name": "python",
   "nbconvert_exporter": "python",
   "pygments_lexer": "ipython3",
   "version": "3.8.4"
  }
 },
 "nbformat": 4,
 "nbformat_minor": 4
}
