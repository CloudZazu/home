{
 "cells": [
  {
   "cell_type": "code",
   "execution_count": 1,
   "metadata": {},
   "outputs": [],
   "source": [
    "class Node:\n",
    "    def __init__(self, val):\n",
    "        self.val = val\n",
    "        self.left = None\n",
    "        self.right = None\n",
    "        \n",
    "root = Node(1)\n",
    "root.left = Node(2)\n",
    "root.right = Node(3)\n",
    "root.left.left = Node(4)\n",
    "root.left.right = Node(5)\n",
    "root.right.left = Node(6)\n",
    "root.right.right = Node(7)"
   ]
  },
  {
   "cell_type": "code",
   "execution_count": 11,
   "metadata": {},
   "outputs": [
    {
     "name": "stdout",
     "output_type": "stream",
     "text": [
      "deque([1])\n",
      "deque([2, 3])\n",
      "deque([4, 5, 6, 7])\n"
     ]
    },
    {
     "data": {
      "text/plain": [
       "2"
      ]
     },
     "execution_count": 11,
     "metadata": {},
     "output_type": "execute_result"
    }
   ],
   "source": [
    "# Print in level order and return depth\n",
    "from collections import deque\n",
    "\n",
    "def inLevelOrder(root):\n",
    "    \n",
    "    queue = deque()\n",
    "    queue.append((root, 0))\n",
    "    \n",
    "    while queue:\n",
    "        children = len(queue)\n",
    "        \n",
    "        currentLevel = deque()\n",
    "        for i in range(children):\n",
    "            node, depth = queue.popleft()\n",
    "            if node:\n",
    "                currentLevel.append(node.val)\n",
    "                if node.left:\n",
    "                    queue.append((node.left, depth+1))\n",
    "                if node.right:\n",
    "                    queue.append((node.right, depth+1))\n",
    "        print(currentLevel)\n",
    "    return depth\n",
    "\n",
    "inLevelOrder(root)\n",
    "    "
   ]
  },
  {
   "cell_type": "code",
   "execution_count": 12,
   "metadata": {},
   "outputs": [
    {
     "data": {
      "text/plain": [
       "3"
      ]
     },
     "execution_count": 12,
     "metadata": {},
     "output_type": "execute_result"
    }
   ],
   "source": [
    "def dfs(root):\n",
    "    if not root:\n",
    "        return 0\n",
    "    \n",
    "    return 1 + max(dfs(root.left), dfs(root.right))\n",
    "\n",
    "dfs(root)"
   ]
  },
  {
   "cell_type": "code",
   "execution_count": 4,
   "metadata": {},
   "outputs": [
    {
     "name": "stdout",
     "output_type": "stream",
     "text": [
      "Veena\n",
      "\tBob\n",
      "\t\tAlex\n",
      "\t\t\tHazel\n",
      "\t\tAlexander\n",
      "\t\tUma\n"
     ]
    }
   ],
   "source": [
    "# Given some relations, generate printTree\n",
    "# Veena -> Bob\n",
    "# Bob -> Alex, Alexander, Uma\n",
    "# Alex -> Hazel\n",
    "\n",
    "# Map appropriate data structure for this\n",
    "# Hash table - key: parent, value: child\n",
    "# Find the root by looping through all the children by key\n",
    "\n",
    "# DFS on some root and tab per level\n",
    "\n",
    "import collections\n",
    "\n",
    "data = [['Veena', 'Bob'], ['Bob', 'Alex'], ['Bob', 'Alexander'], ['Bob', 'Uma'], ['Alex', 'Hazel']]\n",
    "\n",
    "parent_children_mapping = collections.defaultdict(set)\n",
    "\n",
    "children_set = set()\n",
    "\n",
    "for item in data:\n",
    "    parent = item[0]\n",
    "    child = item[1]\n",
    "    parent_children_mapping[parent].add(child)\n",
    "    children_set.add(child)\n",
    "    \n",
    "root = None\n",
    "# assume one root\n",
    "for parent in parent_children_mapping.keys():\n",
    "    if parent not in children_set:\n",
    "        root = parent\n",
    "        break\n",
    "\n",
    "def dfs(root, parent_children_mapping, level):\n",
    "    level_tab = '\\t'*level\n",
    "    print(f'{level_tab}{root}')\n",
    "\n",
    "    children = parent_children_mapping[root]\n",
    "    \n",
    "    for child in children:\n",
    "        dfs(child, parent_children_mapping, level+1)\n",
    "    \n",
    "    \n",
    "dfs(root, parent_children_mapping, 0)\n",
    "\n",
    "    \n",
    "\n"
   ]
  }
 ],
 "metadata": {
  "kernelspec": {
   "display_name": "Python 3",
   "language": "python",
   "name": "python3"
  },
  "language_info": {
   "codemirror_mode": {
    "name": "ipython",
    "version": 3
   },
   "file_extension": ".py",
   "mimetype": "text/x-python",
   "name": "python",
   "nbconvert_exporter": "python",
   "pygments_lexer": "ipython3",
   "version": "3.7.6"
  }
 },
 "nbformat": 4,
 "nbformat_minor": 4
}
