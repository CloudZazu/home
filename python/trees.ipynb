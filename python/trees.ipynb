{
 "cells": [
  {
   "cell_type": "code",
   "execution_count": 1,
   "metadata": {},
   "outputs": [],
   "source": [
    "class Node:\n",
    "    def __init__(self, val):\n",
    "        self.val = val\n",
    "        self.left = None\n",
    "        self.right = None\n",
    "        \n",
    "root = Node(1)\n",
    "root.left = Node(2)\n",
    "root.right = Node(3)\n",
    "root.left.left = Node(4)\n",
    "root.left.right = Node(5)\n",
    "root.right.left = Node(6)\n",
    "root.right.right = Node(7)"
   ]
  },
  {
   "cell_type": "code",
   "execution_count": 11,
   "metadata": {},
   "outputs": [
    {
     "name": "stdout",
     "output_type": "stream",
     "text": [
      "deque([1])\n",
      "deque([2, 3])\n",
      "deque([4, 5, 6, 7])\n"
     ]
    },
    {
     "data": {
      "text/plain": [
       "2"
      ]
     },
     "execution_count": 11,
     "metadata": {},
     "output_type": "execute_result"
    }
   ],
   "source": [
    "# Print in level order and return depth\n",
    "from collections import deque\n",
    "\n",
    "def inLevelOrder(root):\n",
    "    \n",
    "    queue = deque()\n",
    "    queue.append((root, 0))\n",
    "    \n",
    "    while queue:\n",
    "        children = len(queue)\n",
    "        \n",
    "        currentLevel = deque()\n",
    "        for i in range(children):\n",
    "            node, depth = queue.popleft()\n",
    "            if node:\n",
    "                currentLevel.append(node.val)\n",
    "                if node.left:\n",
    "                    queue.append((node.left, depth+1))\n",
    "                if node.right:\n",
    "                    queue.append((node.right, depth+1))\n",
    "        print(currentLevel)\n",
    "    return depth\n",
    "\n",
    "inLevelOrder(root)\n",
    "    "
   ]
  },
  {
   "cell_type": "code",
   "execution_count": 12,
   "metadata": {},
   "outputs": [
    {
     "data": {
      "text/plain": [
       "3"
      ]
     },
     "execution_count": 12,
     "metadata": {},
     "output_type": "execute_result"
    }
   ],
   "source": [
    "def dfs(root):\n",
    "    if not root:\n",
    "        return 0\n",
    "    \n",
    "    return 1 + max(dfs(root.left), dfs(root.right))\n",
    "\n",
    "dfs(root)"
   ]
  },
  {
   "cell_type": "code",
   "execution_count": 4,
   "metadata": {},
   "outputs": [
    {
     "name": "stdout",
     "output_type": "stream",
     "text": [
      "Veena\n",
      "\tBob\n",
      "\t\tAlex\n",
      "\t\t\tHazel\n",
      "\t\tAlexander\n",
      "\t\tUma\n"
     ]
    }
   ],
   "source": [
    "# Given some relations, generate printTree\n",
    "# Veena -> Bob\n",
    "# Bob -> Alex, Alexander, Uma\n",
    "# Alex -> Hazel\n",
    "\n",
    "# Map appropriate data structure for this\n",
    "# Hash table - key: parent, value: child\n",
    "# Find the root by looping through all the children by key\n",
    "\n",
    "# DFS on some root and tab per level\n",
    "\n",
    "import collections\n",
    "\n",
    "data = [['Veena', 'Bob'], ['Bob', 'Alex'], ['Bob', 'Alexander'], ['Bob', 'Uma'], ['Alex', 'Hazel']]\n",
    "\n",
    "parent_children_mapping = collections.defaultdict(set)\n",
    "\n",
    "children_set = set()\n",
    "\n",
    "for item in data:\n",
    "    parent = item[0]\n",
    "    child = item[1]\n",
    "    parent_children_mapping[parent].add(child)\n",
    "    children_set.add(child)\n",
    "    \n",
    "root = None\n",
    "# assume one root\n",
    "for parent in parent_children_mapping.keys():\n",
    "    if parent not in children_set:\n",
    "        root = parent\n",
    "        break\n",
    "\n",
    "def dfs(root, parent_children_mapping, level):\n",
    "    level_tab = '\\t'*level\n",
    "    print(f'{level_tab}{root}')\n",
    "\n",
    "    children = parent_children_mapping[root]\n",
    "    \n",
    "    for child in children:\n",
    "        dfs(child, parent_children_mapping, level+1)\n",
    "    \n",
    "    \n",
    "dfs(root, parent_children_mapping, 0)"
   ]
  },
  {
   "cell_type": "code",
   "execution_count": 35,
   "metadata": {},
   "outputs": [],
   "source": [
    "class Node:\n",
    "    def __init__(self, val):\n",
    "        self.val = val\n",
    "        self.left = None\n",
    "        self.right = None\n",
    "        \n",
    "root = Node(1)\n",
    "root.left = Node(2)\n",
    "root.right = Node(3)\n",
    "root.left.left = Node(4)\n",
    "root.left.right = Node(5)\n",
    "root.right.left = Node(6)\n",
    "root.right.right = Node(7)\n",
    "root.left.left.left = Node(8)\n",
    "root.left.left.right = Node(9)"
   ]
  },
  {
   "cell_type": "code",
   "execution_count": 44,
   "metadata": {},
   "outputs": [
    {
     "data": {
      "text/plain": [
       "[['', '', '', '', '', '', '', '1', '', '', '', '', '', '', ''],\n",
       " ['', '', '', '2', '', '', '', '', '', '', '', '3', '', '', ''],\n",
       " ['', '4', '', '', '', '5', '', '', '', '6', '', '', '', '7', ''],\n",
       " ['8', '', '9', '', '', '', '', '', '', '', '', '', '', '', '']]"
      ]
     },
     "execution_count": 44,
     "metadata": {},
     "output_type": "execute_result"
    }
   ],
   "source": [
    "def printTree(root):\n",
    "    \"\"\"\n",
    "    :type root: TreeNode\n",
    "    :rtype: List[List[str]]\n",
    "    \"\"\"\n",
    "    def get_height(node):\n",
    "        return 0 if not node else 1 + max(get_height(node.left), get_height(node.right))\n",
    "\n",
    "    def update_output(node, row, left, right):\n",
    "        if not node:\n",
    "            return\n",
    "        mid = (left + right) // 2\n",
    "        output[row][mid] = str(node.val)\n",
    "        update_output(node.left, row + 1 , left, mid - 1)\n",
    "        update_output(node.right, row + 1 , mid + 1, right)\n",
    "\n",
    "    height = get_height(root)\n",
    "    width = (2 ** height) - 1\n",
    "    output = [[''] * width for i in range(height)]\n",
    "    update_output(node=root, row=0, left=0, right=width - 1)\n",
    "    return output  \n",
    "printTree(root)"
   ]
  },
  {
   "cell_type": "code",
   "execution_count": 53,
   "metadata": {},
   "outputs": [
    {
     "name": "stdout",
     "output_type": "stream",
     "text": [
      "(8, 0, 0)\n",
      "(9, 0, 0)\n",
      "(4, 2, 2)\n",
      "(5, 0, 2)\n",
      "(2, 6, 8)\n",
      "(6, 0, 8)\n",
      "(7, 0, 8)\n",
      "(3, 2, 10)\n",
      "(1, 16, 26)\n"
     ]
    }
   ],
   "source": [
    "# Calculate sum of depths\n",
    "\n",
    "def sumDepths(root):\n",
    "    result = dict()\n",
    "    result['cnt'] = 0\n",
    "    \n",
    "    def dfs(root, depth=0):\n",
    "        result['cnt'] += depth\n",
    "        \n",
    "        if root.left:\n",
    "            dfs(root.left, depth+1)\n",
    "            \n",
    "        if root.right:\n",
    "            dfs(root.right, depth+1)\n",
    "\n",
    "    dfs(root, 0)\n",
    "    \n",
    "    return result['cnt']\n",
    "\n",
    "def sumDepthsAllSubTrees(root):\n",
    "    result = dict()\n",
    "    result['cnt'] = 0\n",
    "    \n",
    "    def postOrder(root):\n",
    "        if not root:\n",
    "            return\n",
    "\n",
    "        if root.left:\n",
    "            postOrder(root.left)\n",
    "\n",
    "        if root.right:\n",
    "            postOrder(root.right)\n",
    "        \n",
    "        totalDepth = sumDepths(root)\n",
    "        result['cnt'] += totalDepth\n",
    "        print((root.val, totalDepth, result['cnt']))\n",
    "        \n",
    "    postOrder(root)\n",
    "    return result['cnt']\n",
    "\n",
    "assert sumDepthsAllSubTrees(root) == 26\n",
    "#sumDepthsAllSubTrees(root.left) == 8"
   ]
  },
  {
   "cell_type": "code",
   "execution_count": 70,
   "metadata": {},
   "outputs": [
    {
     "name": "stdout",
     "output_type": "stream",
     "text": [
      "defaultdict(<class 'list'>, {1: [2, 3], 2: [4, 5], 3: [6, 7], 4: [8, 9]})\n"
     ]
    },
    {
     "data": {
      "text/plain": [
       "{8: 0, 9: 0, 4: 1, 5: 0, 2: 2, 6: 0, 7: 0, 3: 1, 1: 3}"
      ]
     },
     "execution_count": 70,
     "metadata": {},
     "output_type": "execute_result"
    }
   ],
   "source": [
    "def getDepthsByNode(root):\n",
    "    result = dict()\n",
    "    \n",
    "    def dfs(root):\n",
    "        if not root:\n",
    "            return 0\n",
    "        \n",
    "        lheight, rheight = 0, 0\n",
    "        \n",
    "        if root.left:\n",
    "            lheight = dfs(root.left)\n",
    "        \n",
    "        if root.right:\n",
    "            rheight = dfs(root.right)\n",
    "        \n",
    "        depth = max(lheight, rheight)\n",
    "        \n",
    "        result[root.val] = depth\n",
    "        \n",
    "        return 1 + depth\n",
    "        \n",
    "    dfs(root)\n",
    "    \n",
    "    # compute parent_child relationships \n",
    "    import collections\n",
    "    \n",
    "    def bfs(root):\n",
    "        queue = collections.deque([root])\n",
    "        parent_child_mapping = collections.defaultdict(list)\n",
    "        nodes_mapping = dict()\n",
    "        \n",
    "        while queue:\n",
    "            for i in range(len(queue)):\n",
    "                node = queue.popleft()\n",
    "                nodes_mapping[node] = node\n",
    "                \n",
    "                if node.left:\n",
    "                    queue.append(node.left)\n",
    "                    parent_child_mapping[node.val].append(node.left.val)\n",
    "                    \n",
    "                if node.right:\n",
    "                    queue.append(node.right)\n",
    "                    parent_child_mapping[node.val].append(node.right.val)\n",
    "        return nodes_mapping, parent_child_mapping\n",
    "    \n",
    "    # derive total depths by targetNode\n",
    "    nodes_mapping, parent_child_mapping = bfs(root)\n",
    "    print(parent_child_mapping)\n",
    "        \n",
    "    return result\n",
    "\n",
    "getDepthsByNode(root)"
   ]
  },
  {
   "cell_type": "code",
   "execution_count": null,
   "metadata": {},
   "outputs": [],
   "source": [
    "# https://leetcode.com/problems/sum-of-distances-in-tree/"
   ]
  },
  {
   "cell_type": "code",
   "execution_count": null,
   "metadata": {},
   "outputs": [],
   "source": [
    "def maximumAverageSubtree(self, root: TreeNode) -> float:\n",
    "    max_avg = float('-inf')\n",
    "    nodes = 0\n",
    "    total = 0\n",
    "\n",
    "    def helper(root: TreeNode, max_avg: float, num_nodes: int, total: int):\n",
    "        if not root:\n",
    "            return 0, 0, 0\n",
    "\n",
    "        # track current value\n",
    "        cur_node_cnt = 1\n",
    "\n",
    "        # Rolling count\n",
    "        total = 0\n",
    "        rolling_max_avg = float('-inf')\n",
    "        children = [root.left, root.right]\n",
    "\n",
    "        for child in children:\n",
    "            if not child:\n",
    "                continue\n",
    "\n",
    "            num_subtree_nodes, subtree_max_avg, subtree_total = helper(child, max_avg, num_nodes, total)\n",
    "\n",
    "            rolling_max_avg = max(rolling_max_avg, subtree_max_avg)\n",
    "\n",
    "            # Subtree total calculated by subtree max average\n",
    "            total += subtree_total\n",
    "            cur_node_cnt += num_subtree_nodes # Account for itself and child nodes\n",
    "\n",
    "        total += root.val\n",
    "        #print((total, cur_node_cnt, rolling_max_avg))\n",
    "        max_avg = max(rolling_max_avg, total/cur_node_cnt)\n",
    "\n",
    "        return cur_node_cnt, max_avg, total\n",
    "\n",
    "    node_cnt, max_avg, total = helper(root, max_avg, nodes, total)\n",
    "\n",
    "    return max_avg if max_avg != float('-inf') else None"
   ]
  },
  {
   "cell_type": "code",
   "execution_count": null,
   "metadata": {},
   "outputs": [],
   "source": []
  }
 ],
 "metadata": {
  "kernelspec": {
   "display_name": "Python 3",
   "language": "python",
   "name": "python3"
  },
  "language_info": {
   "codemirror_mode": {
    "name": "ipython",
    "version": 3
   },
   "file_extension": ".py",
   "mimetype": "text/x-python",
   "name": "python",
   "nbconvert_exporter": "python",
   "pygments_lexer": "ipython3",
   "version": "3.8.4"
  }
 },
 "nbformat": 4,
 "nbformat_minor": 4
}
