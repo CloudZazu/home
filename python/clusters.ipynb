{
 "cells": [
  {
   "cell_type": "code",
   "execution_count": 14,
   "metadata": {},
   "outputs": [],
   "source": [
    "# Given a list of sorted numbers, and two integers k and x, find k closest numbers to the pivot x.\n",
    "import heapq\n",
    "\n",
    "def closest_nums(nums, k, x):\n",
    "    # easiest way to think about it is like\n",
    "    # [1,3,7,8,9] - take all the differences from x\n",
    "    # [4,2,2,3,4] - differences for the example\n",
    "    \n",
    "    # then you somehow map these two values out with some data structure\n",
    "    # Sort by differences and keep track of the lowest values\n",
    "    # sort normally takes nlogn so maybe we can use a heap to reduce it down to heapsort n time\n",
    "    \n",
    "    num_diff_list = [(num, abs(num-x)) for num in nums]\n",
    "    \n",
    "    #heapq.heapify(num_diff_list)\n",
    "    #heapq.sort(num_diff_list, key= lambda i: i[1])\n",
    "\n",
    "    smallest_k = heapq.nsmallest(k, num_diff_list, key= lambda i: i[1])\n",
    "    return [num for num, diff in smallest_k]\n",
    " \n",
    "assert closest_nums([1, 3, 7, 8, 9], 3, 5) == [3, 7, 8]"
   ]
  },
  {
   "cell_type": "code",
   "execution_count": 30,
   "metadata": {},
   "outputs": [],
   "source": [
    "def closest_nums(nums, k, x):\n",
    "    # Since nums is sorted, we can attempt to find the value prior to x via binary search\n",
    "    # Generate a heap from that value up to the max of k\n",
    "    # i.e [1,3,7,8,9] -> x=5, 3,7,8\n",
    "    def binary_search(nums, left, right, x):\n",
    "        \n",
    "        while left <= right:\n",
    "            \n",
    "            mid = left + (right-left)//2\n",
    "            \n",
    "            if nums[mid] == x:\n",
    "                break\n",
    "            elif nums[mid] < x:\n",
    "                left = mid+1\n",
    "            else:\n",
    "                right = mid-1\n",
    "                \n",
    "        return mid\n",
    "    \n",
    "        \n",
    "    low = binary_search(nums, 0, len(nums)-1, x)\n",
    "    low = min(low, 0)\n",
    "\n",
    "    high = low+k\n",
    "    high = min(high, len(nums)-1)\n",
    "    \n",
    "    min_heap = list()\n",
    "    \n",
    "    for i in range(low, high+1):\n",
    "        heapq.heappush(min_heap, (abs(nums[i]-x), nums[i]))\n",
    "    \n",
    "    res = list()\n",
    "    for _ in range(k):\n",
    "        res.append(heapq.heappop(min_heap)[1])\n",
    "    \n",
    "    res.sort()\n",
    "    \n",
    "    return res\n",
    " \n",
    "assert closest_nums([1, 3, 7, 8, 9], 3, 5) == [3, 7, 8]\n",
    "assert closest_nums([1, 3, 7], 3, 5) == [1, 3, 7]\n",
    "assert closest_nums([1, 3, 7], 2, 0) == [1, 3]"
   ]
  }
 ],
 "metadata": {
  "kernelspec": {
   "display_name": "Python 3",
   "language": "python",
   "name": "python3"
  },
  "language_info": {
   "codemirror_mode": {
    "name": "ipython",
    "version": 3
   },
   "file_extension": ".py",
   "mimetype": "text/x-python",
   "name": "python",
   "nbconvert_exporter": "python",
   "pygments_lexer": "ipython3",
   "version": "3.7.6"
  }
 },
 "nbformat": 4,
 "nbformat_minor": 4
}
