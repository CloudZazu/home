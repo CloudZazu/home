{
 "cells": [
  {
   "cell_type": "code",
   "execution_count": 33,
   "metadata": {},
   "outputs": [],
   "source": [
    "\"\"\"\n",
    "Given an unsorted array of integers, find the length of the longest consecutive elements sequence. \n",
    "Your algorithm should run in O(n) complexity. \n",
    "Example: Input: [100, 4, 200, 1, 3, 2] Output: 4 \n",
    "Explanation: The longest consecutive elements sequence is [1, 2, 3, 4] \n",
    "\"\"\"\n",
    "\n",
    "# Time complexity: O(nlogn), Space: O(n) - Assuming we cant mutate the input arr\n",
    "def longestConsecutiveSequenceSorted(arr):\n",
    "    # Since it is less than 2, there must be \n",
    "    if len(arr) < 2:\n",
    "        return len(arr)\n",
    "    \n",
    "    # Guarantee unique values \n",
    "    sorted_arr = sorted(set(arr))\n",
    "    \n",
    "    length = 1\n",
    "    max_length = 0\n",
    "    prev = sorted_arr[0]\n",
    "\n",
    "    for i in range(1, len(arr)):\n",
    "        if prev != sorted_arr[i]-1:\n",
    "            max_length = max(max_length, length)\n",
    "            length = 1\n",
    "        else:\n",
    "            length += 1\n",
    "            \n",
    "        prev = sorted_arr[i]\n",
    "    \n",
    "    if length:\n",
    "        max_length = max(max_length, length)\n",
    "        \n",
    "    return max_length\n",
    "\n",
    "# Time complexity: O(n), Space: O(n) - Assuming we cant mutate the input arr\n",
    "# Input: [100, 4, 200, 1, 3, 2]\n",
    "# 100 -> Look for 101 or 99 - mark it visited if available\n",
    "\n",
    "def longestConsecutiveSequenceLinear(arr):\n",
    "    visited = dict()\n",
    "    \n",
    "    unique_arr = set(arr)\n",
    "    max_length = 0\n",
    "    length = 0\n",
    "    \n",
    "    for i in range(len(arr)):\n",
    "        length = 0\n",
    "        \n",
    "        if arr[i] not in visited:\n",
    "            length += 1\n",
    "            \n",
    "            forward = arr[i]+1\n",
    "            while forward in unique_arr:\n",
    "                visited[forward] = 0\n",
    "                length += 1\n",
    "                forward += 1\n",
    "\n",
    "            backward = arr[i]-1\n",
    "            while backward in unique_arr:\n",
    "                visited[backward] = 0\n",
    "                length += 1\n",
    "                backward -= 1\n",
    "                \n",
    "            max_length = max(max_length, length)\n",
    "    \n",
    "    print(max_length)\n",
    "    return max_length\n",
    "        \n",
    "longestConsecutiveSequence = longestConsecutiveSequenceSorted\n",
    "\n",
    "# Size checks - arr empty, arr one item, arr 2+ items\n",
    "# Check for duplicates\n",
    "# Can we mutate the input arr?\n",
    "# Ideally, get -> max([100], [200], [1...4])\n",
    "assert longestConsecutiveSequence([100, 4, 200, 1, 3, 2]) == 4\n",
    "assert longestConsecutiveSequence([]) == 0\n",
    "assert longestConsecutiveSequence([1]) == 1\n",
    "assert longestConsecutiveSequence([9,1,4,3,100,9999]) == 2\n",
    "assert longestConsecutiveSequence([5,2,4,1,3]) == 5"
   ]
  },
  {
   "cell_type": "code",
   "execution_count": 5,
   "metadata": {},
   "outputs": [],
   "source": [
    "def reverseWords(string):\n",
    "    split_str = string.split()\n",
    "    if len(split_str) < 2:\n",
    "        return string\n",
    "    \n",
    "    front, rear = 0, len(split_str)-1\n",
    "    \n",
    "    while front < rear:\n",
    "        split_str[front], split_str[rear] = split_str[rear], split_str[front]\n",
    "        front += 1\n",
    "        rear -= 1\n",
    "\n",
    "    return ' '.join(split_str)\n",
    "\n",
    "assert reverseWords('this is something!') == 'something! is this'"
   ]
  },
  {
   "cell_type": "code",
   "execution_count": 14,
   "metadata": {},
   "outputs": [
    {
     "name": "stdout",
     "output_type": "stream",
     "text": [
      "['something', 'is', 'this!']\n",
      "['pass,', 'not', 'shall', 'you!']\n"
     ]
    }
   ],
   "source": [
    "# Assume punctuation characters - :;,.!?\n",
    "\n",
    "def getPunctuation(string):\n",
    "    punctuation_chars = [':', ';', '.', '!', '?', ',']\n",
    "    \n",
    "    new_str_list = list()\n",
    "    punctuation_list = list()\n",
    "    \n",
    "    for i in range(len(string)):\n",
    "        if string[i] in punctuation_chars:\n",
    "            punctuation_list.append(string[i])\n",
    "        else:\n",
    "            new_str_list.append(string[i])\n",
    "        \n",
    "    return ''.join(new_str_list), ''.join(punctuation_list)\n",
    "\n",
    "def reverseWordsExcludePunctuation(string):\n",
    "    split_str = string.split()\n",
    "    \n",
    "    if len(split_str) < 2:\n",
    "        return string\n",
    "    \n",
    "    front, rear = 0, len(split_str)-1\n",
    "    \n",
    "    while front < rear:\n",
    "        front_string, front_punt = getPunctuation(split_str[front])\n",
    "        rear_string, rear_punt = getPunctuation(split_str[rear])\n",
    "        \n",
    "        front_string, rear_string = rear_string, front_string\n",
    "        \n",
    "        front_string += front_punt\n",
    "        rear_string +=  rear_punt\n",
    "        \n",
    "        split_str[front] = front_string\n",
    "        split_str[rear] = rear_string\n",
    "        \n",
    "        front += 1\n",
    "        rear -= 1\n",
    "\n",
    "    print(split_str)\n",
    "    return ' '.join(split_str)\n",
    "\n",
    "assert reverseWordsExcludePunctuation('this is something!') == 'something is this!'\n",
    "assert reverseWordsExcludePunctuation('you, shall not pass!') == 'pass, not shall you!'"
   ]
  },
  {
   "cell_type": "code",
   "execution_count": 14,
   "metadata": {},
   "outputs": [
    {
     "name": "stdout",
     "output_type": "stream",
     "text": [
      "['l', 'e', 'z', 'a', 'H', ' ', 's', 'i', ' ', ' ', ' ', 't', 'e', 'e', 'w', 's']\n"
     ]
    },
    {
     "data": {
      "text/plain": [
       "True"
      ]
     },
     "execution_count": 14,
     "metadata": {},
     "output_type": "execute_result"
    }
   ],
   "source": [
    "def reverseWords(string):\n",
    "    # Hazel is\n",
    "    # ..... left=0; right=5\n",
    "    # lezaH \n",
    "    \n",
    "    left = right = 0\n",
    "    new_string_list = list()\n",
    "    \n",
    "    while right < len(string):\n",
    "        \n",
    "        if string[right] == ' ':\n",
    "            cur_right = right-1\n",
    "            \n",
    "            while left <= cur_right:\n",
    "                new_string_list.append(string[cur_right])\n",
    "                cur_right -= 1\n",
    "            \n",
    "            while right < len(string) and string[right] == ' ':\n",
    "                new_string_list.append(' ')\n",
    "                right += 1\n",
    "                \n",
    "            left = right\n",
    "        else:\n",
    "            right += 1\n",
    "    \n",
    "    right -= 1\n",
    "\n",
    "    while left <= right and string[right] != ' ':\n",
    "        new_string_list.append(string[right])\n",
    "        right -= 1\n",
    "            \n",
    "    print(new_string_list)\n",
    "    return ''.join(new_string_list)\n",
    "\n",
    "reverseWords('Hazel is   sweet') == 'lezaH si   teews'"
   ]
  },
  {
   "cell_type": "code",
   "execution_count": 22,
   "metadata": {},
   "outputs": [
    {
     "data": {
      "text/plain": [
       "True"
      ]
     },
     "execution_count": 22,
     "metadata": {},
     "output_type": "execute_result"
    }
   ],
   "source": [
    "def reverseWords(string):\n",
    "    # Hazel is\n",
    "    # ..... left=0; right=5\n",
    "    # lezaH \n",
    "    \n",
    "    left = right = 0\n",
    "    new_string_list = list()\n",
    "    \n",
    "    while right < len(string):\n",
    "        \n",
    "        if string[right] == ' ':\n",
    "            cur_right = right-1\n",
    "            \n",
    "            while left <= cur_right:\n",
    "                new_string_list.append(string[cur_right])\n",
    "                cur_right -= 1\n",
    "            \n",
    "            while right < len(string) and string[right] == ' ':\n",
    "                new_string_list.append(' ')\n",
    "                right += 1\n",
    "                \n",
    "            left = right\n",
    "        else:\n",
    "            right += 1\n",
    "\n",
    "    right -= 1\n",
    "\n",
    "    while left <= right and string[right] != ' ':\n",
    "        new_string_list.append(string[right])\n",
    "        right -= 1\n",
    "            \n",
    "    return ''.join(new_string_list)\n",
    "\n",
    "reverseWords('   Hazel is   sweet   yes we can') == '   lezaH si   teews   sey ew nac'\n",
    "reverseWords('') == ''\n",
    "reverseWords('a') == 'a'\n",
    "reverseWords(' ab ') == ' ba '"
   ]
  },
  {
   "cell_type": "code",
   "execution_count": 5,
   "metadata": {},
   "outputs": [
    {
     "name": "stdout",
     "output_type": "stream",
     "text": [
      "(1, -4, {})\n",
      "(3, -2, {1: True})\n",
      "(6, 1, {1: True, 3: True})\n"
     ]
    },
    {
     "data": {
      "text/plain": [
       "True"
      ]
     },
     "execution_count": 5,
     "metadata": {},
     "output_type": "execute_result"
    }
   ],
   "source": [
    "from typing import List\n",
    "\n",
    "def isTargetValInSeq(arr: List[int], target: int) -> bool:\n",
    "    if target is None:\n",
    "        return False\n",
    "    \n",
    "    if not arr:\n",
    "        return True\n",
    "    \n",
    "    prefix_sums = dict()\n",
    "    total = 0\n",
    "    for val in arr:\n",
    "        total += val\n",
    "        print((total, total-target, prefix_sums))\n",
    "        if total-target in prefix_sums:\n",
    "            return True\n",
    "        \n",
    "        prefix_sums[total] = True\n",
    "        \n",
    "        \n",
    "    return False\n",
    "\n",
    "arr = [1,2,3,4]\n",
    "isTargetValInSeq(arr, target=5)"
   ]
  },
  {
   "cell_type": "code",
   "execution_count": 12,
   "metadata": {},
   "outputs": [
    {
     "name": "stdout",
     "output_type": "stream",
     "text": [
      "[[0, 1], [1, 2]]\n",
      "[[0, 1], [2, 2], [2, 5], [5, 7]]\n"
     ]
    }
   ],
   "source": [
    "def getPositions(arr: List[int], target: int) -> List[List[int]]:\n",
    "    if target is None or not arr:\n",
    "        return list()\n",
    "        \n",
    "    prefix_sums = [0]*len(arr)\n",
    "    prefix_sums[0] = arr[0]\n",
    "    \n",
    "    for idx in range(1, len(arr)):\n",
    "        prefix_sums[idx] = prefix_sums[idx-1] + arr[idx]\n",
    "        \n",
    "    res = list()\n",
    "    for start in range(len(arr)):\n",
    "        for end in range(start, len(arr)):\n",
    "            total = prefix_sums[end]-prefix_sums[start]+arr[start]\n",
    "            if total == target:\n",
    "                res.append([start, end])\n",
    "    print(res)\n",
    "    return res\n",
    "\n",
    "arr = [1,1,1]\n",
    "assert len(getPositions(arr, target=2)) == 2\n",
    "\n",
    "arr = [3,4,7,2,-3,1,4,2]\n",
    "assert len(getPositions(arr, target=7)) == 4"
   ]
  },
  {
   "cell_type": "code",
   "execution_count": 8,
   "metadata": {},
   "outputs": [
    {
     "data": {
      "text/plain": [
       "['3423432 [-ERROR-]']"
      ]
     },
     "execution_count": 8,
     "metadata": {},
     "output_type": "execute_result"
    }
   ],
   "source": [
    "import string\n",
    "\n",
    "log_data = ['3434334 [-ERRORR-] blah', \n",
    "            '4534543543 [--OK--] dsfsadfsd ERROR', \n",
    "            '3423432 [-ERROR-]', \n",
    "            'sdafdsfds dsfdsfdsfsd']\n",
    "\n",
    "def parse_errors(log_data):\n",
    "    res = list()\n",
    "    \n",
    "    for line in log_data:\n",
    "        items = line.split(' ')\n",
    "        \n",
    "        log_level_string = items[1]\n",
    "        \n",
    "        positions = get_start_end_positions(log_level_string)\n",
    "        if not positions:\n",
    "            continue\n",
    "            \n",
    "        start_idx, end_idx = positions\n",
    "            \n",
    "        if log_level_string[start_idx:end_idx] == 'ERROR':\n",
    "            res.append(line)\n",
    "            \n",
    "    return res\n",
    "    \n",
    "def get_start_end_positions(test_string: str):\n",
    "    # return start and end index positions for initial and end alphabet\n",
    "    \n",
    "    letters = set(string.ascii_uppercase)\n",
    "    \n",
    "    start_idx = 0\n",
    "    end_idx = len(test_string)-1\n",
    "    \n",
    "    while start_idx < len(test_string) and test_string[start_idx] not in letters:\n",
    "        start_idx += 1\n",
    "\n",
    "    while end_idx-1 >= 0 and test_string[end_idx-1] not in letters:\n",
    "        end_idx -= 1\n",
    "\n",
    "    if end_idx < start_idx:\n",
    "        return None\n",
    "    \n",
    "    return start_idx, end_idx\n",
    "    \n",
    "parse_errors(log_data)"
   ]
  },
  {
   "cell_type": "code",
   "execution_count": 16,
   "metadata": {},
   "outputs": [
    {
     "name": "stdout",
     "output_type": "stream",
     "text": [
      "(1, 3, 0, 1)\n",
      "(2, 3, 1, 2)\n",
      "(2, 3, 0, 4)\n",
      "(2, 3, 1, 5)\n",
      "(3, 2, 2, 5)\n",
      "(3, 2, 1, 6)\n"
     ]
    }
   ],
   "source": [
    "from typing import List\n",
    "\n",
    "height = [0,1,0,2,1,0,1,3,2,1,2,1]\n",
    "#         0,0,1,0,1,2,1,0,0,1,0,0\n",
    "\n",
    "def get_trapped_rain_water(height_arr: List[int]) -> int:\n",
    "    # time complexity - O(n^2)\n",
    "    # space complexity - O(1)\n",
    "    \n",
    "    if len(height_arr) < 2:\n",
    "        return 0\n",
    "    \n",
    "    left_max = float('-inf')\n",
    "    \n",
    "    water = 0\n",
    "    for i in range(1, len(height_arr)-1):\n",
    "        prior_val = height_arr[i-1]\n",
    "        left_max = max(left_max, prior_val)\n",
    "        right_max = float('-inf')\n",
    "        \n",
    "        for j in range(i+1, len(height_arr)):\n",
    "            right_val = height_arr[j]\n",
    "            right_max = max(right_max, right_val)\n",
    "        \n",
    "        val = height_arr[i]\n",
    "        \n",
    "        res = min(left_max, right_max)-val\n",
    "        if res < 0:\n",
    "            continue\n",
    "        water += res\n",
    "        \n",
    "        print((left_max, right_max, val, water))\n",
    "    return water\n",
    "\n",
    "assert get_trapped_rain_water(height) == 6"
   ]
  },
  {
   "cell_type": "code",
   "execution_count": null,
   "metadata": {},
   "outputs": [],
   "source": [
    "def get_trapped_rain_water(height_arr: List[int]) -> int:\n",
    "    # Dynamic programming\n",
    "    # Time complexity: O(n)\n",
    "    # Space complexity: 2*O(n)\n",
    "    pass\n",
    "\n",
    "assert get_trapped_rain_water(height) == 6"
   ]
  },
  {
   "cell_type": "code",
   "execution_count": null,
   "metadata": {},
   "outputs": [],
   "source": []
  }
 ],
 "metadata": {
  "kernelspec": {
   "display_name": "Python 3",
   "language": "python",
   "name": "python3"
  },
  "language_info": {
   "codemirror_mode": {
    "name": "ipython",
    "version": 3
   },
   "file_extension": ".py",
   "mimetype": "text/x-python",
   "name": "python",
   "nbconvert_exporter": "python",
   "pygments_lexer": "ipython3",
   "version": "3.8.6"
  }
 },
 "nbformat": 4,
 "nbformat_minor": 4
}
