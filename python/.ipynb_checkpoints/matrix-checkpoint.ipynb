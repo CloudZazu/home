{
 "cells": [
  {
   "cell_type": "code",
   "execution_count": 1,
   "metadata": {},
   "outputs": [
    {
     "data": {
      "text/plain": [
       "(0, 4)"
      ]
     },
     "execution_count": 1,
     "metadata": {},
     "output_type": "execute_result"
    }
   ],
   "source": [
    "\"\"\"\n",
    "This problem was asked by Google. (Easy)\n",
    "You are writing an AI for a 2D map game. You are somewhere in a 2D grid, and there are coins strewn about over the map.\n",
    "Given the position of all the coins and your current position, find the closest coin to you in terms of Manhattan distance. \n",
    "That is, you can move around up, down, left, and right, but not diagonally. \n",
    "If there are multiple possible closest coins, return any of them.\n",
    "For example, given the following map, where you are x, coins are o, and empty spaces are . (top left is 0, 0):\n",
    "---------------------\n",
    "| . | . | x | . | o |\n",
    "---------------------\n",
    "| o | . | . | . | . |\n",
    "---------------------\n",
    "| o | . | . | . | o |\n",
    "---------------------\n",
    "| . | . | o | . | . |\n",
    "---------------------\n",
    "return (0, 4), since that coin is closest. This map would be represented in our question as:\n",
    "Our position: (0, 2)\n",
    "Coins: [(0, 4), (1, 0), (2, 0), (3, 2)]\n",
    "\"\"\"\n",
    "\n",
    "def get_manhattan_dist(curr_pos, target_pos):\n",
    "    origin_x, origin_y = curr_pos\n",
    "    target_x, target_y = target_pos\n",
    "    \n",
    "    diff_x = abs(target_x-origin_x)\n",
    "    diff_y = abs(target_y-origin_y)\n",
    "    \n",
    "    return diff_x + diff_y\n",
    "\n",
    "def closestCoin(coins_arr, curr_pos):\n",
    "    \n",
    "    min_dist = float('inf')\n",
    "    found_pair = None\n",
    "    \n",
    "    for pair in coins_arr:\n",
    "        curr_dist = get_manhattan_dist(curr_pos, pair)\n",
    "        if curr_dist < min_dist:\n",
    "            min_dist = curr_dist\n",
    "            found_pair = pair\n",
    "        \n",
    "    return found_pair if min_dist != float('inf') else -1\n",
    "\n",
    "coins = [(0, 4), (1, 0), (2, 0), (3, 2)]\n",
    "curr_pos = (0, 2)\n",
    "closestCoin(coins, curr_pos)"
   ]
  }
 ],
 "metadata": {
  "kernelspec": {
   "display_name": "Python 3",
   "language": "python",
   "name": "python3"
  },
  "language_info": {
   "codemirror_mode": {
    "name": "ipython",
    "version": 3
   },
   "file_extension": ".py",
   "mimetype": "text/x-python",
   "name": "python",
   "nbconvert_exporter": "python",
   "pygments_lexer": "ipython3",
   "version": "3.7.6"
  }
 },
 "nbformat": 4,
 "nbformat_minor": 4
}
