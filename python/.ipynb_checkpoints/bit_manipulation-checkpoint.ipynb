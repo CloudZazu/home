{
 "cells": [
  {
   "cell_type": "markdown",
   "metadata": {},
   "source": [
    "# Number of 1s"
   ]
  },
  {
   "cell_type": "code",
   "execution_count": 10,
   "metadata": {},
   "outputs": [
    {
     "name": "stdout",
     "output_type": "stream",
     "text": [
      "1\n",
      "it is a 1\n"
     ]
    },
    {
     "data": {
      "text/plain": [
       "1"
      ]
     },
     "execution_count": 10,
     "metadata": {},
     "output_type": "execute_result"
    }
   ],
   "source": [
    "a = 2 >> 1\n",
    "print(a)\n",
    "\n",
    "mask = 1\n",
    "\n",
    "# Mask count O(1)\n",
    "if a & mask:\n",
    "    print('it is a 1')\n",
    "\n",
    "# String count\n",
    "bin(a).count('1')\n",
    "\n",
    "\"\"\"\n",
    "Using bit operation to cancel a 1 in each round\n",
    "Think of a number in binary n = XXXXXX1000, n - 1 is XXXXXX0111. n & (n - 1) will be XXXXXX0000 which is just cancel the last 1\n",
    "n and n - 1 flips the least-significant 1-bit in n to 00\n",
    "Faster than the rest since you only care about the least significant 1-bit\n",
    "\"\"\"\n",
    "def hammingWeight( n):\n",
    "    \"\"\"\n",
    "    :type n: int\n",
    "    :rtype: int\n",
    "    \"\"\"\n",
    "    c = 0\n",
    "    while n:\n",
    "        n &= n - 1\n",
    "        c += 1\n",
    "    return c"
   ]
  },
  {
   "cell_type": "code",
   "execution_count": 12,
   "metadata": {},
   "outputs": [
    {
     "name": "stdout",
     "output_type": "stream",
     "text": [
      "0b01010101010101010101010101010101\n"
     ]
    }
   ],
   "source": [
    "# Given a 32-bit integer, swap the 1st and 2nd bit, 3rd and 4th bit, up til the 31st and 32nd bit.\n",
    "import collections\n",
    "\n",
    "def swap_bits(num):\n",
    "    # get the binary representation of that value\n",
    "    # you know its a 32 bit integer so for every two, you swap and place it on some queue\n",
    "    # join everything from the queue into a binary representation in the end\n",
    "    \n",
    "    binary_repr = bin(num)\n",
    "    binary_repr = binary_repr[2:] # ignores the 0b\n",
    "    \n",
    "    binary_repr_list = list(binary_repr)\n",
    "    binary_repr_list = collections.deque(binary_repr_list)\n",
    "    \n",
    "    INT_BIT_SIZE = 32\n",
    "    while len(binary_repr_list) < INT_BIT_SIZE:\n",
    "        binary_repr_list.appendleft('0')\n",
    "    \n",
    "    for i in range(0, INT_BIT_SIZE, 2):\n",
    "        binary_repr_list[i], binary_repr_list[i+1] = binary_repr_list[i+1], binary_repr_list[i]\n",
    "        \n",
    "    binary_repr_value = ''.join(binary_repr_list)\n",
    "    binary_repr_fmt = f'0b{binary_repr_value}'\n",
    "    print(binary_repr_fmt)\n",
    "    return binary_repr_fmt\n",
    "\n",
    "value = int('10101010101010101010101010101010', 2)\n",
    "assert swap_bits(value) == '0b01010101010101010101010101010101'"
   ]
  },
  {
   "cell_type": "code",
   "execution_count": 9,
   "metadata": {},
   "outputs": [
    {
     "name": "stdout",
     "output_type": "stream",
     "text": [
      "output: 0b101001010000011110100111000000001010010100\n",
      "output: 0b10011100000111101001010000000010\n",
      "output: 0b11001001111000010100100100100000\n",
      "output: 0b110110101101000001011010000000\n",
      "Before: 0b10100101000001111010011100 (43261596) -> After: 0b111001011110000010100101000000 (964176192)\n"
     ]
    }
   ],
   "source": [
    "def reverseBits(n):\n",
    "    n = (n >> 16) | (n << 16)\n",
    "    print(f'output: {bin(n)}')\n",
    "    n = ((n & 0xff00ff00) >> 8) | ((n & 0x00ff00ff) << 8)\n",
    "    print(f'output: {bin(n)}')    \n",
    "    n = ((n & 0xf0f0f0f0) >> 4) | ((n & 0x0f0f0f0f) << 4)\n",
    "    print(f'output: {bin(n)}')\n",
    "    n = ((n & 0xcccccccc) >> 2) | ((n & 0x33333333) << 2)\n",
    "    print(f'output: {bin(n)}')\n",
    "    n = ((n & 0xaaaaaaaa) >> 1) | ((n & 0x55555555) << 1)\n",
    "    return n\n",
    "\n",
    "val = 0b00000010100101000001111010011100\n",
    "reversed_val = reverseBits(val)\n",
    "print(f'Before: {bin(val)} ({int(val)}) -> After: {bin(reversed_val)} ({int(reversed_val)})')"
   ]
  },
  {
   "cell_type": "code",
   "execution_count": 23,
   "metadata": {},
   "outputs": [
    {
     "name": "stdout",
     "output_type": "stream",
     "text": [
      "Before: 0b10100101000001111010011100 (43261596) -> After: 0b111001011110000010100101000000 (964176192)\n"
     ]
    }
   ],
   "source": [
    "import functools\n",
    "\n",
    "def reverseBits(n):\n",
    "    ret, power = 0, 24\n",
    "    while n:\n",
    "        ret += reverseByte(n & 0xff) << power\n",
    "        n = n >> 8\n",
    "        power -= 8\n",
    "    return ret\n",
    "\n",
    "# memoization with decorator\n",
    "@functools.lru_cache(maxsize=256)\n",
    "def reverseByte(byte):\n",
    "    exponent = 7\n",
    "    res = 0\n",
    "    \n",
    "    while byte:\n",
    "        if byte & 1:\n",
    "            res += 2**exponent\n",
    "            \n",
    "        exponent -= 1\n",
    "        byte >>= 1    \n",
    "    return res\n",
    "\n",
    "    # return (byte * 0x0202020202 & 0x010884422010) % 1023\n",
    "\n",
    "val = 0b00000010100101000001111010011100\n",
    "reversed_val = reverseBits(val)\n",
    "print(f'Before: {bin(val)} ({int(val)}) -> After: {bin(reversed_val)} ({int(reversed_val)})')"
   ]
  },
  {
   "cell_type": "code",
   "execution_count": 24,
   "metadata": {},
   "outputs": [
    {
     "name": "stdout",
     "output_type": "stream",
     "text": [
      "b'\\x13\\x00\\xf3'\n"
     ]
    }
   ],
   "source": [
    "import binascii\n",
    "\n",
    "def int2bytes(i):\n",
    "    hex_string = '%x' % i\n",
    "    n = len(hex_string)\n",
    "    return binascii.unhexlify(hex_string.zfill(n + (n & 1)))\n",
    "\n",
    "print(int2bytes(1245427))"
   ]
  },
  {
   "cell_type": "code",
   "execution_count": 27,
   "metadata": {},
   "outputs": [
    {
     "name": "stdout",
     "output_type": "stream",
     "text": [
      "001300f3\n"
     ]
    }
   ],
   "source": [
    "import struct\n",
    "\n",
    "def int2bytes(val):\n",
    "    # '>I' is a format string. > means big endian and I means unsigned int\n",
    "    struct.unpack(\"<I\", struct.pack(\">I\", val))[0]\n",
    "    return \"%08x\" % val\n",
    "\n",
    "print(int2bytes(1245427))"
   ]
  },
  {
   "cell_type": "code",
   "execution_count": 54,
   "metadata": {},
   "outputs": [
    {
     "name": "stdout",
     "output_type": "stream",
     "text": [
      "0x78563412 -> 0x12345678\n"
     ]
    }
   ],
   "source": [
    "\"\"\"\n",
    "little endian big endian swap\n",
    "little-endian => 0x04030201 x86, arm, ...\n",
    "big-endian => 0x01020304 sparc, mips, ...\n",
    "\n",
    "Little-endian: 0x12345678\n",
    "Big-endian:    0x78563412\n",
    "\"\"\"\n",
    "\n",
    "# 32 bits - 4 bytes\n",
    "# 0x12345678\n",
    "# 0x78345612\n",
    "# 0x78563412\n",
    "\n",
    "def byteSwap(val):\n",
    "    tmp = 0\n",
    "    tmp |= ((val & 0xff) << 24) | ((val & 0xff000000) >> 24)\n",
    "    tmp |= ((val & 0xff00) << 8) | ((val & 0x00ff0000) >> 8)\n",
    "    return tmp\n",
    "\n",
    "le_2_be = byteSwap(0x12345678)\n",
    "be_2_le = byteSwap(le_2_be)\n",
    "print(f'{hex(le_2_be)} -> {hex(be_2_le)}')"
   ]
  },
  {
   "cell_type": "markdown",
   "metadata": {},
   "source": [
    "### Byte Array Python Structure Abstraction"
   ]
  },
  {
   "cell_type": "code",
   "execution_count": 2,
   "metadata": {},
   "outputs": [
    {
     "name": "stdout",
     "output_type": "stream",
     "text": [
      "bytearray(b'\\x01\\x02\\x03\\x04')\n"
     ]
    }
   ],
   "source": [
    "chunk = bytearray([1,2,3,4])\n",
    "print(chunk)"
   ]
  },
  {
   "cell_type": "code",
   "execution_count": 3,
   "metadata": {},
   "outputs": [
    {
     "name": "stdout",
     "output_type": "stream",
     "text": [
      "bytearray(b'\\x02\\x01\\x04\\x03')\n"
     ]
    }
   ],
   "source": [
    "for i in range(0, len(chunk), 2):\n",
    "    chunk[i], chunk[i+1] = chunk[i+1], chunk[i]\n",
    "print(chunk)"
   ]
  }
 ],
 "metadata": {
  "kernelspec": {
   "display_name": "Python 3",
   "language": "python",
   "name": "python3"
  },
  "language_info": {
   "codemirror_mode": {
    "name": "ipython",
    "version": 3
   },
   "file_extension": ".py",
   "mimetype": "text/x-python",
   "name": "python",
   "nbconvert_exporter": "python",
   "pygments_lexer": "ipython3",
   "version": "3.8.6"
  }
 },
 "nbformat": 4,
 "nbformat_minor": 4
}
