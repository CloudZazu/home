{
 "cells": [
  {
   "cell_type": "code",
   "execution_count": 2,
   "metadata": {},
   "outputs": [],
   "source": [
    "class Node:\n",
    "    def __init__(self, val):\n",
    "        self.val = val\n",
    "        self.children = list()"
   ]
  },
  {
   "cell_type": "raw",
   "metadata": {},
   "source": [
    "/**\n",
    "* Serialize and deserialize a general (n-ary) Tree\n",
    "*         A\n",
    "*      /    |   \\\n",
    "*    B    C    D\n",
    "*   / \\           / | \\ \\\n",
    "*  E   F      I  G  H  J\n",
    "*        |\n",
    "*       K\n",
    "*/\n",
    "A has children B,C,D\n",
    "B has children E, F\n",
    "F has child K\n",
    "D has children I,G,H,J\n",
    "C has no children\n"
   ]
  },
  {
   "cell_type": "code",
   "execution_count": 3,
   "metadata": {},
   "outputs": [],
   "source": [
    "import string\n",
    "letters = string.ascii_uppercase"
   ]
  },
  {
   "cell_type": "code",
   "execution_count": 4,
   "metadata": {},
   "outputs": [],
   "source": [
    "nodes = {i : Node(i) for i in letters[:letters.index('K')+1] }"
   ]
  },
  {
   "cell_type": "code",
   "execution_count": 5,
   "metadata": {},
   "outputs": [
    {
     "data": {
      "text/plain": [
       "<__main__.Node at 0x106478820>"
      ]
     },
     "execution_count": 5,
     "metadata": {},
     "output_type": "execute_result"
    }
   ],
   "source": [
    "nodes['K']"
   ]
  },
  {
   "cell_type": "code",
   "execution_count": 6,
   "metadata": {},
   "outputs": [],
   "source": [
    "nodes['A'].children.extend([nodes['B'], nodes['C'], nodes['D']])\n",
    "nodes['B'].children.extend([nodes['E'], nodes['F']])\n",
    "nodes['F'].children.extend([nodes['K']])\n",
    "nodes['D'].children.extend([nodes['I'], nodes['G'], nodes['H'], nodes['J']])"
   ]
  },
  {
   "cell_type": "markdown",
   "metadata": {},
   "source": [
    "public static String serialize(Node root){\n",
    "    String s = \"\";\n",
    "    if(root == null){\n",
    "        return \"\";\n",
    "    }\n",
    "    s+= \"(\";\n",
    "    s += root.value;\n",
    "    for(int i = 0 ; i < root.getChildSize(); i++){\n",
    "        String child = serialize(root.getChildAt(i));\n",
    "        s += child;\n",
    "    }\n",
    "    s+= \")\";\n",
    "    return s;\n",
    "}"
   ]
  },
  {
   "cell_type": "code",
   "execution_count": 7,
   "metadata": {},
   "outputs": [
    {
     "data": {
      "text/plain": [
       "'A,B,E,#,F,K,#,#,#,C,#,D,I,#,G,#,H,#,J,#,#,#,'"
      ]
     },
     "execution_count": 7,
     "metadata": {},
     "output_type": "execute_result"
    }
   ],
   "source": [
    "def serialize(root):\n",
    "    if not root:\n",
    "        return ''\n",
    "    \n",
    "    s = str(root.val) + ','\n",
    "    \n",
    "    for child in root.children:\n",
    "        s += serialize(child)\n",
    "    \n",
    "    s += '#,'\n",
    "    return s\n",
    "\n",
    "serializeGraph = serialize(nodes['A'])\n",
    "serializeGraph"
   ]
  },
  {
   "cell_type": "raw",
   "metadata": {},
   "source": [
    "# TLP Java solution\n",
    "public static Node deserialize(String s){\n",
    "\n",
    "    Stack<Node> stack = new Stack<>();\n",
    "\n",
    "    for(int i = 0 ; i < s.length(); i++){\n",
    "        char c = s.charAt(i);\n",
    "        if(c == '('){\n",
    "            stack.push(new Node(null));\n",
    "        } else if (c == ')'){\n",
    "            Node n = stack.pop();\n",
    "            if(stack.isEmpty()){\n",
    "                return n;\n",
    "            }\n",
    "            Node parent = stack.peek();\n",
    "            parent.addNode(n);\n",
    "        } else {\n",
    "            stack.peek().value = String.valueOf(c);\n",
    "        }\n",
    "    }\n",
    "    return null;\n",
    "}"
   ]
  },
  {
   "cell_type": "code",
   "execution_count": 8,
   "metadata": {},
   "outputs": [],
   "source": [
    "class WrappableInt:\n",
    "    def __init__(self, x):\n",
    "        self.value = x\n",
    "\n",
    "    def getValue(self):\n",
    "        return self.value\n",
    "\n",
    "    def increment(self):\n",
    "        self.value += 1"
   ]
  },
  {
   "cell_type": "code",
   "execution_count": 9,
   "metadata": {},
   "outputs": [
    {
     "data": {
      "text/plain": [
       "'A,B,E,#,F,K,#,#,#,C,#,D,I,#,G,#,H,#,J,#,#,#,'"
      ]
     },
     "execution_count": 9,
     "metadata": {},
     "output_type": "execute_result"
    }
   ],
   "source": [
    "# serialized str: 'A,B,E,#,F,K,#,#,#,C,#,D,I,#,G,#,H,#,J,#,#,#,' \n",
    "def deserialize(string):\n",
    "    data = string.split(',')\n",
    "    return deserializeHelper(data, WrappableInt(0))\n",
    "\n",
    "\n",
    "def deserializeHelper(data, index):\n",
    "    if index.getValue() == len(data):\n",
    "        return\n",
    "    \n",
    "    parent = Node(data[index.getValue()])\n",
    "    index.increment()\n",
    "    \n",
    "    while data[index.getValue()] != '#':\n",
    "        parent.children.append(deserializeHelper(data, index))\n",
    "    index.increment()\n",
    "    return parent\n",
    "\n",
    "root = deserialize(serializeGraph)\n",
    "serialize(root)"
   ]
  },
  {
   "cell_type": "code",
   "execution_count": 16,
   "metadata": {},
   "outputs": [
    {
     "ename": "IndexError",
     "evalue": "string index out of range",
     "output_type": "error",
     "traceback": [
      "\u001b[0;31m---------------------------------------------------------------------------\u001b[0m",
      "\u001b[0;31mIndexError\u001b[0m                                Traceback (most recent call last)",
      "\u001b[0;32m<ipython-input-16-9d82d365bfed>\u001b[0m in \u001b[0;36m<module>\u001b[0;34m\u001b[0m\n\u001b[0;32m----> 1\u001b[0;31m \u001b[0mroot\u001b[0m \u001b[0;34m=\u001b[0m \u001b[0mdeserialize\u001b[0m\u001b[0;34m(\u001b[0m\u001b[0;34m'12#36#71114####4812###5913##10###'\u001b[0m\u001b[0;34m)\u001b[0m\u001b[0;34m\u001b[0m\u001b[0;34m\u001b[0m\u001b[0m\n\u001b[0m\u001b[1;32m      2\u001b[0m \u001b[0mbfs\u001b[0m\u001b[0;34m(\u001b[0m\u001b[0mroot\u001b[0m\u001b[0;34m)\u001b[0m\u001b[0;34m\u001b[0m\u001b[0;34m\u001b[0m\u001b[0m\n",
      "\u001b[0;32m<ipython-input-10-0725372ac3f8>\u001b[0m in \u001b[0;36mdeserialize\u001b[0;34m(data)\u001b[0m\n\u001b[1;32m     19\u001b[0m         \u001b[0;32mreturn\u001b[0m \u001b[0;32mNone\u001b[0m\u001b[0;34m\u001b[0m\u001b[0;34m\u001b[0m\u001b[0m\n\u001b[1;32m     20\u001b[0m \u001b[0;34m\u001b[0m\u001b[0m\n\u001b[0;32m---> 21\u001b[0;31m     \u001b[0;32mreturn\u001b[0m \u001b[0m_deserializeHelper\u001b[0m\u001b[0;34m(\u001b[0m\u001b[0mdata\u001b[0m\u001b[0;34m,\u001b[0m \u001b[0mWrappableInt\u001b[0m\u001b[0;34m(\u001b[0m\u001b[0;36m0\u001b[0m\u001b[0;34m)\u001b[0m\u001b[0;34m)\u001b[0m\u001b[0;34m\u001b[0m\u001b[0;34m\u001b[0m\u001b[0m\n\u001b[0m\u001b[1;32m     22\u001b[0m \u001b[0;34m\u001b[0m\u001b[0m\n\u001b[1;32m     23\u001b[0m \u001b[0;32mdef\u001b[0m \u001b[0m_deserializeHelper\u001b[0m\u001b[0;34m(\u001b[0m\u001b[0mdata\u001b[0m\u001b[0;34m,\u001b[0m \u001b[0mindex\u001b[0m\u001b[0;34m)\u001b[0m\u001b[0;34m:\u001b[0m\u001b[0;34m\u001b[0m\u001b[0;34m\u001b[0m\u001b[0m\n",
      "\u001b[0;32m<ipython-input-10-0725372ac3f8>\u001b[0m in \u001b[0;36m_deserializeHelper\u001b[0;34m(data, index)\u001b[0m\n\u001b[1;32m     30\u001b[0m \u001b[0;34m\u001b[0m\u001b[0m\n\u001b[1;32m     31\u001b[0m     \u001b[0;32mwhile\u001b[0m \u001b[0;34m(\u001b[0m\u001b[0mdata\u001b[0m\u001b[0;34m[\u001b[0m\u001b[0mindex\u001b[0m\u001b[0;34m.\u001b[0m\u001b[0mgetValue\u001b[0m\u001b[0;34m(\u001b[0m\u001b[0;34m)\u001b[0m\u001b[0;34m]\u001b[0m \u001b[0;34m!=\u001b[0m \u001b[0;34m'#'\u001b[0m\u001b[0;34m)\u001b[0m\u001b[0;34m:\u001b[0m\u001b[0;34m\u001b[0m\u001b[0;34m\u001b[0m\u001b[0m\n\u001b[0;32m---> 32\u001b[0;31m         \u001b[0mnode\u001b[0m\u001b[0;34m.\u001b[0m\u001b[0mchildren\u001b[0m\u001b[0;34m.\u001b[0m\u001b[0mappend\u001b[0m\u001b[0;34m(\u001b[0m\u001b[0m_deserializeHelper\u001b[0m\u001b[0;34m(\u001b[0m\u001b[0mdata\u001b[0m\u001b[0;34m,\u001b[0m \u001b[0mindex\u001b[0m\u001b[0;34m)\u001b[0m\u001b[0;34m)\u001b[0m\u001b[0;34m\u001b[0m\u001b[0;34m\u001b[0m\u001b[0m\n\u001b[0m\u001b[1;32m     33\u001b[0m \u001b[0;34m\u001b[0m\u001b[0m\n\u001b[1;32m     34\u001b[0m \u001b[0;34m\u001b[0m\u001b[0m\n",
      "\u001b[0;32m<ipython-input-10-0725372ac3f8>\u001b[0m in \u001b[0;36m_deserializeHelper\u001b[0;34m(data, index)\u001b[0m\n\u001b[1;32m     30\u001b[0m \u001b[0;34m\u001b[0m\u001b[0m\n\u001b[1;32m     31\u001b[0m     \u001b[0;32mwhile\u001b[0m \u001b[0;34m(\u001b[0m\u001b[0mdata\u001b[0m\u001b[0;34m[\u001b[0m\u001b[0mindex\u001b[0m\u001b[0;34m.\u001b[0m\u001b[0mgetValue\u001b[0m\u001b[0;34m(\u001b[0m\u001b[0;34m)\u001b[0m\u001b[0;34m]\u001b[0m \u001b[0;34m!=\u001b[0m \u001b[0;34m'#'\u001b[0m\u001b[0;34m)\u001b[0m\u001b[0;34m:\u001b[0m\u001b[0;34m\u001b[0m\u001b[0;34m\u001b[0m\u001b[0m\n\u001b[0;32m---> 32\u001b[0;31m         \u001b[0mnode\u001b[0m\u001b[0;34m.\u001b[0m\u001b[0mchildren\u001b[0m\u001b[0;34m.\u001b[0m\u001b[0mappend\u001b[0m\u001b[0;34m(\u001b[0m\u001b[0m_deserializeHelper\u001b[0m\u001b[0;34m(\u001b[0m\u001b[0mdata\u001b[0m\u001b[0;34m,\u001b[0m \u001b[0mindex\u001b[0m\u001b[0;34m)\u001b[0m\u001b[0;34m)\u001b[0m\u001b[0;34m\u001b[0m\u001b[0;34m\u001b[0m\u001b[0m\n\u001b[0m\u001b[1;32m     33\u001b[0m \u001b[0;34m\u001b[0m\u001b[0m\n\u001b[1;32m     34\u001b[0m \u001b[0;34m\u001b[0m\u001b[0m\n",
      "\u001b[0;32m<ipython-input-10-0725372ac3f8>\u001b[0m in \u001b[0;36m_deserializeHelper\u001b[0;34m(data, index)\u001b[0m\n\u001b[1;32m     30\u001b[0m \u001b[0;34m\u001b[0m\u001b[0m\n\u001b[1;32m     31\u001b[0m     \u001b[0;32mwhile\u001b[0m \u001b[0;34m(\u001b[0m\u001b[0mdata\u001b[0m\u001b[0;34m[\u001b[0m\u001b[0mindex\u001b[0m\u001b[0;34m.\u001b[0m\u001b[0mgetValue\u001b[0m\u001b[0;34m(\u001b[0m\u001b[0;34m)\u001b[0m\u001b[0;34m]\u001b[0m \u001b[0;34m!=\u001b[0m \u001b[0;34m'#'\u001b[0m\u001b[0;34m)\u001b[0m\u001b[0;34m:\u001b[0m\u001b[0;34m\u001b[0m\u001b[0;34m\u001b[0m\u001b[0m\n\u001b[0;32m---> 32\u001b[0;31m         \u001b[0mnode\u001b[0m\u001b[0;34m.\u001b[0m\u001b[0mchildren\u001b[0m\u001b[0;34m.\u001b[0m\u001b[0mappend\u001b[0m\u001b[0;34m(\u001b[0m\u001b[0m_deserializeHelper\u001b[0m\u001b[0;34m(\u001b[0m\u001b[0mdata\u001b[0m\u001b[0;34m,\u001b[0m \u001b[0mindex\u001b[0m\u001b[0;34m)\u001b[0m\u001b[0;34m)\u001b[0m\u001b[0;34m\u001b[0m\u001b[0;34m\u001b[0m\u001b[0m\n\u001b[0m\u001b[1;32m     33\u001b[0m \u001b[0;34m\u001b[0m\u001b[0m\n\u001b[1;32m     34\u001b[0m \u001b[0;34m\u001b[0m\u001b[0m\n",
      "\u001b[0;32m<ipython-input-10-0725372ac3f8>\u001b[0m in \u001b[0;36m_deserializeHelper\u001b[0;34m(data, index)\u001b[0m\n\u001b[1;32m     30\u001b[0m \u001b[0;34m\u001b[0m\u001b[0m\n\u001b[1;32m     31\u001b[0m     \u001b[0;32mwhile\u001b[0m \u001b[0;34m(\u001b[0m\u001b[0mdata\u001b[0m\u001b[0;34m[\u001b[0m\u001b[0mindex\u001b[0m\u001b[0;34m.\u001b[0m\u001b[0mgetValue\u001b[0m\u001b[0;34m(\u001b[0m\u001b[0;34m)\u001b[0m\u001b[0;34m]\u001b[0m \u001b[0;34m!=\u001b[0m \u001b[0;34m'#'\u001b[0m\u001b[0;34m)\u001b[0m\u001b[0;34m:\u001b[0m\u001b[0;34m\u001b[0m\u001b[0;34m\u001b[0m\u001b[0m\n\u001b[0;32m---> 32\u001b[0;31m         \u001b[0mnode\u001b[0m\u001b[0;34m.\u001b[0m\u001b[0mchildren\u001b[0m\u001b[0;34m.\u001b[0m\u001b[0mappend\u001b[0m\u001b[0;34m(\u001b[0m\u001b[0m_deserializeHelper\u001b[0m\u001b[0;34m(\u001b[0m\u001b[0mdata\u001b[0m\u001b[0;34m,\u001b[0m \u001b[0mindex\u001b[0m\u001b[0;34m)\u001b[0m\u001b[0;34m)\u001b[0m\u001b[0;34m\u001b[0m\u001b[0;34m\u001b[0m\u001b[0m\n\u001b[0m\u001b[1;32m     33\u001b[0m \u001b[0;34m\u001b[0m\u001b[0m\n\u001b[1;32m     34\u001b[0m \u001b[0;34m\u001b[0m\u001b[0m\n",
      "\u001b[0;32m<ipython-input-10-0725372ac3f8>\u001b[0m in \u001b[0;36m_deserializeHelper\u001b[0;34m(data, index)\u001b[0m\n\u001b[1;32m     29\u001b[0m     \u001b[0mindex\u001b[0m\u001b[0;34m.\u001b[0m\u001b[0mincrement\u001b[0m\u001b[0;34m(\u001b[0m\u001b[0;34m)\u001b[0m\u001b[0;34m\u001b[0m\u001b[0;34m\u001b[0m\u001b[0m\n\u001b[1;32m     30\u001b[0m \u001b[0;34m\u001b[0m\u001b[0m\n\u001b[0;32m---> 31\u001b[0;31m     \u001b[0;32mwhile\u001b[0m \u001b[0;34m(\u001b[0m\u001b[0mdata\u001b[0m\u001b[0;34m[\u001b[0m\u001b[0mindex\u001b[0m\u001b[0;34m.\u001b[0m\u001b[0mgetValue\u001b[0m\u001b[0;34m(\u001b[0m\u001b[0;34m)\u001b[0m\u001b[0;34m]\u001b[0m \u001b[0;34m!=\u001b[0m \u001b[0;34m'#'\u001b[0m\u001b[0;34m)\u001b[0m\u001b[0;34m:\u001b[0m\u001b[0;34m\u001b[0m\u001b[0;34m\u001b[0m\u001b[0m\n\u001b[0m\u001b[1;32m     32\u001b[0m         \u001b[0mnode\u001b[0m\u001b[0;34m.\u001b[0m\u001b[0mchildren\u001b[0m\u001b[0;34m.\u001b[0m\u001b[0mappend\u001b[0m\u001b[0;34m(\u001b[0m\u001b[0m_deserializeHelper\u001b[0m\u001b[0;34m(\u001b[0m\u001b[0mdata\u001b[0m\u001b[0;34m,\u001b[0m \u001b[0mindex\u001b[0m\u001b[0;34m)\u001b[0m\u001b[0;34m)\u001b[0m\u001b[0;34m\u001b[0m\u001b[0;34m\u001b[0m\u001b[0m\n\u001b[1;32m     33\u001b[0m \u001b[0;34m\u001b[0m\u001b[0m\n",
      "\u001b[0;31mIndexError\u001b[0m: string index out of range"
     ]
    }
   ],
   "source": [
    "# 12#36#71114####4812###5913##10###\n",
    "# 12#36#7;>####48<###59=##:###\n",
    "root = deserialize('')\n",
    "bfs(root)"
   ]
  },
  {
   "cell_type": "code",
   "execution_count": 10,
   "metadata": {},
   "outputs": [
    {
     "data": {
      "text/plain": [
       "'A,B,E,#,F,K,#,#,#,C,#,D,I,#,G,#,H,#,J,#,#,#,'"
      ]
     },
     "execution_count": 10,
     "metadata": {},
     "output_type": "execute_result"
    }
   ],
   "source": [
    "class WrappableInt:\n",
    "    def __init__(self, x):\n",
    "        self.value = x\n",
    "\n",
    "    def getValue(self):\n",
    "        return self.value\n",
    "\n",
    "    def increment(self):\n",
    "        self.value += 1\n",
    "            \n",
    "def deserialize(data: str) -> 'Node':\n",
    "    \"\"\"Decodes your encoded data to tree.\n",
    "\n",
    "    :type data: str\n",
    "    :rtype: Node\n",
    "    \"\"\"\n",
    "\n",
    "    if not data:\n",
    "        return None\n",
    "\n",
    "    return _deserializeHelper(data, WrappableInt(0))\n",
    "\n",
    "def _deserializeHelper(data, index):\n",
    "\n",
    "    if index.getValue() == len(data):\n",
    "        return None\n",
    "\n",
    "    node = Node(data[index.getValue()])\n",
    "    index.increment()\n",
    "    \n",
    "    while (data[index.getValue()] != '#'):\n",
    "        node.children.append(_deserializeHelper(data, index))\n",
    "\n",
    "\n",
    "    # Discard the sentinel. Note that this also moves us\n",
    "    # forward in the input string. So, we don't have the index\n",
    "    # progressing inside the above while loop!\n",
    "    index.increment()\n",
    "    return node  \n",
    "\n",
    "root = deserialize(serializeGraph.split(','))\n",
    "serialize(root)"
   ]
  },
  {
   "cell_type": "code",
   "execution_count": 11,
   "metadata": {},
   "outputs": [
    {
     "data": {
      "text/plain": [
       "'A,B,E,#,F,K,#,#,#,C,#,D,I,#,G,#,H,#,J,#,#,#,'"
      ]
     },
     "execution_count": 11,
     "metadata": {},
     "output_type": "execute_result"
    }
   ],
   "source": [
    "serialize(nodes['A'])"
   ]
  },
  {
   "cell_type": "code",
   "execution_count": 12,
   "metadata": {},
   "outputs": [
    {
     "name": "stdout",
     "output_type": "stream",
     "text": [
      "A\n",
      "B C D\n",
      "E F I G H J\n",
      "K\n"
     ]
    }
   ],
   "source": [
    "import collections\n",
    "\n",
    "def bfs(root):\n",
    "    queue = collections.deque([root])\n",
    "    \n",
    "    while queue:\n",
    "        cur_level_nodes = list()\n",
    "        \n",
    "        for i in range(len(queue)):\n",
    "            node = queue[i]\n",
    "            cur_level_nodes.append(node.val)\n",
    "            \n",
    "        print(' '.join(cur_level_nodes))\n",
    "            \n",
    "        for _ in range(len(queue)):\n",
    "            node = queue.popleft()\n",
    "            queue.extend(node.children)\n",
    "        \n",
    "bfs(nodes['A'])"
   ]
  }
 ],
 "metadata": {
  "kernelspec": {
   "display_name": "Python 3",
   "language": "python",
   "name": "python3"
  },
  "language_info": {
   "codemirror_mode": {
    "name": "ipython",
    "version": 3
   },
   "file_extension": ".py",
   "mimetype": "text/x-python",
   "name": "python",
   "nbconvert_exporter": "python",
   "pygments_lexer": "ipython3",
   "version": "3.8.4"
  }
 },
 "nbformat": 4,
 "nbformat_minor": 4
}
