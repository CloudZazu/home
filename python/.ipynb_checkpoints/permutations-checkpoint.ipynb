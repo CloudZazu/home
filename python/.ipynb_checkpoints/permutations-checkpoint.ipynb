{
 "cells": [
  {
   "cell_type": "code",
   "execution_count": 2,
   "metadata": {},
   "outputs": [
    {
     "name": "stdout",
     "output_type": "stream",
     "text": [
      "['abc', 'acb', 'bac', 'bca', 'cba', 'cab']\n"
     ]
    }
   ],
   "source": [
    "def permutations(arr, start_idx, end_idx, ways):\n",
    "    if start_idx == end_idx:\n",
    "        ways.append(''.join(arr))\n",
    "        return \n",
    "    \n",
    "    for i in range(start_idx, end_idx):\n",
    "        arr[i], arr[start_idx] = arr[start_idx], arr[i]\n",
    "        permutations(arr, start_idx+1, end_idx, ways)\n",
    "        arr[i], arr[start_idx] = arr[start_idx], arr[i]\n",
    "\n",
    "test_string = 'abc'\n",
    "ways = list()\n",
    "permutations(list(test_string), 0, len(test_string), ways)\n",
    "print(ways)"
   ]
  },
  {
   "cell_type": "code",
   "execution_count": 15,
   "metadata": {},
   "outputs": [
    {
     "name": "stdout",
     "output_type": "stream",
     "text": [
      "Cur: [] i: 0 start_idx: 0 level: 0\n",
      "New: ['a']\n",
      "Cur: ['a'] i: 0 start_idx: 1 level: 1\n",
      "New: ['b', 'a']\n",
      "Cur: ['b', 'a'] i: 0 start_idx: 2 level: 2\n",
      "New: ['c', 'b', 'a']\n",
      "Cur: ['b', 'a'] i: 1 start_idx: 2 level: 2\n",
      "New: ['b', 'c', 'a']\n",
      "Cur: ['b', 'a'] i: 2 start_idx: 2 level: 2\n",
      "New: ['b', 'a', 'c']\n",
      "Cur: ['a'] i: 1 start_idx: 1 level: 1\n",
      "New: ['a', 'b']\n",
      "Cur: ['a', 'b'] i: 0 start_idx: 2 level: 2\n",
      "New: ['c', 'a', 'b']\n",
      "Cur: ['a', 'b'] i: 1 start_idx: 2 level: 2\n",
      "New: ['a', 'c', 'b']\n",
      "Cur: ['a', 'b'] i: 2 start_idx: 2 level: 2\n",
      "New: ['a', 'b', 'c']\n",
      "[['c', 'b', 'a'], ['b', 'c', 'a'], ['b', 'a', 'c'], ['c', 'a', 'b'], ['a', 'c', 'b'], ['a', 'b', 'c']]\n"
     ]
    }
   ],
   "source": [
    "def permutations(arr, currentPermutation, start_idx, ways):\n",
    "    if len(arr) == len(currentPermutation):\n",
    "        ways.append(currentPermutation)\n",
    "        return\n",
    "    \n",
    "    for i in range(len(currentPermutation)+1):\n",
    "        print(f'Cur: {currentPermutation} i: {i} start_idx: {start_idx} level: {len(currentPermutation)}')\n",
    "        newPermutation = list(currentPermutation)\n",
    "        newPermutation.insert(i, arr[start_idx])\n",
    "        print(f'New: {newPermutation}')\n",
    "        permutations(arr, newPermutation, start_idx+1, ways)\n",
    "\n",
    "test_string = 'abc'\n",
    "ways = list()\n",
    "permutations(list(test_string), list(), 0, ways)\n",
    "print(ways)"
   ]
  },
  {
   "cell_type": "code",
   "execution_count": null,
   "metadata": {},
   "outputs": [],
   "source": [
    "def permutations(arr, start_idx, end_idx, ways):\n",
    "    if start_idx == end_idx:\n",
    "        ways.append(''.join(arr))\n",
    "        return\n",
    "    \n",
    "    for i in range(start_idx, end_idx):\n",
    "        arr[i], arr[start_idx] = arr[start_idx], arr[i]\n",
    "        permutations(arr, start_idx+1, end_idx, ways)\n",
    "        arr[i], arr[start_idx] = arr[start_idx], arr[i]\n",
    "\n",
    "ways = list()\n",
    "permutations(list('abc'), 0, 3, ways)\n",
    "print(ways)"
   ]
  },
  {
   "cell_type": "code",
   "execution_count": 2,
   "metadata": {},
   "outputs": [
    {
     "name": "stdout",
     "output_type": "stream",
     "text": [
      "(['a'], [])\n",
      "(['a', 'b'], [])\n",
      "(['a', 'b', 'c'], [])\n",
      "(['a', 'c'], ['abc'])\n",
      "(['a', 'c', 'b'], ['abc'])\n",
      "(['b'], ['abc', 'acb'])\n",
      "(['b', 'a'], ['abc', 'acb'])\n",
      "(['b', 'a', 'c'], ['abc', 'acb'])\n",
      "(['b', 'c'], ['abc', 'acb', 'bac'])\n",
      "(['b', 'c', 'a'], ['abc', 'acb', 'bac'])\n",
      "(['c'], ['abc', 'acb', 'bac', 'bca'])\n",
      "(['c', 'a'], ['abc', 'acb', 'bac', 'bca'])\n",
      "(['c', 'a', 'b'], ['abc', 'acb', 'bac', 'bca'])\n",
      "(['c', 'b'], ['abc', 'acb', 'bac', 'bca', 'cab'])\n",
      "(['c', 'b', 'a'], ['abc', 'acb', 'bac', 'bca', 'cab'])\n",
      "['abc', 'acb', 'bac', 'bca', 'cab', 'cba']\n"
     ]
    }
   ],
   "source": [
    "def permutations_recursion(substr, arr, visited, ways):\n",
    "    if len(substr) == len(arr):\n",
    "        ways.append(''.join(substr))\n",
    "        return\n",
    "    \n",
    "    for i in range(0, len(arr)):\n",
    "        if visited[i]:\n",
    "            continue\n",
    "        substr.append(arr[i])\n",
    "        visited[i] = True\n",
    "        print((substr, ways))\n",
    "        permutations_recursion(substr, arr, visited, ways)\n",
    "        visited[i] = False\n",
    "        substr.pop()\n",
    "\n",
    "test = 'abc'\n",
    "visited = [False] * len(test)\n",
    "ways = list()\n",
    "permutations_recursion(list(), list(test), visited, ways)\n",
    "print(ways)"
   ]
  },
  {
   "cell_type": "code",
   "execution_count": 8,
   "metadata": {},
   "outputs": [
    {
     "name": "stdout",
     "output_type": "stream",
     "text": [
      "[[], [], [], [], [], []]\n"
     ]
    }
   ],
   "source": [
    "def number_of_subsets(arr, startIdx, endIdx, subsets, results):\n",
    "    results.append(subsets)\n",
    "\n",
    "    for i in range(startIdx, endIdx):\n",
    "        subsets.append(arr[i])\n",
    "        number_of_subsets(arr, startIdx+1, endIdx, subsets, results)\n",
    "        subsets.pop()\n",
    "        \n",
    "test = 'abc'\n",
    "subsets = list()\n",
    "results = list()\n",
    "\n",
    "number_of_subsets(list(test), 0, len(test), subsets, results)\n",
    "print(results)"
   ]
  }
 ],
 "metadata": {
  "kernelspec": {
   "display_name": "Python 3",
   "language": "python",
   "name": "python3"
  },
  "language_info": {
   "codemirror_mode": {
    "name": "ipython",
    "version": 3
   },
   "file_extension": ".py",
   "mimetype": "text/x-python",
   "name": "python",
   "nbconvert_exporter": "python",
   "pygments_lexer": "ipython3",
   "version": "3.8.4"
  }
 },
 "nbformat": 4,
 "nbformat_minor": 4
}
