{
 "cells": [
  {
   "cell_type": "raw",
   "metadata": {},
   "source": [
    "https://leetcode.com/problems/maximum-sum-of-3-non-overlapping-subarrays/\n",
    "In a given array nums of positive integers, find three non-overlapping subarrays with maximum sum.\n",
    "\n",
    "Each subarray will be of size k, and we want to maximize the sum of all 3*k entries.\n",
    "\n",
    "Return the result as a list of indices representing the starting position of each interval (0-indexed). If there are multiple answers, return the lexicographically smallest one.\n",
    "\n",
    "Example:\n",
    "\n",
    "Input: [1,2,1,2,6,7,5,1], 2\n",
    "Output: [0, 3, 5]\n",
    "Explanation: Subarrays [1, 2], [2, 6], [7, 5] correspond to the starting indices [0, 3, 5].\n",
    "We could have also taken [2, 1], but an answer of [1, 3, 5] would be lexicographically larger."
   ]
  },
  {
   "cell_type": "code",
   "execution_count": 11,
   "metadata": {},
   "outputs": [
    {
     "name": "stdout",
     "output_type": "stream",
     "text": [
      "[3, 3, 3, 8, 13, 12, 6]\n",
      "[0, 0, 0, 3, 4, 4, 4]\n",
      "[4, 4, 4, 4, 4, 5, 6]\n",
      "(2, 2, 0, 0, 4, 4)\n",
      "(3, 2, 0, 1, 5, 5)\n",
      "(4, 2, 0, 2, 6, 6)\n"
     ]
    },
    {
     "data": {
      "text/plain": [
       "(0, 3, 5)"
      ]
     },
     "execution_count": 11,
     "metadata": {},
     "output_type": "execute_result"
    }
   ],
   "source": [
    "from typing import List\n",
    "\n",
    "def maxSumOfThreeSubarrays(nums: List[int], k: int) -> List[int]:\n",
    "    W = [] # array of sums of windows\n",
    "    curr_sum = 0\n",
    "    for i, x in enumerate(nums):\n",
    "        curr_sum += x\n",
    "        if i >= k: \n",
    "            curr_sum -= nums[i - k]\n",
    "        if i >= k - 1: \n",
    "            W.append(curr_sum)\n",
    "    \n",
    "    print(W)\n",
    "    \n",
    "    left = [0] * len(W)\n",
    "    best = 0\n",
    "    for i in range(len(W)):\n",
    "        if W[i] > W[best]:\n",
    "            best = i\n",
    "        left[i] = best\n",
    "\n",
    "    right = [0] * len(W)\n",
    "    best = len(W) - 1\n",
    "    for i in range(len(W) - 1, -1, -1):\n",
    "        if W[i] >= W[best]:\n",
    "            best = i\n",
    "        right[i] = best\n",
    "    \n",
    "    print(left)\n",
    "    print(right)\n",
    "    \n",
    "    ans = None\n",
    "    for j in range(k, len(W) - k):\n",
    "        i, l = left[j - k], right[j + k]\n",
    "        print((j, k, i, j-k, l, j+k))\n",
    "        if ans is None or (W[i] + W[j] + W[l] > W[ans[0]] + W[ans[1]] + W[ans[2]]):\n",
    "            ans = i, j, l\n",
    "    return ans\n",
    "\n",
    "maxSumOfThreeSubarrays([1,2,1,2,6,7,5,1], k=2)"
   ]
  }
 ],
 "metadata": {
  "kernelspec": {
   "display_name": "Python 3",
   "language": "python",
   "name": "python3"
  },
  "language_info": {
   "codemirror_mode": {
    "name": "ipython",
    "version": 3
   },
   "file_extension": ".py",
   "mimetype": "text/x-python",
   "name": "python",
   "nbconvert_exporter": "python",
   "pygments_lexer": "ipython3",
   "version": "3.8.6"
  }
 },
 "nbformat": 4,
 "nbformat_minor": 4
}
