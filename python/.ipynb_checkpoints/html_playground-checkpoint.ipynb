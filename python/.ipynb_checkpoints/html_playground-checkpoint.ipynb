{
 "cells": [
  {
   "cell_type": "code",
   "execution_count": 1,
   "metadata": {},
   "outputs": [],
   "source": [
    "html = \"\"\"\n",
    "<!DOCTYPE html>\n",
    "<html>\n",
    "<head>\n",
    "  <style>table, th, td {\n",
    "  border: 1px solid black;\n",
    "  border-collapse: collapse;\n",
    "}\n",
    "\n",
    "th, td {\n",
    "  padding: 5px;\n",
    "  text-align: left;\n",
    "}\n",
    "</style>\n",
    "</head>\n",
    "<body>\n",
    "\n",
    "<h2>Cell that spans two rows</h2>\n",
    "<p>To make a cell span more than one row, use the rowspan attribute.</p>\n",
    "\n",
    "<table style=\"width:100%\">\n",
    "  <tr>\n",
    "    <th>Name:</th>\n",
    "    <td>Bill Gates</td>\n",
    "  </tr>\n",
    "  <tr>\n",
    "    <th rowspan=\"2\">Telephone:</th>\n",
    "    <td>55577854</td>\n",
    "  </tr>\n",
    "  <tr>\n",
    "    <td>55577855</td>\n",
    "  </tr>\n",
    "</table>\n",
    "\n",
    "</body>\n",
    "</html>\n",
    "\n",
    "\"\"\""
   ]
  },
  {
   "cell_type": "code",
   "execution_count": 2,
   "metadata": {},
   "outputs": [
    {
     "data": {
      "text/plain": [
       "'\\n\\n\\nCell that spans two rows\\nTo make a cell span more than one row, use the rowspan attribute.\\n\\n\\n  \\n    Name:\\n    Bill Gates\\n  \\n  \\n    Telephone:\\n    55577854\\n  \\n  \\n    55577855\\n  \\n\\n\\n\\n\\n\\n'"
      ]
     },
     "execution_count": 2,
     "metadata": {},
     "output_type": "execute_result"
    }
   ],
   "source": [
    "from bs4 import BeautifulSoup\n",
    "\n",
    "soup = BeautifulSoup(html)\n",
    "[s.extract() for s in soup(['style', 'script', '[document]', 'head', 'title'])]\n",
    "visible_text = soup.getText()\n",
    "visible_text"
   ]
  },
  {
   "cell_type": "code",
   "execution_count": 16,
   "metadata": {},
   "outputs": [
    {
     "name": "stdout",
     "output_type": "stream",
     "text": [
      "<table style=\"width:100%\">\n",
      "  <tr>\n",
      "    <th>Name:</th>\n",
      "    <td>Bill Gates</td>\n",
      "  </tr>\n",
      "  <tr>\n",
      "    <th rowspan=\"2\">Telephone:</th>\n",
      "    <td>55577854</td>\n",
      "  </tr>\n",
      "  <tr>\n",
      "    <td>55577855</td>\n",
      "  </tr>\n",
      "</table>\n",
      "['attrs', 'find', 'get', 'html', 'strip', 'tag', 'text']\n"
     ]
    },
    {
     "data": {
      "text/plain": [
       "'Name:'"
      ]
     },
     "execution_count": 16,
     "metadata": {},
     "output_type": "execute_result"
    }
   ],
   "source": [
    "from gazpacho import Soup\n",
    "\n",
    "soup = Soup(html)\n",
    "layout = soup.find('table')\n",
    "print(layout)\n",
    "print(dir(layout))\n",
    "\n",
    "layout.text"
   ]
  }
 ],
 "metadata": {
  "kernelspec": {
   "display_name": "Python 3",
   "language": "python",
   "name": "python3"
  },
  "language_info": {
   "codemirror_mode": {
    "name": "ipython",
    "version": 3
   },
   "file_extension": ".py",
   "mimetype": "text/x-python",
   "name": "python",
   "nbconvert_exporter": "python",
   "pygments_lexer": "ipython3",
   "version": "3.8.6"
  }
 },
 "nbformat": 4,
 "nbformat_minor": 4
}
