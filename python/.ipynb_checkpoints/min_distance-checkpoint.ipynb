{
 "cells": [
  {
   "cell_type": "code",
   "execution_count": 1,
   "metadata": {},
   "outputs": [],
   "source": [
    "blocks = [\n",
    "    {'gym': False, 'school': True, 'store': False},\n",
    "    {'gym': True, 'school': False, 'store': False},\n",
    "    {'gym': True, 'school': True, 'store': False},\n",
    "    {'gym': False, 'school': True, 'store': False},\n",
    "    {'gym': False, 'school': True, 'store': True},\n",
    "]\n",
    "\n",
    "reqs = ['gym', 'school', 'store']"
   ]
  },
  {
   "cell_type": "code",
   "execution_count": 24,
   "metadata": {},
   "outputs": [
    {
     "name": "stdout",
     "output_type": "stream",
     "text": [
      "[[inf, 0, 0, 1, 2], [0, 1, 0, 0, 0], [inf, inf, inf, inf, 0]]\n",
      "[[1, 0, 4, 3, 2], [2, 1, 0, 0, 0], [4, 3, 2, 1, 0]]\n",
      "(2, 4)\n"
     ]
    }
   ],
   "source": [
    "matrix = [[float('inf') for i in range(len(blocks))] for j in range(len(reqs))]\n",
    "\n",
    "index_mapping = {key: idx for idx, key in enumerate(reqs)}\n",
    "\n",
    "for i in range(len(blocks)):\n",
    "    for key in reqs:\n",
    "        j = index_mapping[key]\n",
    "        if blocks[i][key]:\n",
    "            matrix[j][i] = 0\n",
    "        else:\n",
    "            matrix[j][i] = matrix[j][i-1]+1\n",
    "        \n",
    "print(matrix)\n",
    "\n",
    "for i in range(len(blocks)-2, -1, -1):\n",
    "    for key in reqs:\n",
    "        j = index_mapping[key]\n",
    "        if blocks[i+1][key]:\n",
    "            matrix[j][i] = min(matrix[j][i], matrix[j][i+1]+1)\n",
    "        else:\n",
    "            matrix[j][i] = matrix[j][i+1]+1\n",
    "            \n",
    "print(matrix)\n",
    "\n",
    "global_min = (float('inf'), None)\n",
    "\n",
    "for i in range(len(blocks)):\n",
    "    total = 0\n",
    "    for key in reqs:\n",
    "        j = index_mapping[key]\n",
    "        total += matrix[j][i]\n",
    "    if total < global_min[0]:\n",
    "        global_min = (total, i)\n",
    "        \n",
    "print(global_min)\n",
    "\n",
    "# time complexity: len(blocks) - N, len(block[0]) - A -> 3*N*A\n",
    "# space complexity: O(N*A)"
   ]
  }
 ],
 "metadata": {
  "kernelspec": {
   "display_name": "Python 3",
   "language": "python",
   "name": "python3"
  },
  "language_info": {
   "codemirror_mode": {
    "name": "ipython",
    "version": 3
   },
   "file_extension": ".py",
   "mimetype": "text/x-python",
   "name": "python",
   "nbconvert_exporter": "python",
   "pygments_lexer": "ipython3",
   "version": "3.8.6"
  }
 },
 "nbformat": 4,
 "nbformat_minor": 4
}
