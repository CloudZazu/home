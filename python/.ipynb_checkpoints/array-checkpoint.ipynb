{
 "cells": [
  {
   "cell_type": "code",
   "execution_count": 7,
   "metadata": {},
   "outputs": [
    {
     "name": "stdout",
     "output_type": "stream",
     "text": [
      "['t', 'h', 'e']\n",
      "deque(['the'])\n",
      "['s', 'k', 'y']\n",
      "deque(['sky', 'the'])\n",
      "['i', 's']\n",
      "deque(['is', 'sky', 'the'])\n",
      "['b', 'l', 'u', 'e']\n",
      "deque(['blue', 'is', 'sky', 'the'])\n",
      "['b', 'u', 't']\n",
      "deque(['but', 'blue', 'is', 'sky', 'the'])\n",
      "['m', 'a', 'y', 'b', 'e']\n",
      "deque(['maybe', 'but', 'blue', 'is', 'sky', 'the'])\n",
      "['s', 'e', 'x', 'y']\n",
      "deque(['sexy', 'maybe', 'but', 'blue', 'is', 'sky', 'the'])\n"
     ]
    },
    {
     "data": {
      "text/plain": [
       "'sexy maybe but blue is sky the'"
      ]
     },
     "execution_count": 7,
     "metadata": {},
     "output_type": "execute_result"
    }
   ],
   "source": [
    "from collections import deque\n",
    "\n",
    "\n",
    "def reverseWords(s: str) -> str:\n",
    "    left, right = 0, len(s) - 1\n",
    "    # remove leading spaces\n",
    "    while left <= right and s[left] == ' ':\n",
    "        left += 1\n",
    "\n",
    "    # remove trailing spaces\n",
    "    while left <= right and s[right] == ' ':\n",
    "        right -= 1\n",
    "\n",
    "    d, word = deque(), []\n",
    "    # push word by word in front of deque\n",
    "    while left <= right:\n",
    "        if s[left] == ' ' and word:\n",
    "            print(word)\n",
    "            d.appendleft(''.join(word))\n",
    "            print(d)\n",
    "            word = []\n",
    "        elif s[left] != ' ':\n",
    "            word.append(s[left])\n",
    "        left += 1\n",
    "    print(word)\n",
    "    d.appendleft(''.join(word))\n",
    "    \n",
    "    print(d)\n",
    "    return ' '.join(d)\n",
    "\n",
    "reverseWords('   the   sky   is   blue but maybe sexy')"
   ]
  },
  {
   "cell_type": "code",
   "execution_count": 13,
   "metadata": {},
   "outputs": [
    {
     "name": "stdout",
     "output_type": "stream",
     "text": [
      "[1, 3, 6, 10]\n",
      "(3, 0, 1)\n",
      "(6, 0, 2)\n",
      "(10, 0, 3)\n",
      "(5, 1, 2)\n",
      "(9, 1, 3)\n",
      "(7, 2, 3)\n"
     ]
    }
   ],
   "source": [
    "arr = [1,2,3,4]\n",
    "target = 1\n",
    "\n",
    "sums(i,j) = sums(j)-sums(i)+\n",
    "\n",
    "prefix_sums = [0]*len(arr)\n",
    "\n",
    "prefix_sums[0] = arr[0]\n",
    "\n",
    "for idx in range(1, len(arr)):\n",
    "    prefix_sums[idx] = prefix_sums[idx-1] + arr[idx]\n",
    "\n",
    "print(prefix_sums)\n",
    "\n",
    "for start in range(len(arr)):\n",
    "    for end in range(start+1, len(arr)):\n",
    "        total = prefix_sums[end]-prefix_sums[start]+arr[start]\n",
    "        print((total, start, end))"
   ]
  }
 ],
 "metadata": {
  "kernelspec": {
   "display_name": "Python 3",
   "language": "python",
   "name": "python3"
  },
  "language_info": {
   "codemirror_mode": {
    "name": "ipython",
    "version": 3
   },
   "file_extension": ".py",
   "mimetype": "text/x-python",
   "name": "python",
   "nbconvert_exporter": "python",
   "pygments_lexer": "ipython3",
   "version": "3.8.6"
  }
 },
 "nbformat": 4,
 "nbformat_minor": 4
}
