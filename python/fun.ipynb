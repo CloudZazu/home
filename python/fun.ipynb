{
 "cells": [
  {
   "cell_type": "code",
   "execution_count": 3,
   "metadata": {},
   "outputs": [],
   "source": [
    "# calculate shortest distance in a matrix\n",
    "matrix = \\\n",
    "[[1, 0, 0, 0],\n",
    " [0, 0, 0, 0],\n",
    " [0, 1, 0, 0]]"
   ]
  },
  {
   "cell_type": "code",
   "execution_count": 5,
   "metadata": {},
   "outputs": [
    {
     "data": {
      "text/plain": [
       "3"
      ]
     },
     "execution_count": 5,
     "metadata": {},
     "output_type": "execute_result"
    }
   ],
   "source": [
    "# brute force solution O(m*n) where m*n are the dimensions of the matrix\n",
    "\n",
    "def get_distance_between_two_points(matrix):\n",
    "    locations = list()\n",
    "\n",
    "    for row in range(len(matrix)):\n",
    "        for col in range(len(matrix[row])):\n",
    "            if matrix[row][col]:\n",
    "                locations.append((row, col))\n",
    "\n",
    "    # location a (0,0)\n",
    "    # location b (2,1)\n",
    "    # distance wise we can use the distance formula\n",
    "    # dist = y2-y1 + x2-x1\n",
    "    # 3\n",
    "\n",
    "    if len(locations) != 2:\n",
    "        raise Exception('invalid locations found - needs to have 2')\n",
    "        \n",
    "    first_loc, second_loc = locations\n",
    "    \n",
    "    dist = 0\n",
    "    \n",
    "    for dim1, dim2 in zip(first_loc, second_loc):\n",
    "        dist += abs(dim2-dim1)\n",
    "        \n",
    "    return dist\n",
    "\n",
    "get_distance_between_two_points(matrix)"
   ]
  },
  {
   "cell_type": "code",
   "execution_count": 2,
   "metadata": {},
   "outputs": [],
   "source": [
    "# calculate shortest distance in a matrix\n",
    "matrix = \\\n",
    "[[1, 0, 0, 0],\n",
    " [0, 0, 0, 1],\n",
    " [0, 1, 0, 0]]"
   ]
  },
  {
   "cell_type": "code",
   "execution_count": 28,
   "metadata": {},
   "outputs": [],
   "source": [
    "# calculate shortest distance in a matrix\n",
    "matrix = \\\n",
    "[[1, 0, 0, 0],\n",
    " [0, 0, 0, 1],\n",
    " [0, 1, 0, 0],\n",
    " [0, 0, 0, 0],\n",
    " [1, 1, 1, 1]]"
   ]
  },
  {
   "cell_type": "code",
   "execution_count": 40,
   "metadata": {},
   "outputs": [],
   "source": [
    "def printMatrix(matrix):\n",
    "    output = '\\n'.join([str(row) for row in matrix])\n",
    "    print(f'[\\n{output}\\n]')"
   ]
  },
  {
   "cell_type": "code",
   "execution_count": 53,
   "metadata": {},
   "outputs": [
    {
     "name": "stdout",
     "output_type": "stream",
     "text": [
      "[\n",
      "[1, 0, 0, 0]\n",
      "[0, 0, 0, 1]\n",
      "[0, 1, 0, 0]\n",
      "[0, 0, 0, 0]\n",
      "[1, 1, 1, 1]\n",
      "]\n",
      "[(0, 0), (1, 3), (2, 1), (4, 0), (4, 1), (4, 2), (4, 3)]\n",
      "(2, 1)\n",
      "(4, 1)\n",
      "more locations than we thought - [(4, 2), (4, 0)]\n",
      "(4, 2)\n",
      "(4, 3)\n",
      "(1, 3)\n"
     ]
    },
    {
     "data": {
      "text/plain": [
       "10"
      ]
     },
     "execution_count": 53,
     "metadata": {},
     "output_type": "execute_result"
    }
   ],
   "source": [
    "# djesktras algorithm via bfs\n",
    "import collections \n",
    "\n",
    "def bfs(matrix, start_point, visited):\n",
    "    queue = collections.deque([start_point])\n",
    "\n",
    "    while queue:\n",
    "        neighboring_zeroes = list()\n",
    "        \n",
    "        for _ in range(len(queue)):\n",
    "            x, y = queue.popleft()\n",
    "            visited.add((x,y))\n",
    "            \n",
    "            ones, zeroes = check_surroundings_for_ones(matrix, x, y, visited)\n",
    "            #print((ones, zeroes))\n",
    "            if ones:\n",
    "                return ones\n",
    "            \n",
    "            neighboring_zeroes.extend(zeroes)\n",
    "        \n",
    "        queue.extend(neighboring_zeroes)\n",
    "\n",
    "    return ones\n",
    "\n",
    "def check_surroundings_for_ones(matrix, x, y, visited):\n",
    "    ones = list()\n",
    "    zeroes = list()\n",
    "\n",
    "    for delta_x, delta_y in [(0,1),(0,-1),(1,0),(-1,0)]:\n",
    "        cur_x = x + delta_x\n",
    "        cur_y = y + delta_y\n",
    "\n",
    "        if 0 <= cur_x < len(matrix) and 0 <= cur_y < len(matrix[cur_x]) \\\n",
    "            and (cur_x, cur_y) not in visited:\n",
    "\n",
    "            valid_point = (cur_x, cur_y)\n",
    "            if matrix[cur_x][cur_y]:\n",
    "                ones.append(valid_point)\n",
    "            else:\n",
    "                zeroes.append(valid_point)\n",
    "\n",
    "    return ones, zeroes\n",
    "    \n",
    "def get_shortest_distance_across_all_ones(matrix):\n",
    "    # get start point of a 1 for bfs \n",
    "    # bfs up till a 1 is reached or when everything is visited\n",
    "    # push the adjacent 0 locations to queue\n",
    "    # keep track of distance for each one as shortest distance \n",
    "    \n",
    "    locs = list()\n",
    "    \n",
    "    for row_idx in range(len(matrix)):\n",
    "        for col_idx in range(len(matrix[row_idx])):\n",
    "            val = matrix[row_idx][col_idx]\n",
    "            if val:\n",
    "                locs.append((row_idx, col_idx))\n",
    "    \n",
    "    if not locs or len(locs) < 2:\n",
    "        raise Exception(f'invalid locs - {locs}')\n",
    "    \n",
    "    print(locs)\n",
    "    start_point = locs[0]\n",
    "    visited_so_far = set(start_point)\n",
    "    dist = 0\n",
    "    \n",
    "    for _ in range(len(locs)-1): # len of 1st -1 is the max amount of edges\n",
    "        visited = visited_so_far\n",
    "        closest_locations = bfs(matrix, start_point, visited)\n",
    "        if not closest_locations:\n",
    "            continue\n",
    "            \n",
    "        if len(closest_locations) > 1:\n",
    "            print(f'more locations than we thought - {closest_locations}')\n",
    "        \n",
    "        new_start = closest_locations[0]\n",
    "        print(new_start)\n",
    "        dist += abs(start_point[0]-new_start[0]) + abs(start_point[1]-new_start[1])\n",
    "        visited.add(new_start)\n",
    "        start_point = new_start\n",
    "    \n",
    "    return dist\n",
    "\n",
    "printMatrix(matrix)\n",
    "get_shortest_distance_across_all_ones(matrix)"
   ]
  },
  {
   "cell_type": "code",
   "execution_count": 43,
   "metadata": {},
   "outputs": [
    {
     "name": "stdout",
     "output_type": "stream",
     "text": [
      "(3, 2, [(0, 0), (1, 3), (2, 1), (4, 0), (4, 1), (4, 2), (4, 3)])\n",
      "(2, 3, [(1, 3), (2, 1), (4, 0), (4, 1), (4, 2), (4, 3)])\n",
      "(1, 1, [(1, 3), (4, 0), (4, 1), (4, 2), (4, 3)])\n",
      "(3, 3, [(1, 3), (4, 0), (4, 2), (4, 3)])\n",
      "(1, 1, [(4, 0), (4, 2), (4, 3)])\n",
      "(2, 1, [(4, 0), (4, 2)])\n"
     ]
    },
    {
     "data": {
      "text/plain": [
       "12"
      ]
     },
     "execution_count": 43,
     "metadata": {},
     "output_type": "execute_result"
    }
   ],
   "source": [
    "def backtrack_shortest_dist(matrix):\n",
    "    # get 1 locations\n",
    "    # a) recurse on them till all permutations are covered\n",
    "    # keep track of current min neighbor and increment to cover the rest\n",
    "    locs = list()\n",
    "    \n",
    "    for row_idx in range(len(matrix)):\n",
    "        for col_idx in range(len(matrix[row_idx])):\n",
    "            val = matrix[row_idx][col_idx]\n",
    "            if val:\n",
    "                locs.append((row_idx, col_idx))\n",
    "        \n",
    "    if not locs or len(locs) < 2:\n",
    "        raise Exception(f'invalid locs - {locs}')\n",
    "    \n",
    "\n",
    "    def backtrack(matrix, pos, max_pos, locs):\n",
    "        if pos > max_pos or len(locs) < 2:\n",
    "            return 0\n",
    "        \n",
    "        dist = float('inf')\n",
    "        min_neighbor = None\n",
    "        \n",
    "        for idx in range(len(locs)):\n",
    "            # skip current adjacent positon\n",
    "            if idx == pos:\n",
    "                continue\n",
    "                \n",
    "            diff = abs(locs[idx][1]-locs[pos][1]) + abs(locs[idx][0]-locs[pos][0])\n",
    "            if diff < dist:\n",
    "                dist = diff\n",
    "                min_neighbor = idx\n",
    "                \n",
    "        print((dist, min_neighbor, locs))\n",
    "        \n",
    "        locs.remove(locs[pos])\n",
    "        \n",
    "        dist += backtrack(matrix, min_neighbor-1, max_pos, locs)\n",
    "        \n",
    "        return dist\n",
    "    \n",
    "    # provide matrix, starting position, max positions, all one locations, \n",
    "    return backtrack(matrix, 0, len(locs), locs)\n",
    "\n",
    "backtrack_shortest_dist(matrix)\n",
    "        "
   ]
  },
  {
   "cell_type": "code",
   "execution_count": 36,
   "metadata": {},
   "outputs": [
    {
     "data": {
      "text/plain": [
       "True"
      ]
     },
     "execution_count": 36,
     "metadata": {},
     "output_type": "execute_result"
    }
   ],
   "source": [
    "class Trie:\n",
    "    def __init__(self):\n",
    "        self.trie = dict()\n",
    "        \n",
    "    def add_word(self, word):\n",
    "        node = self.trie\n",
    "        \n",
    "        for char in word:\n",
    "            if char not in node:\n",
    "                node[char] = dict()\n",
    "            \n",
    "            node = node[char]\n",
    "            \n",
    "        node['$'] = 0\n",
    "    \n",
    "    def word_lookup(self, word):\n",
    "        node = self.trie\n",
    "        \n",
    "        for char in word:\n",
    "            if char not in node:\n",
    "                return False\n",
    "            \n",
    "            node = node[char]\n",
    "            \n",
    "        if '$' in node:\n",
    "            return True\n",
    "        \n",
    "        return False\n",
    "    \n",
    "    def prefix_lookup(self, prefix):\n",
    "        node = self.trie\n",
    "        \n",
    "        for char in prefix:\n",
    "            if char not in node:\n",
    "                return False\n",
    "            \n",
    "            node = node[char]\n",
    "        \n",
    "        return True\n",
    "    \n",
    "words = ['ax', 'lol', 'apple', 'app', 'pop', 'cap', 'edd', 'pikachu']\n",
    "trie = Trie()\n",
    "for word in words:\n",
    "    trie.add_word(word)\n",
    "\n",
    "assert trie.word_lookup('a') == False\n",
    "assert trie.word_lookup('ax') == True\n",
    "assert trie.word_lookup('boom') == False\n",
    "trie.prefix_lookup('a')"
   ]
  },
  {
   "cell_type": "code",
   "execution_count": 37,
   "metadata": {},
   "outputs": [],
   "source": [
    "crossword = [['a','p','p','l','e'],\n",
    "             ['x','a','o','o','d'],\n",
    "             ['c','c','p','l','d']]\n",
    "\n",
    "# output all words in crosswords -> 'ax', 'lol', 'apple', 'app'\n",
    "\n",
    "# bfs each point and check surroundings if a word exists\n",
    "   # if current string is a word, save\n",
    "    # if there are more word options, check same direction within word dictionary\n",
    "    # save current string as it goes\n",
    "# if not, move on\n",
    "\n",
    "# another solution\n",
    "# recurse on surroundings but check if current substring is in a dictionary otherwise quit"
   ]
  },
  {
   "cell_type": "code",
   "execution_count": 38,
   "metadata": {},
   "outputs": [
    {
     "data": {
      "text/plain": [
       "{'app', 'apple', 'ax', 'cap', 'edd', 'lol', 'pop'}"
      ]
     },
     "execution_count": 38,
     "metadata": {},
     "output_type": "execute_result"
    }
   ],
   "source": [
    "import collections\n",
    "\n",
    "def find_all_words(matrix, dictionary):\n",
    "                \n",
    "    def check_surroundings(row, col, matrix, dictionary):\n",
    "        cur_prefix = matrix[row][col]\n",
    "        \n",
    "        found_prefixes = list()\n",
    "        \n",
    "        for delta_x, delta_y in [(1,0), (-1,0), (0,1), (0,-1), (1,1), (-1,-1)]:\n",
    "            cur_col = delta_x + col\n",
    "            cur_row = delta_y + row\n",
    "\n",
    "            if 0 <= cur_row < len(matrix) and 0 <= cur_col < len(matrix[0]):\n",
    "                new_prefix = cur_prefix + matrix[cur_row][cur_col]\n",
    "                if dictionary.prefix_lookup(new_prefix):\n",
    "                    found_prefixes.append((cur_prefix, delta_x, delta_y, row, col))\n",
    "                    \n",
    "        return found_prefixes\n",
    "    \n",
    "    def bfs(prefix, matrix, dictionary, output):\n",
    "        cur_prefix, delta_x, delta_y, cur_row, cur_col = prefix\n",
    "        queue = collections.deque([(cur_row, cur_col)])\n",
    "        \n",
    "        while queue:\n",
    "            row, col = queue.popleft()\n",
    "            \n",
    "            cur_col = delta_x + col\n",
    "            cur_row = delta_y + row\n",
    "\n",
    "            if 0 <= cur_row < len(matrix) and 0 <= cur_col < len(matrix[0]):\n",
    "                new_prefix = cur_prefix + matrix[cur_row][cur_col]\n",
    "                #print(new_prefix)\n",
    "                if dictionary.prefix_lookup(new_prefix):\n",
    "                    queue.append((cur_row, cur_col))\n",
    "                    if dictionary.word_lookup(new_prefix):\n",
    "                        output.append(new_prefix)\n",
    "                else:\n",
    "                    break\n",
    "            else:\n",
    "                break\n",
    "                \n",
    "            cur_prefix = new_prefix\n",
    "            \n",
    "    visited = set()\n",
    "    output = list()\n",
    "    \n",
    "    for row in range(len(matrix)):\n",
    "        for col in range(len(matrix[0])):\n",
    "            if (row, col) not in visited and dictionary.prefix_lookup(matrix[row][col]):\n",
    "                if dictionary.word_lookup(matrix[row][col]):\n",
    "                    output.append(matrix[row][col])\n",
    "                    \n",
    "                found_prefixes = check_surroundings(row, col, matrix, dictionary)\n",
    "                for prefix in found_prefixes:\n",
    "                    bfs(prefix, matrix, dictionary, output)\n",
    "            \n",
    "            visited.add((row, col))\n",
    "    return set(output)\n",
    "                    \n",
    "find_all_words(crossword, trie)"
   ]
  }
 ],
 "metadata": {
  "kernelspec": {
   "display_name": "Python 3",
   "language": "python",
   "name": "python3"
  },
  "language_info": {
   "codemirror_mode": {
    "name": "ipython",
    "version": 3
   },
   "file_extension": ".py",
   "mimetype": "text/x-python",
   "name": "python",
   "nbconvert_exporter": "python",
   "pygments_lexer": "ipython3",
   "version": "3.8.4"
  }
 },
 "nbformat": 4,
 "nbformat_minor": 4
}
