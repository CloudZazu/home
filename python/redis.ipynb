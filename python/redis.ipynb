{
 "cells": [
  {
   "cell_type": "markdown",
   "metadata": {},
   "source": [
    "# Initial RedisController design without redisworks"
   ]
  },
  {
   "cell_type": "code",
   "execution_count": null,
   "metadata": {},
   "outputs": [],
   "source": [
    "class RedisController:\n",
    "    \"\"\"\n",
    "    Manages dataframe or string retrievals and stores in Redis\n",
    "    \"\"\"\n",
    "    def __init__(self, hostname, name):\n",
    "        self.name = name\n",
    "        self.redis = redis.StrictRedis.from_url(url=hostname)\n",
    "\n",
    "    def get_df(self, name=None, key=None):\n",
    "        self._validate_key(key)\n",
    "        name = self._set_name(name)\n",
    "\n",
    "        jsonified_df = self.redis.hget(name, key).decode(\"utf-8\")\n",
    "        df = pd.DataFrame(json.loads(jsonified_df))\n",
    "        return df\n",
    "\n",
    "    def get(self, name=None, key=None):\n",
    "        self._validate_key(key)\n",
    "        name = self._set_name(name)\n",
    "        return self.redis.hget(name, key).decode(\"utf-8\")\n",
    "\n",
    "    def update(self, content, name=None, key=None, encoder=None):\n",
    "        self._validate_key(key)\n",
    "        name = self._set_name(name)\n",
    "\n",
    "        # This JSON Encoder will handle things like numpy arrays and datetimes\n",
    "        if not encoder:\n",
    "            encoder = plotly.utils.PlotlyJSONEncoder\n",
    "\n",
    "        if type(content) not in [pd.DataFrame, str]:\n",
    "            raise TypeError('Not supported type')\n",
    "\n",
    "        if type(content) == pd.DataFrame:\n",
    "            content = json.dumps(content.to_dict(),\n",
    "                                cls=encoder)\n",
    "\n",
    "        self.redis.hset(name, key, content)\n",
    "\n",
    "        return True\n",
    "\n",
    "    def _set_name(self, name):\n",
    "        if not name:\n",
    "            name = self.name\n",
    "        return name\n",
    "\n",
    "    def _validate_key(self, key):\n",
    "        if not key:\n",
    "            raise Exception('Need key')"
   ]
  },
  {
   "cell_type": "markdown",
   "metadata": {},
   "source": [
    "# Play around with redisworks!"
   ]
  },
  {
   "cell_type": "code",
   "execution_count": 68,
   "metadata": {},
   "outputs": [],
   "source": [
    "from redisworks import Root\n",
    "import datetime"
   ]
  },
  {
   "cell_type": "code",
   "execution_count": 69,
   "metadata": {},
   "outputs": [],
   "source": [
    "root = Root()"
   ]
  },
  {
   "cell_type": "code",
   "execution_count": null,
   "metadata": {},
   "outputs": [],
   "source": [
    "root.time = datetime.datetime.now()\n",
    "root.the.mapping.example = {1: 1, \"a\": \"b\"}"
   ]
  },
  {
   "cell_type": "code",
   "execution_count": 79,
   "metadata": {},
   "outputs": [],
   "source": [
    "root.my.list = [[1, 3, 4]]"
   ]
  },
  {
   "cell_type": "code",
   "execution_count": 80,
   "metadata": {},
   "outputs": [],
   "source": [
    "root.flush()"
   ]
  },
  {
   "cell_type": "code",
   "execution_count": 84,
   "metadata": {},
   "outputs": [
    {
     "name": "stdout",
     "output_type": "stream",
     "text": [
      "2019-07-30 11:11:08.702255\n"
     ]
    }
   ],
   "source": [
    "print(root.time)"
   ]
  },
  {
   "cell_type": "code",
   "execution_count": 86,
   "metadata": {},
   "outputs": [
    {
     "name": "stdout",
     "output_type": "stream",
     "text": [
      "<class 'dot.dot.LazyDot'>\n"
     ]
    }
   ],
   "source": [
    "time = root.time\n",
    "print(type(time))"
   ]
  },
  {
   "cell_type": "code",
   "execution_count": 82,
   "metadata": {},
   "outputs": [
    {
     "name": "stdout",
     "output_type": "stream",
     "text": [
      "<class 'dot.dot.LazyDot'>\n"
     ]
    }
   ],
   "source": [
    "print(type(root.my.list))"
   ]
  },
  {
   "cell_type": "code",
   "execution_count": 5,
   "metadata": {},
   "outputs": [
    {
     "name": "stdout",
     "output_type": "stream",
     "text": [
      "{1: 1, 'a': 'b'}\n"
     ]
    }
   ],
   "source": [
    "print(root.the.mapping.example)"
   ]
  },
  {
   "cell_type": "markdown",
   "metadata": {},
   "source": [
    "# New RedisController design with redisworks"
   ]
  },
  {
   "cell_type": "code",
   "execution_count": 91,
   "metadata": {},
   "outputs": [],
   "source": [
    "import datetime\n",
    "import json\n",
    "import pandas as pd\n",
    "import plotly\n",
    "import redisworks\n",
    "\n",
    "class RedisInstance(redisworks.Root):\n",
    "    def delete(self, item):\n",
    "        item = \"%s.%s\" % (self._registry.root_name, item)\n",
    "        self.red.delete(item)\n",
    "\n",
    "class RedisHandler:\n",
    "    def __init__(self, name, key):\n",
    "        self.name = name\n",
    "        self.key = key\n",
    "\n",
    "        self.base_path = f'{self.name}.{self.key}'\n",
    "        self.table = RedisInstance()\n",
    "\n",
    "    def update(self, content, encoder=None):\n",
    "\n",
    "        # This JSON Encoder will handle things like numpy arrays and datetimes\n",
    "        if not encoder:\n",
    "            encoder = plotly.utils.PlotlyJSONEncoder\n",
    "\n",
    "        content_json = content\n",
    "\n",
    "        if type(content) == pd.DataFrame:\n",
    "            content_json = json.dumps(content.to_dict(),\n",
    "                                cls=encoder)\n",
    "\n",
    "            self.table[self._get_path('df_types')] = [[str(dtype) for dtype in content.dtypes]]\n",
    "\n",
    "        self.table[self._get_path('updated_time')] = datetime.datetime.now()\n",
    "        self.table[self._get_path('content')] = content_json\n",
    "        self.table.flush()\n",
    "\n",
    "    def get(self):\n",
    "        base_path = f'{self.name}.{self.key}'\n",
    "\n",
    "        content = self.table[self._get_path('content')]\n",
    "        updated_time = self.table[self._get_path('updated_time')]\n",
    "        df_types = self.table[self._get_path('df_types')]\n",
    "\n",
    "        if not content and not updated_time:\n",
    "            return None\n",
    "\n",
    "        # Due to redisworks list storing behavior\n",
    "        if df_types:\n",
    "            df_types = df_types[0]\n",
    "\n",
    "        buffer = dict(content=content,\n",
    "                      updated_time=updated_time,\n",
    "                      df_types=df_types)\n",
    "\n",
    "        return buffer\n",
    "\n",
    "    def delete(self):\n",
    "        self.table.delete(self._get_path('updated_time'))\n",
    "        self.table.delete(self._get_path('content'))\n",
    "        return True\n",
    "\n",
    "    def _get_path(self, key):\n",
    "        return f'{self.base_path}.{key}'\n",
    "\n",
    "class RedisController:\n",
    "    \"\"\"\n",
    "    Manages dataframe or string retrievals and stores in Redis\n",
    "    \"\"\"\n",
    "    def __init__(self, hostname, name):\n",
    "        self.name = name\n",
    "\n",
    "    def get_df(self, name=None, key=None):\n",
    "        self._validate_key(key)\n",
    "        name = self._set_name(name)\n",
    "\n",
    "        handler = RedisHandler(name, key)\n",
    "        data = handler.get()\n",
    "        print(data['content'][:30])\n",
    "        print(type(data['content']))\n",
    "\n",
    "        data['content'] = str(data['content'])\n",
    "        df = pd.DataFrame(json.loads(data['content']))\n",
    "\n",
    "        DATETIME_REGEX = '(datetime)'\n",
    "\n",
    "        # If key df_types exist, retrieved data must be a dataframe\n",
    "        # If yes, cast time columns by found time datatype columns\n",
    "        if data['df_types']:\n",
    "            for idx, dtype in enumerate(data['df_types']):\n",
    "                if re.search(DATETIME_REGEX, dtype):\n",
    "                    df.iloc[:,idx] = df.iloc[:,idx].astype(dtype)\n",
    "        return df\n",
    "\n",
    "    def get(self, name=None, key=None):\n",
    "        self._validate_key(key)\n",
    "        name = self._set_name(name)\n",
    "        handler = RedisHandler(name, key)\n",
    "        return handler.get()\n",
    "\n",
    "    def update(self, content, name=None, key=None, encoder=None):\n",
    "        self._validate_key(key)\n",
    "        name = self._set_name(name)\n",
    "\n",
    "        if type(content) == list:\n",
    "            raise TypeError(f'{type(content)} not supported')\n",
    "\n",
    "        handler = RedisHandler(name, key)\n",
    "        handler.update(content, encoder=encoder)\n",
    "\n",
    "        return True\n",
    "\n",
    "    def delete(self, name=None, key=None):\n",
    "        self._validate_key(key)\n",
    "        name = self._set_name(name)\n",
    "        handler = RedisHandler(name, key)\n",
    "        return handler.delete()\n",
    "\n",
    "    def _set_name(self, name):\n",
    "        if not name:\n",
    "            name = self.name\n",
    "        return name\n",
    "\n",
    "    def _validate_key(self, key):\n",
    "        if not key:\n",
    "            raise Exception('Need key')\n"
   ]
  },
  {
   "cell_type": "code",
   "execution_count": 92,
   "metadata": {},
   "outputs": [],
   "source": [
    "import os\n",
    "REDIS_URL = os.environ.get('REDIS_URL', 'redis://localhost:6379')\n",
    "REDIS_HASH_NAME = os.environ.get(\"DASH_APP_NAME\", \"app_data\")\n",
    "redis_instance = RedisController(hostname=REDIS_URL, name=REDIS_HASH_NAME)"
   ]
  }
 ],
 "metadata": {
  "kernelspec": {
   "display_name": "Python 3",
   "language": "python",
   "name": "python3"
  },
  "language_info": {
   "codemirror_mode": {
    "name": "ipython",
    "version": 3
   },
   "file_extension": ".py",
   "mimetype": "text/x-python",
   "name": "python",
   "nbconvert_exporter": "python",
   "pygments_lexer": "ipython3",
   "version": "3.7.6"
  }
 },
 "nbformat": 4,
 "nbformat_minor": 4
}
