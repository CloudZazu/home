{
 "cells": [
  {
   "cell_type": "code",
   "execution_count": 9,
   "metadata": {},
   "outputs": [
    {
     "name": "stdout",
     "output_type": "stream",
     "text": [
      "[0, 0, 0, 0, 0, 0]\n",
      "[0, 0, 1, 0, 0, 0]\n",
      "[0, 1, 1, 0, 0, 0]\n",
      "[0, 1, 1, 0, 0, 4]\n",
      "[0, 1, 1, 2, 0, 4]\n",
      "[1, 1, 1, 2, 0, 4]\n"
     ]
    },
    {
     "data": {
      "text/plain": [
       "[1, 1, 1, 2, 3, 4]"
      ]
     },
     "execution_count": 9,
     "metadata": {},
     "output_type": "execute_result"
    }
   ],
   "source": [
    "# Counting sort\n",
    "# Time - O(n+k) where k is the range of the scope \n",
    "# Space - O(k)\n",
    "\n",
    "heights = [1,1,4,2,1,3]\n",
    "\n",
    "def countSort(arr):\n",
    "    \n",
    "    # Get the frequency map\n",
    "    maxVal = max(arr)\n",
    "    \n",
    "    sumLst = [0]*(maxVal+1)\n",
    "    \n",
    "    # Get frequency values\n",
    "    for i in range(len(arr)):\n",
    "        sumLst[arr[i]] += 1\n",
    "        \n",
    "    # Sum them all up \n",
    "    for i in range(1, maxVal+1):\n",
    "        sumLst[i] += sumLst[i-1]\n",
    "\n",
    "    output = [0]*len(arr)\n",
    "    for i in range(len(arr)):\n",
    "        #print(sumLst)\n",
    "        print(output)\n",
    "        idx = sumLst[arr[i]]-1\n",
    "        output[idx] = arr[i]\n",
    "        sumLst[arr[i]] -= 1\n",
    "        \n",
    "    return output\n",
    "\n",
    "countSort(heights)"
   ]
  },
  {
   "cell_type": "code",
   "execution_count": 5,
   "metadata": {},
   "outputs": [
    {
     "data": {
      "text/plain": [
       "'ee  yswcan'"
      ]
     },
     "execution_count": 5,
     "metadata": {},
     "output_type": "execute_result"
    }
   ],
   "source": [
    "\"\"\"\n",
    "Twitter (Easy)\n",
    "Given a string, sort it in decreasing order based on the frequency of characters. \n",
    "If there are multiple possible solutions, return any of them.\n",
    "For example, given the string tweet, return tteew. eettw would also be acceptable.\n",
    "\"\"\"\n",
    "\n",
    "def sortByCharFreq(string):\n",
    "    \n",
    "    frequency_mapping = dict()\n",
    "    \n",
    "    for char in string:\n",
    "        if char not in frequency_mapping:\n",
    "            frequency_mapping[char] = 0\n",
    "            \n",
    "        frequency_mapping[char] += 1\n",
    "        \n",
    "    output_lst = list()\n",
    "    \n",
    "    for key, value in sorted(frequency_mapping.items(), key=lambda i:-i[1]):\n",
    "        for i in range(value):\n",
    "            output_lst.append(key)\n",
    "            \n",
    "    return ''.join(output_lst)\n",
    "\n",
    "sortByCharFreq('tweet')\n",
    "sortByCharFreq('yes we can')"
   ]
  },
  {
   "cell_type": "code",
   "execution_count": 11,
   "metadata": {},
   "outputs": [
    {
     "data": {
      "text/plain": [
       "[[0, 89.75, 1], [180.5, 269.75, 2], [90.75, 179.5, 3], [270.75, 359, 4]]"
      ]
     },
     "execution_count": 11,
     "metadata": {},
     "output_type": "execute_result"
    }
   ],
   "source": [
    "def consistentHashing(n):\n",
    "    # write your code here\n",
    "\n",
    "    results = [[0, 359, 1]]\n",
    "    for i in range(1, n):\n",
    "        index = 0\n",
    "        for j in range(i):\n",
    "            if results[j][1] - results[j][0] + 1 > \\\n",
    "               results[index][1] - results[index][0] + 1:\n",
    "                index = j\n",
    "\n",
    "        x, y = results[index][0], results[index][1]\n",
    "        results[index][1] = (x + y) / 2\n",
    "        results.append([(x + y) / 2 + 1, y, i + 1])\n",
    "\n",
    "    return results\n",
    "\n",
    "consistentHashing(4)"
   ]
  }
 ],
 "metadata": {
  "kernelspec": {
   "display_name": "Python 3",
   "language": "python",
   "name": "python3"
  },
  "language_info": {
   "codemirror_mode": {
    "name": "ipython",
    "version": 3
   },
   "file_extension": ".py",
   "mimetype": "text/x-python",
   "name": "python",
   "nbconvert_exporter": "python",
   "pygments_lexer": "ipython3",
   "version": "3.7.6"
  }
 },
 "nbformat": 4,
 "nbformat_minor": 4
}
