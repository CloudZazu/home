{
 "cells": [
  {
   "cell_type": "markdown",
   "metadata": {},
   "source": [
    "<div>\n",
    "<img src=\"img/circle_overlap.png\" width=\"600\" height=\"400\"/>\n",
    "</div>"
   ]
  },
  {
   "cell_type": "code",
   "execution_count": 106,
   "metadata": {},
   "outputs": [],
   "source": [
    "from typing import List, Tuple\n",
    "\n",
    "class Circle:\n",
    "    def __init__(self, \n",
    "                 x: float, \n",
    "                 y: float, \n",
    "                 radius: float,\n",
    "                 x_bounds: Tuple[float, float]):\n",
    "        self.x = x\n",
    "        self.y = y\n",
    "        self.radius = radius\n",
    "        \n",
    "# Algorithm\n",
    "# if outer arc is within left and right bounds, you know they overlap\n",
    "\n",
    "        \n",
    "def get_largest_area_circles(arr: List[Tuple[int, float]]) -> List[Tuple[int, float]]:\n",
    "    if len(arr) < 2:\n",
    "        return arr\n",
    "    \n",
    "    # Ensure x order for circles to cover for adjacent circles\n",
    "    \n",
    "    arr.sort(key=lambda circle: circle[0])\n",
    "    \n",
    "    res = list()\n",
    "    \n",
    "    circle_overlap_chain = [arr[0]]\n",
    "    \n",
    "    for cur_circle in arr[1:]:\n",
    "        x, y, radius = cur_circle\n",
    "        base_x, base_y, base_radius = circle_overlap_chain[-1]\n",
    "        base_x_bounds, base_y_bounds = calculate_bounds(base_x, base_y, base_radius)\n",
    "        \n",
    "        cur_x_bounds, cur_y_bounds = calculate_bounds(x, y, radius)\n",
    "\n",
    "        if base_x_bounds[0] <= cur_x_bounds[0] <= base_x_bounds[1] or \\\n",
    "            base_x_bounds[0] <= cur_x_bounds[1] <= base_x_bounds[1] or \\\n",
    "            base_y_bounds[0] <= cur_y_bounds[0] <= base_y_bounds[1] or \\\n",
    "            base_y_bounds[0] <= cur_y_bounds[1] <= base_y_bounds[1]:\n",
    "            circle_overlap_chain.append((x, y, radius))\n",
    "            continue\n",
    "            \n",
    "        if circle_overlap_chain:\n",
    "            print('enter')\n",
    "            print(cur_circle)\n",
    "            print(circle_overlap_chain)\n",
    "            print(res)\n",
    "            if len(circle_overlap_chain) == 1:\n",
    "                print('what')\n",
    "                max_circle = circle_overlap_chain.pop()\n",
    "                res.append(max_circle)\n",
    "            else:\n",
    "                max_circle = circle_overlap_chain.pop()\n",
    "                max_area = get_area(max_circle[2])\n",
    "\n",
    "                for i in range(1, len(circle_overlap_chain)):\n",
    "                    chain_circle = circle_overlap_chain.pop()\n",
    "                    chain_radius = chain_circle[2]\n",
    "                    cur_area = get_area(chain_radius)\n",
    "                    # largest area should be stored\n",
    "\n",
    "                    if max_area < cur_area:\n",
    "                        max_circle = chain_circle\n",
    "                        max_area = cur_area\n",
    "                #print(max_circle)\n",
    "                res.append(max_circle)\n",
    "            \n",
    "        circle_overlap_chain.append((x, y, radius))\n",
    "        # res.append((x, y, radius))\n",
    "    \n",
    "    print('out')\n",
    "    print(circle_overlap_chain)\n",
    "    if circle_overlap_chain:\n",
    "        print('enter')\n",
    "        print(cur_circle)\n",
    "        print(circle_overlap_chain)\n",
    "        print(res)\n",
    "        if len(circle_overlap_chain) == 1:\n",
    "            print('what')\n",
    "            max_circle = circle_overlap_chain.pop()\n",
    "            res.append(max_circle)\n",
    "        else:\n",
    "            max_circle = circle_overlap_chain.pop()\n",
    "            max_area = get_area(max_circle[2])\n",
    "\n",
    "            for i in range(1, len(circle_overlap_chain)):\n",
    "                circle = circle_overlap_chain.pop()\n",
    "                radius = circle[2]\n",
    "                cur_area = get_area(radius)\n",
    "                # largest area should be stored\n",
    "\n",
    "                if max_area < cur_area:\n",
    "                    max_circle = circle\n",
    "                    max_area = cur_area\n",
    "            #print(max_circle)\n",
    "            res.append(max_circle)\n",
    "    \n",
    "    print(f'Res: {res}')\n",
    "    \n",
    "    return res\n",
    "\n",
    "\"\"\"\n",
    "            for o_x, o_y, o_r in circle_overlap:\n",
    "                prior_area = get_area(res[-1][2])\n",
    "                cur_area = get_area(o_r)\n",
    "                # largest area should be stored\n",
    "                if prior_area < cur_area:\n",
    "                    res.pop()\n",
    "                    res.append((x, y, radius))\n",
    "\"\"\"\n",
    "def get_area(radius: float):\n",
    "    return radius**2\n",
    "\n",
    "\n",
    "def calculate_bounds(x: float, y: float, radius: float):\n",
    "    left_x_bound = x - radius\n",
    "    right_x_bound = x + radius\n",
    "\n",
    "    lower_y_bound = y - radius\n",
    "    upper_y_bound = y + radius\n",
    "    \n",
    "    return (left_x_bound, right_x_bound), (lower_y_bound, upper_y_bound)"
   ]
  },
  {
   "cell_type": "code",
   "execution_count": 125,
   "metadata": {},
   "outputs": [],
   "source": [
    "def get_largest_area_circles(arr: List[Tuple[int, float]]) -> List[Tuple[int, float]]:\n",
    "    if not arr or len(arr) < 2:\n",
    "        return arr\n",
    "    \n",
    "    # Ensure x sorted order for circles to put chained circle adjacent with one another\n",
    "    arr.sort(key=lambda circle: circle[0])\n",
    "    \n",
    "    res = list()\n",
    "    \n",
    "    circle_overlap_chain = [arr[0]]\n",
    "    \n",
    "    for cur_circle in arr[1:]:\n",
    "        prior_x, prior_y, prior_radius = circle_overlap_chain[-1]\n",
    "        x, y, radius = cur_circle\n",
    "        \n",
    "        if is_circle_overlap(prior_x, prior_y, prior_radius, x, y, radius):\n",
    "            circle_overlap_chain.append(cur_circle)\n",
    "            continue\n",
    "            \n",
    "        if circle_overlap_chain:\n",
    "            largest_circle = get_max_area_circle(circle_overlap_chain, res)\n",
    "            res.append(largest_circle)\n",
    "        \n",
    "        circle_overlap_chain.append(cur_circle)\n",
    "        \n",
    "    # Catch tail in case there is an overlap chain leftover\n",
    "    if circle_overlap_chain:\n",
    "        largest_circle = get_max_area_circle(circle_overlap_chain, res)\n",
    "        res.append(largest_circle)\n",
    "        \n",
    "    print(res)\n",
    "    return res\n",
    "\n",
    "def get_max_area_circle(circle_overlap_chain: List[Tuple[float, float, int]], \n",
    "                        res: List[Tuple[float, float, int]]) -> None:\n",
    "    \n",
    "    if len(circle_overlap_chain) == 1:\n",
    "        return circle_overlap_chain.pop()\n",
    "\n",
    "    max_circle = circle_overlap_chain.pop()\n",
    "    max_area = get_area(max_circle[2])\n",
    "\n",
    "    for i in range(1, len(circle_overlap_chain)):\n",
    "        chain_circle = circle_overlap_chain.pop()\n",
    "        chain_radius = chain_circle[2]\n",
    "        cur_area = get_area(chain_radius)\n",
    "        # largest area should be stored\n",
    "\n",
    "        if max_area < cur_area:\n",
    "            max_circle = chain_circle\n",
    "            max_area = cur_area\n",
    "    #print(max_circle)\n",
    "    return max_circle\n",
    "        \n",
    "import math\n",
    "def is_circle_overlap(x1: float, y1: float, radius1: float,\n",
    "                      x2: float, y2: float, radius2: float) -> bool:\n",
    "    \"\"\"\n",
    "    Assume circle overlap means there is a covered overlap region\n",
    "    Touching isn't included but can be by changing the boolean evaluation \n",
    "    from dist < total_radius to dist <= total_radius\n",
    "    \n",
    "    Distance formula from two circle centers is used to prove whether theres any overlap\n",
    "    against sum of the two radiuses\n",
    "    dist < r1+r2 -> overlap\n",
    "    dist == r1+r2 -> touching\n",
    "    dist > r1+r2 -> disjoint circles - no overlap\n",
    "    \"\"\"\n",
    "    # distance between circle centers\n",
    "    dist = math.sqrt((x1-x2)**2 + (y1-y2)**2)\n",
    "    \n",
    "    total_radius = radius1 + radius2\n",
    "    print((dist, total_radius))\n",
    "    return dist < total_radius\n",
    "\n",
    "def get_area(radius: float):\n",
    "    return radius**2"
   ]
  },
  {
   "cell_type": "code",
   "execution_count": 126,
   "metadata": {},
   "outputs": [
    {
     "name": "stdout",
     "output_type": "stream",
     "text": [
      "(0.28284271247461895, 0.9)\n",
      "(1.1313708498984762, 1.5)\n",
      "(3.5355339059327378, 1.8)\n",
      "[(1.5, 1.5, 1.1), (4, 4, 0.7)]\n"
     ]
    }
   ],
   "source": [
    "arr = [(0.5, 0.5, 0.5), (1.5, 1.5, 1.1), (0.7, 0.7, 0.4), (4, 4, 0.7)]\n",
    "\n",
    "# The bottom left circles form a cluster. Red circles are removed.\n",
    "expected = [(1.5, 1.5, 1.1), (4, 4, 0.7)]\n",
    "\n",
    "assert get_largest_area_circles(arr) == expected"
   ]
  },
  {
   "cell_type": "code",
   "execution_count": 127,
   "metadata": {},
   "outputs": [
    {
     "name": "stdout",
     "output_type": "stream",
     "text": [
      "(3.5355339059327378, 2.0)\n",
      "[(1.5, 1.5, 1.3), (4, 4, 0.7)]\n"
     ]
    }
   ],
   "source": [
    "arr = [(1.5, 1.5, 1.3), (4, 4, 0.7)]\n",
    "\n",
    "# No clusters are found and no circles are removed\n",
    "expected = [(1.5, 1.5, 1.3), (4, 4, 0.7)]\n",
    "\n",
    "assert get_largest_area_circles(arr) == expected"
   ]
  },
  {
   "cell_type": "code",
   "execution_count": 128,
   "metadata": {},
   "outputs": [
    {
     "name": "stdout",
     "output_type": "stream",
     "text": [
      "(1.0, 1.1)\n",
      "(1.0, 1.3)\n",
      "[(3, 3, 0.9)]\n"
     ]
    }
   ],
   "source": [
    "arr = [(1, 3, 0.7), (2, 3, 0.4), (3, 3, 0.9)]\n",
    "\n",
    "# The three circles form a cluster. Red circles are removed.\n",
    "expected = [(3, 3, 0.9)]\n",
    "\n",
    "assert get_largest_area_circles(arr) == expected"
   ]
  },
  {
   "cell_type": "code",
   "execution_count": 129,
   "metadata": {},
   "outputs": [
    {
     "name": "stdout",
     "output_type": "stream",
     "text": [
      "(0.28284271247461895, 0.9)\n",
      "(1.1313708498984762, 1.5)\n",
      "(3.5355339059327378, 1.8)\n",
      "[(1.5, 1.5, 1.1), (4, 4, 0.7)]\n"
     ]
    }
   ],
   "source": [
    "arr = [(4, 4, 0.7), (1.5, 1.5, 1.1), (0.7, 0.7, 0.4), (0.5, 0.5, 0.5)]\n",
    "\n",
    "# The bottom left circles form a cluster. Red circles are removed.\n",
    "expected = [(1.5, 1.5, 1.1), (4, 4, 0.7)]\n",
    "\n",
    "assert get_largest_area_circles(arr) == expected"
   ]
  },
  {
   "cell_type": "code",
   "execution_count": 133,
   "metadata": {},
   "outputs": [
    {
     "name": "stdout",
     "output_type": "stream",
     "text": [
      "(0.28284271247461895, 0.9)\n",
      "(1.1313708498984762, 1.5)\n",
      "(1.5, 2.1)\n",
      "[(1.5, 1.5, 1.1)]\n"
     ]
    },
    {
     "ename": "AssertionError",
     "evalue": "",
     "output_type": "error",
     "traceback": [
      "\u001b[0;31m---------------------------------------------------------------------------\u001b[0m",
      "\u001b[0;31mAssertionError\u001b[0m                            Traceback (most recent call last)",
      "\u001b[0;32m<ipython-input-133-367580620e4e>\u001b[0m in \u001b[0;36m<module>\u001b[0;34m\u001b[0m\n\u001b[1;32m      4\u001b[0m \u001b[0mexpected\u001b[0m \u001b[0;34m=\u001b[0m \u001b[0;34m[\u001b[0m\u001b[0;34m(\u001b[0m\u001b[0;36m1.5\u001b[0m\u001b[0;34m,\u001b[0m \u001b[0;36m1.5\u001b[0m\u001b[0;34m,\u001b[0m \u001b[0;36m1.1\u001b[0m\u001b[0;34m)\u001b[0m\u001b[0;34m,\u001b[0m \u001b[0;34m(\u001b[0m\u001b[0;36m4\u001b[0m\u001b[0;34m,\u001b[0m \u001b[0;36m4\u001b[0m\u001b[0;34m,\u001b[0m \u001b[0;36m0.7\u001b[0m\u001b[0;34m)\u001b[0m\u001b[0;34m]\u001b[0m\u001b[0;34m\u001b[0m\u001b[0;34m\u001b[0m\u001b[0m\n\u001b[1;32m      5\u001b[0m \u001b[0;34m\u001b[0m\u001b[0m\n\u001b[0;32m----> 6\u001b[0;31m \u001b[0;32massert\u001b[0m \u001b[0mget_largest_area_circles\u001b[0m\u001b[0;34m(\u001b[0m\u001b[0marr\u001b[0m\u001b[0;34m)\u001b[0m \u001b[0;34m==\u001b[0m \u001b[0mexpected\u001b[0m\u001b[0;34m\u001b[0m\u001b[0;34m\u001b[0m\u001b[0m\n\u001b[0m",
      "\u001b[0;31mAssertionError\u001b[0m: "
     ]
    }
   ],
   "source": [
    "arr = [(3, 1.5, 1), (1.5, 1.5, 1.1), (0.7, 0.7, 0.4), (0.5, 0.5, 0.5)]\n",
    "\n",
    "# The bottom left circles form a cluster. Red circles are removed.\n",
    "expected = [(1.5, 1.5, 1.1), (4, 4, 0.7)]\n",
    "\n",
    "assert get_largest_area_circles(arr) == expected"
   ]
  },
  {
   "cell_type": "code",
   "execution_count": 139,
   "metadata": {},
   "outputs": [
    {
     "data": {
      "text/plain": [
       "<matplotlib.patches.Circle at 0x1101cfd00>"
      ]
     },
     "execution_count": 139,
     "metadata": {},
     "output_type": "execute_result"
    },
    {
     "data": {
      "image/png": "[encoded data removed]",
      "text/plain": [
       "<Figure size 432x288 with 1 Axes>"
      ]
     },
     "metadata": {
      "needs_background": "light"
     },
     "output_type": "display_data"
    }
   ],
   "source": [
    "import matplotlib.pyplot as plt\n",
    "\n",
    "circle1 = plt.Circle((0.5, 0.5), 0.5, color='r')\n",
    "circle2 = plt.Circle((0.5, 1.5), 0.2, color='blue')\n",
    "circle3 = plt.Circle((0.5, 0.5), 0.5, color='g', clip_on=False)\n",
    "\n",
    "fig, ax = plt.subplots() \n",
    "ax.set_xlim((0, 10))\n",
    "ax.set_ylim((0, 10))\n",
    "\n",
    "ax.add_patch(circle1)\n",
    "ax.add_patch(circle2)\n",
    "ax.add_patch(circle3)"
   ]
  }
 ],
 "metadata": {
  "kernelspec": {
   "display_name": "Python 3",
   "language": "python",
   "name": "python3"
  },
  "language_info": {
   "codemirror_mode": {
    "name": "ipython",
    "version": 3
   },
   "file_extension": ".py",
   "mimetype": "text/x-python",
   "name": "python",
   "nbconvert_exporter": "python",
   "pygments_lexer": "ipython3",
   "version": "3.8.6"
  }
 },
 "nbformat": 4,
 "nbformat_minor": 4
}
